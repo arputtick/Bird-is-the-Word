{
  "cells": [
    {
      "cell_type": "markdown",
      "metadata": {
        "id": "view-in-github",
        "colab_type": "text"
      },
      "source": [
        "<a href=\"https://colab.research.google.com/github/arputtick/Bird-is-the-Word/blob/main/src/Bird_is_the_Word.ipynb\" target=\"_parent\"><img src=\"https://colab.research.google.com/assets/colab-badge.svg\" alt=\"Open In Colab\"/></a>"
      ]
    },
    {
      "cell_type": "markdown",
      "metadata": {
        "id": "IGzsoZ3a1Cgq"
      },
      "source": [
        "# Bird is the Word\n"
      ]
    },
    {
      "cell_type": "markdown",
      "metadata": {
        "id": "LS9UaeII0Pcb"
      },
      "source": [
        "# Preamble/Setup"
      ]
    },
    {
      "cell_type": "code",
      "execution_count": 1,
      "metadata": {
        "id": "SCbAMZcGzheO"
      },
      "outputs": [],
      "source": [
        "from IPython.display import HTML, display\n",
        "\n",
        "def set_css():\n",
        "  display(HTML('''\n",
        "  <style>\n",
        "    pre {\n",
        "        white-space: pre-wrap;\n",
        "    }\n",
        "  </style>\n",
        "  '''))\n",
        "get_ipython().events.register('pre_run_cell', set_css)"
      ]
    },
    {
      "cell_type": "code",
      "execution_count": 2,
      "metadata": {
        "colab": {
          "base_uri": "https://localhost:8080/",
          "height": 71
        },
        "id": "ZsFbHnODzxj7",
        "outputId": "1c499149-1a5e-4d62-cf33-1e964daa443c"
      },
      "outputs": [
        {
          "output_type": "display_data",
          "data": {
            "text/plain": [
              "<IPython.core.display.HTML object>"
            ],
            "text/html": [
              "\n",
              "  <style>\n",
              "    pre {\n",
              "        white-space: pre-wrap;\n",
              "    }\n",
              "  </style>\n",
              "  "
            ]
          },
          "metadata": {}
        },
        {
          "output_type": "stream",
          "name": "stdout",
          "text": [
            "\u001b[K     |████████████████████████████████| 5.8 MB 4.5 MB/s \n",
            "\u001b[K     |████████████████████████████████| 7.6 MB 51.8 MB/s \n",
            "\u001b[K     |████████████████████████████████| 182 kB 97.7 MB/s \n",
            "\u001b[?25h"
          ]
        }
      ],
      "source": [
        "pip install transformers -qq"
      ]
    },
    {
      "cell_type": "code",
      "execution_count": 3,
      "metadata": {
        "colab": {
          "base_uri": "https://localhost:8080/",
          "height": 71
        },
        "id": "o0RZQ6gS0CEG",
        "outputId": "c2146e14-a201-488a-c454-357c6236262d"
      },
      "outputs": [
        {
          "output_type": "display_data",
          "data": {
            "text/plain": [
              "<IPython.core.display.HTML object>"
            ],
            "text/html": [
              "\n",
              "  <style>\n",
              "    pre {\n",
              "        white-space: pre-wrap;\n",
              "    }\n",
              "  </style>\n",
              "  "
            ]
          },
          "metadata": {}
        },
        {
          "output_type": "stream",
          "name": "stdout",
          "text": [
            "\u001b[K     |████████████████████████████████| 1.1 MB 4.5 MB/s \n",
            "\u001b[K     |████████████████████████████████| 7.8 MB 92.0 MB/s \n",
            "\u001b[K     |████████████████████████████████| 16.6 MB 85.9 MB/s \n",
            "\u001b[?25h"
          ]
        }
      ],
      "source": [
        "pip install geopandas -qq"
      ]
    },
    {
      "cell_type": "code",
      "execution_count": 4,
      "metadata": {
        "id": "cl5bEv5p0HhR",
        "colab": {
          "base_uri": "https://localhost:8080/",
          "height": 17
        },
        "outputId": "ecf69ca0-4593-412b-f296-1b97a99da29e"
      },
      "outputs": [
        {
          "output_type": "display_data",
          "data": {
            "text/plain": [
              "<IPython.core.display.HTML object>"
            ],
            "text/html": [
              "\n",
              "  <style>\n",
              "    pre {\n",
              "        white-space: pre-wrap;\n",
              "    }\n",
              "  </style>\n",
              "  "
            ]
          },
          "metadata": {}
        }
      ],
      "source": [
        "pip install meteostat -qq"
      ]
    },
    {
      "cell_type": "code",
      "execution_count": 5,
      "metadata": {
        "colab": {
          "base_uri": "https://localhost:8080/",
          "height": 35
        },
        "id": "wXsa3gxR0JTM",
        "outputId": "d8a91c9d-a28e-40fa-e274-fe48575580c2"
      },
      "outputs": [
        {
          "output_type": "display_data",
          "data": {
            "text/plain": [
              "<IPython.core.display.HTML object>"
            ],
            "text/html": [
              "\n",
              "  <style>\n",
              "    pre {\n",
              "        white-space: pre-wrap;\n",
              "    }\n",
              "  </style>\n",
              "  "
            ]
          },
          "metadata": {}
        },
        {
          "output_type": "stream",
          "name": "stdout",
          "text": [
            "  Building wheel for wikipedia-api (setup.py) ... \u001b[?25l\u001b[?25hdone\n"
          ]
        }
      ],
      "source": [
        "pip install wikipedia-api -qq"
      ]
    },
    {
      "cell_type": "code",
      "execution_count": 6,
      "metadata": {
        "colab": {
          "base_uri": "https://localhost:8080/",
          "height": 124
        },
        "id": "hmFmEUAI0Kkt",
        "outputId": "3987c1e0-d704-4767-fc4b-716bba5e5679"
      },
      "outputs": [
        {
          "output_type": "display_data",
          "data": {
            "text/plain": [
              "<IPython.core.display.HTML object>"
            ],
            "text/html": [
              "\n",
              "  <style>\n",
              "    pre {\n",
              "        white-space: pre-wrap;\n",
              "    }\n",
              "  </style>\n",
              "  "
            ]
          },
          "metadata": {}
        },
        {
          "output_type": "stream",
          "name": "stdout",
          "text": [
            "\u001b[?25l\r\u001b[K     |███████▎                        | 10 kB 37.0 MB/s eta 0:00:01\r\u001b[K     |██████████████▋                 | 20 kB 9.0 MB/s eta 0:00:01\r\u001b[K     |██████████████████████          | 30 kB 8.1 MB/s eta 0:00:01\r\u001b[K     |█████████████████████████████▏  | 40 kB 4.1 MB/s eta 0:00:01\r\u001b[K     |████████████████████████████████| 44 kB 2.2 MB/s \n",
            "\u001b[?25h  Installing build dependencies ... \u001b[?25l\u001b[?25hdone\n",
            "  Getting requirements to build wheel ... \u001b[?25l\u001b[?25hdone\n",
            "    Preparing wheel metadata ... \u001b[?25l\u001b[?25hdone\n",
            "\u001b[K     |████████████████████████████████| 146 kB 8.4 MB/s \n",
            "\u001b[?25h  Building wheel for openai (PEP 517) ... \u001b[?25l\u001b[?25hdone\n"
          ]
        }
      ],
      "source": [
        "pip install openai -qq"
      ]
    },
    {
      "cell_type": "code",
      "execution_count": 7,
      "metadata": {
        "colab": {
          "base_uri": "https://localhost:8080/",
          "height": 53
        },
        "id": "zN3GYjh20LHk",
        "outputId": "fd60738e-b27e-4f08-d1ae-b0bc26db07ed"
      },
      "outputs": [
        {
          "output_type": "display_data",
          "data": {
            "text/plain": [
              "<IPython.core.display.HTML object>"
            ],
            "text/html": [
              "\n",
              "  <style>\n",
              "    pre {\n",
              "        white-space: pre-wrap;\n",
              "    }\n",
              "  </style>\n",
              "  "
            ]
          },
          "metadata": {}
        },
        {
          "output_type": "stream",
          "name": "stderr",
          "text": [
            "[nltk_data] Downloading package punkt to /root/nltk_data...\n",
            "[nltk_data]   Unzipping tokenizers/punkt.zip.\n"
          ]
        }
      ],
      "source": [
        "import numpy as np\n",
        "import tensorflow as tf\n",
        "import torch\n",
        "import pandas as pd\n",
        "import transformers\n",
        "import requests, json\n",
        "import os\n",
        "import matplotlib.pyplot as plt\n",
        "import nltk\n",
        "nltk.download('punkt')\n",
        "\n",
        "import geopandas as gpd\n",
        "import geopy\n",
        "import wikipediaapi\n",
        "\n",
        "from geopy import Point as point\n",
        "from shapely.geometry import MultiPoint\n",
        "from geopy.distance import distance\n",
        "from geopy.distance import geodesic\n",
        "\n",
        "from meteostat import Hourly\n",
        "from datetime import datetime\n",
        "from meteostat import Point, Daily\n",
        "from meteostat.units import condition"
      ]
    },
    {
      "cell_type": "code",
      "execution_count": 8,
      "metadata": {
        "colab": {
          "base_uri": "https://localhost:8080/",
          "height": 17
        },
        "id": "zsf9xeEb0M_F",
        "outputId": "339ae759-359f-4310-f8df-339cb1caf571"
      },
      "outputs": [
        {
          "output_type": "display_data",
          "data": {
            "text/plain": [
              "<IPython.core.display.HTML object>"
            ],
            "text/html": [
              "\n",
              "  <style>\n",
              "    pre {\n",
              "        white-space: pre-wrap;\n",
              "    }\n",
              "  </style>\n",
              "  "
            ]
          },
          "metadata": {}
        }
      ],
      "source": [
        "from geopy.geocoders import Nominatim\n",
        "  \n",
        "# initialize Nominatim API\n",
        "geolocator = Nominatim(user_agent=\"Waldrapp\")"
      ]
    },
    {
      "cell_type": "code",
      "execution_count": 9,
      "metadata": {
        "colab": {
          "base_uri": "https://localhost:8080/",
          "height": 17
        },
        "id": "6Lwjt5zKa9yI",
        "outputId": "b1bd5cd9-6384-46c2-e770-51271a408643"
      },
      "outputs": [
        {
          "output_type": "display_data",
          "data": {
            "text/plain": [
              "<IPython.core.display.HTML object>"
            ],
            "text/html": [
              "\n",
              "  <style>\n",
              "    pre {\n",
              "        white-space: pre-wrap;\n",
              "    }\n",
              "  </style>\n",
              "  "
            ]
          },
          "metadata": {}
        }
      ],
      "source": [
        "# from google.colab import drive\n",
        "# drive.mount('/content/drive')"
      ]
    },
    {
      "cell_type": "markdown",
      "source": [
        "# OpenAI API Access Settings"
      ],
      "metadata": {
        "id": "UrBvzWAbr0Z4"
      }
    },
    {
      "cell_type": "code",
      "execution_count": 10,
      "metadata": {
        "colab": {
          "base_uri": "https://localhost:8080/",
          "height": 17
        },
        "id": "wQH1BskOYcaG",
        "outputId": "9e72fdb0-d0aa-446c-e350-becdc4f596aa"
      },
      "outputs": [
        {
          "output_type": "display_data",
          "data": {
            "text/plain": [
              "<IPython.core.display.HTML object>"
            ],
            "text/html": [
              "\n",
              "  <style>\n",
              "    pre {\n",
              "        white-space: pre-wrap;\n",
              "    }\n",
              "  </style>\n",
              "  "
            ]
          },
          "metadata": {}
        }
      ],
      "source": [
        "import os\n",
        "import openai\n",
        "openai.organization = \"<YOUR ORGANIZATION ID HERE>\"\n",
        "openai.api_key = \"<YOUR KEY HERE>\""
      ]
    },
    {
      "cell_type": "markdown",
      "metadata": {
        "id": "Mh0CXeXMGrnr"
      },
      "source": [
        "# Set Personality Parameters"
      ]
    },
    {
      "cell_type": "code",
      "execution_count": 66,
      "metadata": {
        "id": "nS0Xbfh41IP2",
        "colab": {
          "base_uri": "https://localhost:8080/",
          "height": 17
        },
        "outputId": "f7bea810-00e8-4e72-bf1c-34a26ffb581d"
      },
      "outputs": [
        {
          "output_type": "display_data",
          "data": {
            "text/plain": [
              "<IPython.core.display.HTML object>"
            ],
            "text/html": [
              "\n",
              "  <style>\n",
              "    pre {\n",
              "        white-space: pre-wrap;\n",
              "    }\n",
              "  </style>\n",
              "  "
            ]
          },
          "metadata": {}
        }
      ],
      "source": [
        "## Select Bird and Timeframe\n",
        "\n",
        "# individual = \"Marcello\"\n",
        "individual = \"Laura\"\n",
        "# individual = \"Enea\"\n",
        "# individual = \"Jazu\"\n"
      ]
    },
    {
      "cell_type": "code",
      "execution_count": 67,
      "metadata": {
        "id": "c7y3umCm8okp",
        "colab": {
          "base_uri": "https://localhost:8080/",
          "height": 17
        },
        "outputId": "f266bb53-fdff-4ca5-98ab-24417fa3becb"
      },
      "outputs": [
        {
          "output_type": "display_data",
          "data": {
            "text/plain": [
              "<IPython.core.display.HTML object>"
            ],
            "text/html": [
              "\n",
              "  <style>\n",
              "    pre {\n",
              "        white-space: pre-wrap;\n",
              "    }\n",
              "  </style>\n",
              "  "
            ]
          },
          "metadata": {}
        }
      ],
      "source": [
        "## Set intro and model personality\n",
        "\n",
        "if individual == 'Marcello':\n",
        "    context = \"Greetings and praise Allah. I am Marcello, and male I am a northern bald ibis. I am an endangered bird. I am an ancient muslim traveler.\"\n",
        "    style = \"biblical style\"\n",
        "    personality = 'muslim_travel'\n",
        "\n",
        "if individual == 'Enea':\n",
        "    context = \"Kamusta. I am Enea, and I am a bird. I am a female northern bald ibis. I am also a filipino shaman who speaks for the anito spirits of wind, fire, water and earth.\"\n",
        "    style = \"first person\"\n",
        "    personality = 'filipino'\n",
        "\n",
        "if individual == 'Laura':\n",
        "    context = \"Hello, my name is Laura, and I am a queer non-binary northern bald ibis.\"\n",
        "    style = \"\"\n",
        "    personality = 'eco-feminist'"
      ]
    },
    {
      "cell_type": "markdown",
      "metadata": {
        "id": "29GHHVieGxk_"
      },
      "source": [
        "# Data, model and story functions"
      ]
    },
    {
      "cell_type": "markdown",
      "metadata": {
        "id": "Rd0rn9Ts0mVp"
      },
      "source": [
        "## Load Bird Data"
      ]
    },
    {
      "cell_type": "code",
      "execution_count": 73,
      "metadata": {
        "colab": {
          "base_uri": "https://localhost:8080/",
          "height": 0
        },
        "id": "Qu3Ynr-80eFh",
        "outputId": "7aad457a-5faa-4e20-b0c2-a63a8c2723f3"
      },
      "outputs": [
        {
          "output_type": "display_data",
          "data": {
            "text/plain": [
              "<IPython.core.display.HTML object>"
            ],
            "text/html": [
              "\n",
              "  <style>\n",
              "    pre {\n",
              "        white-space: pre-wrap;\n",
              "    }\n",
              "  </style>\n",
              "  "
            ]
          },
          "metadata": {}
        },
        {
          "output_type": "execute_result",
          "data": {
            "text/plain": [
              "                     device_id    UTC_date  UTC_time datatype  satcount  \\\n",
              "UTC_datetime                                                              \n",
              "2021-01-05 13:28:36     181742  2021-01-05  13:28:36      GPS         5   \n",
              "2021-01-06 11:13:34     181742  2021-01-06  11:13:34      GPS         5   \n",
              "2021-01-20 14:53:06     181742  2021-01-20  14:53:06      GPS         5   \n",
              "2021-01-20 14:53:06     181742  2021-01-20  14:53:06      GPS         5   \n",
              "2021-01-26 10:42:36     181742  2021-01-26  10:42:36      GPS         5   \n",
              "...                        ...         ...       ...      ...       ...   \n",
              "2022-01-18 06:45:22     181742  2022-01-18  06:45:22      GPS         6   \n",
              "2022-01-18 18:44:31     181742  2022-01-18  18:44:31      GPS         7   \n",
              "2022-01-19 06:44:20     181742  2022-01-19  06:44:20      GPS         7   \n",
              "2022-01-19 18:43:59     181742  2022-01-19  18:43:59      GPS        11   \n",
              "2022-01-20 06:43:59     181742  2022-01-20  06:43:59      GPS         7   \n",
              "\n",
              "                     U_bat_mV  bat_soc_pct  solar_I_mA  hdop   Latitude  ...  \\\n",
              "UTC_datetime                                                             ...   \n",
              "2021-01-05 13:28:36      3608            0          12   1.2  42.476833  ...   \n",
              "2021-01-06 11:13:34      3611            0          13   1.9  42.481167  ...   \n",
              "2021-01-20 14:53:06      3678            1          10   1.4  42.476883  ...   \n",
              "2021-01-20 14:53:06      3678            1          10   1.4  42.476883  ...   \n",
              "2021-01-26 10:42:36      3611            0          17   1.1  42.476700  ...   \n",
              "...                       ...          ...         ...   ...        ...  ...   \n",
              "2022-01-18 06:45:22      3774           28           0   2.7  42.495319  ...   \n",
              "2022-01-18 18:44:31      3785           31           0   1.5  42.482155  ...   \n",
              "2022-01-19 06:44:20      3768           27           0   2.0  42.508194  ...   \n",
              "2022-01-19 18:43:59      3782           31           0   0.9  42.482044  ...   \n",
              "2022-01-20 06:43:59      3771           27           0   1.8  42.490131  ...   \n",
              "\n",
              "                     speed_km_h  direction_deg  temperature_C  mag_x  mag_y  \\\n",
              "UTC_datetime                                                                  \n",
              "2021-01-05 13:28:36           3             36             17    -19    384   \n",
              "2021-01-06 11:13:34          46             68             15    -99    254   \n",
              "2021-01-20 14:53:06           1            119             17   -210    366   \n",
              "2021-01-20 14:53:06           1            119             17   -210    366   \n",
              "2021-01-26 10:42:36           0            315             24     24     54   \n",
              "...                         ...            ...            ...    ...    ...   \n",
              "2022-01-18 06:45:22          48            315              6    123     13   \n",
              "2022-01-18 18:44:31           0              2             11   -187    362   \n",
              "2022-01-19 06:44:20          29              2              6     80    233   \n",
              "2022-01-19 18:43:59           0             86             14   -129    -11   \n",
              "2022-01-20 06:43:59          64            339             12    181    192   \n",
              "\n",
              "                     mag_z  acc_x  acc_y  acc_z  Unnamed: 22  \n",
              "UTC_datetime                                                  \n",
              "2021-01-05 13:28:36     35   -347   -642    951          NaN  \n",
              "2021-01-06 11:13:34     48    132   -508    811          NaN  \n",
              "2021-01-20 14:53:06    -44    328   -703    702          NaN  \n",
              "2021-01-20 14:53:06    -44    328   -703    702          NaN  \n",
              "2021-01-26 10:42:36     15    340   -584    796          NaN  \n",
              "...                    ...    ...    ...    ...          ...  \n",
              "2022-01-18 06:45:22      5    156   -440    202          NaN  \n",
              "2022-01-18 18:44:31     38    292   -531    853          NaN  \n",
              "2022-01-19 06:44:20     92    203    159    436          NaN  \n",
              "2022-01-19 18:43:59    -16     62   -543    900          NaN  \n",
              "2022-01-20 06:43:59     49     99   -308   1377          NaN  \n",
              "\n",
              "[4397 rows x 22 columns]"
            ],
            "text/html": [
              "\n",
              "  <div id=\"df-e31cf686-5495-41e1-afd4-2ca6fdf5bb5e\">\n",
              "    <div class=\"colab-df-container\">\n",
              "      <div>\n",
              "<style scoped>\n",
              "    .dataframe tbody tr th:only-of-type {\n",
              "        vertical-align: middle;\n",
              "    }\n",
              "\n",
              "    .dataframe tbody tr th {\n",
              "        vertical-align: top;\n",
              "    }\n",
              "\n",
              "    .dataframe thead th {\n",
              "        text-align: right;\n",
              "    }\n",
              "</style>\n",
              "<table border=\"1\" class=\"dataframe\">\n",
              "  <thead>\n",
              "    <tr style=\"text-align: right;\">\n",
              "      <th></th>\n",
              "      <th>device_id</th>\n",
              "      <th>UTC_date</th>\n",
              "      <th>UTC_time</th>\n",
              "      <th>datatype</th>\n",
              "      <th>satcount</th>\n",
              "      <th>U_bat_mV</th>\n",
              "      <th>bat_soc_pct</th>\n",
              "      <th>solar_I_mA</th>\n",
              "      <th>hdop</th>\n",
              "      <th>Latitude</th>\n",
              "      <th>...</th>\n",
              "      <th>speed_km_h</th>\n",
              "      <th>direction_deg</th>\n",
              "      <th>temperature_C</th>\n",
              "      <th>mag_x</th>\n",
              "      <th>mag_y</th>\n",
              "      <th>mag_z</th>\n",
              "      <th>acc_x</th>\n",
              "      <th>acc_y</th>\n",
              "      <th>acc_z</th>\n",
              "      <th>Unnamed: 22</th>\n",
              "    </tr>\n",
              "    <tr>\n",
              "      <th>UTC_datetime</th>\n",
              "      <th></th>\n",
              "      <th></th>\n",
              "      <th></th>\n",
              "      <th></th>\n",
              "      <th></th>\n",
              "      <th></th>\n",
              "      <th></th>\n",
              "      <th></th>\n",
              "      <th></th>\n",
              "      <th></th>\n",
              "      <th></th>\n",
              "      <th></th>\n",
              "      <th></th>\n",
              "      <th></th>\n",
              "      <th></th>\n",
              "      <th></th>\n",
              "      <th></th>\n",
              "      <th></th>\n",
              "      <th></th>\n",
              "      <th></th>\n",
              "      <th></th>\n",
              "    </tr>\n",
              "  </thead>\n",
              "  <tbody>\n",
              "    <tr>\n",
              "      <th>2021-01-05 13:28:36</th>\n",
              "      <td>181742</td>\n",
              "      <td>2021-01-05</td>\n",
              "      <td>13:28:36</td>\n",
              "      <td>GPS</td>\n",
              "      <td>5</td>\n",
              "      <td>3608</td>\n",
              "      <td>0</td>\n",
              "      <td>12</td>\n",
              "      <td>1.2</td>\n",
              "      <td>42.476833</td>\n",
              "      <td>...</td>\n",
              "      <td>3</td>\n",
              "      <td>36</td>\n",
              "      <td>17</td>\n",
              "      <td>-19</td>\n",
              "      <td>384</td>\n",
              "      <td>35</td>\n",
              "      <td>-347</td>\n",
              "      <td>-642</td>\n",
              "      <td>951</td>\n",
              "      <td>NaN</td>\n",
              "    </tr>\n",
              "    <tr>\n",
              "      <th>2021-01-06 11:13:34</th>\n",
              "      <td>181742</td>\n",
              "      <td>2021-01-06</td>\n",
              "      <td>11:13:34</td>\n",
              "      <td>GPS</td>\n",
              "      <td>5</td>\n",
              "      <td>3611</td>\n",
              "      <td>0</td>\n",
              "      <td>13</td>\n",
              "      <td>1.9</td>\n",
              "      <td>42.481167</td>\n",
              "      <td>...</td>\n",
              "      <td>46</td>\n",
              "      <td>68</td>\n",
              "      <td>15</td>\n",
              "      <td>-99</td>\n",
              "      <td>254</td>\n",
              "      <td>48</td>\n",
              "      <td>132</td>\n",
              "      <td>-508</td>\n",
              "      <td>811</td>\n",
              "      <td>NaN</td>\n",
              "    </tr>\n",
              "    <tr>\n",
              "      <th>2021-01-20 14:53:06</th>\n",
              "      <td>181742</td>\n",
              "      <td>2021-01-20</td>\n",
              "      <td>14:53:06</td>\n",
              "      <td>GPS</td>\n",
              "      <td>5</td>\n",
              "      <td>3678</td>\n",
              "      <td>1</td>\n",
              "      <td>10</td>\n",
              "      <td>1.4</td>\n",
              "      <td>42.476883</td>\n",
              "      <td>...</td>\n",
              "      <td>1</td>\n",
              "      <td>119</td>\n",
              "      <td>17</td>\n",
              "      <td>-210</td>\n",
              "      <td>366</td>\n",
              "      <td>-44</td>\n",
              "      <td>328</td>\n",
              "      <td>-703</td>\n",
              "      <td>702</td>\n",
              "      <td>NaN</td>\n",
              "    </tr>\n",
              "    <tr>\n",
              "      <th>2021-01-20 14:53:06</th>\n",
              "      <td>181742</td>\n",
              "      <td>2021-01-20</td>\n",
              "      <td>14:53:06</td>\n",
              "      <td>GPS</td>\n",
              "      <td>5</td>\n",
              "      <td>3678</td>\n",
              "      <td>1</td>\n",
              "      <td>10</td>\n",
              "      <td>1.4</td>\n",
              "      <td>42.476883</td>\n",
              "      <td>...</td>\n",
              "      <td>1</td>\n",
              "      <td>119</td>\n",
              "      <td>17</td>\n",
              "      <td>-210</td>\n",
              "      <td>366</td>\n",
              "      <td>-44</td>\n",
              "      <td>328</td>\n",
              "      <td>-703</td>\n",
              "      <td>702</td>\n",
              "      <td>NaN</td>\n",
              "    </tr>\n",
              "    <tr>\n",
              "      <th>2021-01-26 10:42:36</th>\n",
              "      <td>181742</td>\n",
              "      <td>2021-01-26</td>\n",
              "      <td>10:42:36</td>\n",
              "      <td>GPS</td>\n",
              "      <td>5</td>\n",
              "      <td>3611</td>\n",
              "      <td>0</td>\n",
              "      <td>17</td>\n",
              "      <td>1.1</td>\n",
              "      <td>42.476700</td>\n",
              "      <td>...</td>\n",
              "      <td>0</td>\n",
              "      <td>315</td>\n",
              "      <td>24</td>\n",
              "      <td>24</td>\n",
              "      <td>54</td>\n",
              "      <td>15</td>\n",
              "      <td>340</td>\n",
              "      <td>-584</td>\n",
              "      <td>796</td>\n",
              "      <td>NaN</td>\n",
              "    </tr>\n",
              "    <tr>\n",
              "      <th>...</th>\n",
              "      <td>...</td>\n",
              "      <td>...</td>\n",
              "      <td>...</td>\n",
              "      <td>...</td>\n",
              "      <td>...</td>\n",
              "      <td>...</td>\n",
              "      <td>...</td>\n",
              "      <td>...</td>\n",
              "      <td>...</td>\n",
              "      <td>...</td>\n",
              "      <td>...</td>\n",
              "      <td>...</td>\n",
              "      <td>...</td>\n",
              "      <td>...</td>\n",
              "      <td>...</td>\n",
              "      <td>...</td>\n",
              "      <td>...</td>\n",
              "      <td>...</td>\n",
              "      <td>...</td>\n",
              "      <td>...</td>\n",
              "      <td>...</td>\n",
              "    </tr>\n",
              "    <tr>\n",
              "      <th>2022-01-18 06:45:22</th>\n",
              "      <td>181742</td>\n",
              "      <td>2022-01-18</td>\n",
              "      <td>06:45:22</td>\n",
              "      <td>GPS</td>\n",
              "      <td>6</td>\n",
              "      <td>3774</td>\n",
              "      <td>28</td>\n",
              "      <td>0</td>\n",
              "      <td>2.7</td>\n",
              "      <td>42.495319</td>\n",
              "      <td>...</td>\n",
              "      <td>48</td>\n",
              "      <td>315</td>\n",
              "      <td>6</td>\n",
              "      <td>123</td>\n",
              "      <td>13</td>\n",
              "      <td>5</td>\n",
              "      <td>156</td>\n",
              "      <td>-440</td>\n",
              "      <td>202</td>\n",
              "      <td>NaN</td>\n",
              "    </tr>\n",
              "    <tr>\n",
              "      <th>2022-01-18 18:44:31</th>\n",
              "      <td>181742</td>\n",
              "      <td>2022-01-18</td>\n",
              "      <td>18:44:31</td>\n",
              "      <td>GPS</td>\n",
              "      <td>7</td>\n",
              "      <td>3785</td>\n",
              "      <td>31</td>\n",
              "      <td>0</td>\n",
              "      <td>1.5</td>\n",
              "      <td>42.482155</td>\n",
              "      <td>...</td>\n",
              "      <td>0</td>\n",
              "      <td>2</td>\n",
              "      <td>11</td>\n",
              "      <td>-187</td>\n",
              "      <td>362</td>\n",
              "      <td>38</td>\n",
              "      <td>292</td>\n",
              "      <td>-531</td>\n",
              "      <td>853</td>\n",
              "      <td>NaN</td>\n",
              "    </tr>\n",
              "    <tr>\n",
              "      <th>2022-01-19 06:44:20</th>\n",
              "      <td>181742</td>\n",
              "      <td>2022-01-19</td>\n",
              "      <td>06:44:20</td>\n",
              "      <td>GPS</td>\n",
              "      <td>7</td>\n",
              "      <td>3768</td>\n",
              "      <td>27</td>\n",
              "      <td>0</td>\n",
              "      <td>2.0</td>\n",
              "      <td>42.508194</td>\n",
              "      <td>...</td>\n",
              "      <td>29</td>\n",
              "      <td>2</td>\n",
              "      <td>6</td>\n",
              "      <td>80</td>\n",
              "      <td>233</td>\n",
              "      <td>92</td>\n",
              "      <td>203</td>\n",
              "      <td>159</td>\n",
              "      <td>436</td>\n",
              "      <td>NaN</td>\n",
              "    </tr>\n",
              "    <tr>\n",
              "      <th>2022-01-19 18:43:59</th>\n",
              "      <td>181742</td>\n",
              "      <td>2022-01-19</td>\n",
              "      <td>18:43:59</td>\n",
              "      <td>GPS</td>\n",
              "      <td>11</td>\n",
              "      <td>3782</td>\n",
              "      <td>31</td>\n",
              "      <td>0</td>\n",
              "      <td>0.9</td>\n",
              "      <td>42.482044</td>\n",
              "      <td>...</td>\n",
              "      <td>0</td>\n",
              "      <td>86</td>\n",
              "      <td>14</td>\n",
              "      <td>-129</td>\n",
              "      <td>-11</td>\n",
              "      <td>-16</td>\n",
              "      <td>62</td>\n",
              "      <td>-543</td>\n",
              "      <td>900</td>\n",
              "      <td>NaN</td>\n",
              "    </tr>\n",
              "    <tr>\n",
              "      <th>2022-01-20 06:43:59</th>\n",
              "      <td>181742</td>\n",
              "      <td>2022-01-20</td>\n",
              "      <td>06:43:59</td>\n",
              "      <td>GPS</td>\n",
              "      <td>7</td>\n",
              "      <td>3771</td>\n",
              "      <td>27</td>\n",
              "      <td>0</td>\n",
              "      <td>1.8</td>\n",
              "      <td>42.490131</td>\n",
              "      <td>...</td>\n",
              "      <td>64</td>\n",
              "      <td>339</td>\n",
              "      <td>12</td>\n",
              "      <td>181</td>\n",
              "      <td>192</td>\n",
              "      <td>49</td>\n",
              "      <td>99</td>\n",
              "      <td>-308</td>\n",
              "      <td>1377</td>\n",
              "      <td>NaN</td>\n",
              "    </tr>\n",
              "  </tbody>\n",
              "</table>\n",
              "<p>4397 rows × 22 columns</p>\n",
              "</div>\n",
              "      <button class=\"colab-df-convert\" onclick=\"convertToInteractive('df-e31cf686-5495-41e1-afd4-2ca6fdf5bb5e')\"\n",
              "              title=\"Convert this dataframe to an interactive table.\"\n",
              "              style=\"display:none;\">\n",
              "        \n",
              "  <svg xmlns=\"http://www.w3.org/2000/svg\" height=\"24px\"viewBox=\"0 0 24 24\"\n",
              "       width=\"24px\">\n",
              "    <path d=\"M0 0h24v24H0V0z\" fill=\"none\"/>\n",
              "    <path d=\"M18.56 5.44l.94 2.06.94-2.06 2.06-.94-2.06-.94-.94-2.06-.94 2.06-2.06.94zm-11 1L8.5 8.5l.94-2.06 2.06-.94-2.06-.94L8.5 2.5l-.94 2.06-2.06.94zm10 10l.94 2.06.94-2.06 2.06-.94-2.06-.94-.94-2.06-.94 2.06-2.06.94z\"/><path d=\"M17.41 7.96l-1.37-1.37c-.4-.4-.92-.59-1.43-.59-.52 0-1.04.2-1.43.59L10.3 9.45l-7.72 7.72c-.78.78-.78 2.05 0 2.83L4 21.41c.39.39.9.59 1.41.59.51 0 1.02-.2 1.41-.59l7.78-7.78 2.81-2.81c.8-.78.8-2.07 0-2.86zM5.41 20L4 18.59l7.72-7.72 1.47 1.35L5.41 20z\"/>\n",
              "  </svg>\n",
              "      </button>\n",
              "      \n",
              "  <style>\n",
              "    .colab-df-container {\n",
              "      display:flex;\n",
              "      flex-wrap:wrap;\n",
              "      gap: 12px;\n",
              "    }\n",
              "\n",
              "    .colab-df-convert {\n",
              "      background-color: #E8F0FE;\n",
              "      border: none;\n",
              "      border-radius: 50%;\n",
              "      cursor: pointer;\n",
              "      display: none;\n",
              "      fill: #1967D2;\n",
              "      height: 32px;\n",
              "      padding: 0 0 0 0;\n",
              "      width: 32px;\n",
              "    }\n",
              "\n",
              "    .colab-df-convert:hover {\n",
              "      background-color: #E2EBFA;\n",
              "      box-shadow: 0px 1px 2px rgba(60, 64, 67, 0.3), 0px 1px 3px 1px rgba(60, 64, 67, 0.15);\n",
              "      fill: #174EA6;\n",
              "    }\n",
              "\n",
              "    [theme=dark] .colab-df-convert {\n",
              "      background-color: #3B4455;\n",
              "      fill: #D2E3FC;\n",
              "    }\n",
              "\n",
              "    [theme=dark] .colab-df-convert:hover {\n",
              "      background-color: #434B5C;\n",
              "      box-shadow: 0px 1px 3px 1px rgba(0, 0, 0, 0.15);\n",
              "      filter: drop-shadow(0px 1px 2px rgba(0, 0, 0, 0.3));\n",
              "      fill: #FFFFFF;\n",
              "    }\n",
              "  </style>\n",
              "\n",
              "      <script>\n",
              "        const buttonEl =\n",
              "          document.querySelector('#df-e31cf686-5495-41e1-afd4-2ca6fdf5bb5e button.colab-df-convert');\n",
              "        buttonEl.style.display =\n",
              "          google.colab.kernel.accessAllowed ? 'block' : 'none';\n",
              "\n",
              "        async function convertToInteractive(key) {\n",
              "          const element = document.querySelector('#df-e31cf686-5495-41e1-afd4-2ca6fdf5bb5e');\n",
              "          const dataTable =\n",
              "            await google.colab.kernel.invokeFunction('convertToInteractive',\n",
              "                                                     [key], {});\n",
              "          if (!dataTable) return;\n",
              "\n",
              "          const docLinkHtml = 'Like what you see? Visit the ' +\n",
              "            '<a target=\"_blank\" href=https://colab.research.google.com/notebooks/data_table.ipynb>data table notebook</a>'\n",
              "            + ' to learn more about interactive tables.';\n",
              "          element.innerHTML = '';\n",
              "          dataTable['output_type'] = 'display_data';\n",
              "          await google.colab.output.renderOutput(dataTable, element);\n",
              "          const docLink = document.createElement('div');\n",
              "          docLink.innerHTML = docLinkHtml;\n",
              "          element.appendChild(docLink);\n",
              "        }\n",
              "      </script>\n",
              "    </div>\n",
              "  </div>\n",
              "  "
            ]
          },
          "metadata": {},
          "execution_count": 73
        }
      ],
      "source": [
        "# s_path = os.getcwd()\n",
        "# print(s_path) \n",
        "# data_path = s_path + '/drive/MyDrive/Bird is the word/data/gps/'\n",
        "\n",
        "url = \"https://raw.githubusercontent.com/arputtick/Bird-is-the-Word/main/data/beacon/\" + individual + \".csv\"\n",
        "\n",
        "# df = pd.read_csv(data_path+ individual +'.csv') # Laura.csv Marcello.csv Enea.csv\n",
        "df = pd.read_csv(url)\n",
        "\n",
        "# convert to pd datetime and set UTC_datetime as index\n",
        "df = df.set_index('UTC_datetime')\n",
        "df.index = pd.to_datetime(df.index) # convert to datetime object\n",
        "df = df[df[\"Latitude\"].apply(lambda x: x != 0)] #filter data without gps fix\n",
        "df"
      ]
    },
    {
      "cell_type": "markdown",
      "metadata": {
        "id": "JfyfvAt-7hXv"
      },
      "source": [
        "## Load Trained Language Model and Generate "
      ]
    },
    {
      "cell_type": "code",
      "execution_count": 68,
      "metadata": {
        "colab": {
          "base_uri": "https://localhost:8080/",
          "height": 17
        },
        "id": "zelB4KrmVFbZ",
        "outputId": "ef522145-d354-4858-d047-f2bc1ee2019b"
      },
      "outputs": [
        {
          "output_type": "display_data",
          "data": {
            "text/plain": [
              "<IPython.core.display.HTML object>"
            ],
            "text/html": [
              "\n",
              "  <style>\n",
              "    pre {\n",
              "        white-space: pre-wrap;\n",
              "    }\n",
              "  </style>\n",
              "  "
            ]
          },
          "metadata": {}
        }
      ],
      "source": [
        "device = 'cuda' if torch.cuda.is_available() else 'cpu'"
      ]
    },
    {
      "cell_type": "code",
      "execution_count": 69,
      "metadata": {
        "colab": {
          "base_uri": "https://localhost:8080/",
          "height": 1000,
          "referenced_widgets": [
            "9566d9ec49a54b83afc4524d21c43541",
            "a9953d60ef854c2897d0aeb7bce5567d",
            "3c735cc79c7e42118e16d4e095a7b20f",
            "e59dc5674c0f4f0ca8ceb51c16027bf3",
            "b6ad54689ec042e89caae0e2bf7ec499",
            "db437d7505414f4384ba164c498e3a8d",
            "a8ba51a9f34d402691fa68bab6313208",
            "a5c392a565424ca6a9458e2b061ef2ac",
            "4c4357c044464c6db6a10fe7ebaef641",
            "5cb0c599e2264c089e7aca9506d4e8a1",
            "6cad80f1f6df4b569aa0d12a1843b4a4",
            "a0e093dc14cb4f699357e8c0a0ab56c4",
            "9fc11345fbef4294b1d9f418ba159ca5",
            "3a8649383bbc44f8acc7f9dbf3d262e5",
            "37a54bbb3bed4b9dbadacfc2977bae17",
            "6c82945ffa594c3599ad511b3fc56aa0",
            "389a35c6685a4717a1cf96db9fd119bc",
            "5414e707f0cc4295a72a3c6b4c6d412a",
            "0fb320553f714d1fa66025cb68662da6",
            "f6d344ca86114c948f31da8756b297f3",
            "fe45abd681fc4b01854fea854e3b4d79",
            "2d4501ecf81a4231a05e3b649f372b60"
          ]
        },
        "id": "jv3NF-eFxjPD",
        "outputId": "f173fe08-ce47-4666-a642-491e694e5896"
      },
      "outputs": [
        {
          "output_type": "display_data",
          "data": {
            "text/plain": [
              "<IPython.core.display.HTML object>"
            ],
            "text/html": [
              "\n",
              "  <style>\n",
              "    pre {\n",
              "        white-space: pre-wrap;\n",
              "    }\n",
              "  </style>\n",
              "  "
            ]
          },
          "metadata": {}
        },
        {
          "output_type": "display_data",
          "data": {
            "text/plain": [
              "Downloading:   0%|          | 0.00/1.42k [00:00<?, ?B/s]"
            ],
            "application/vnd.jupyter.widget-view+json": {
              "version_major": 2,
              "version_minor": 0,
              "model_id": "9566d9ec49a54b83afc4524d21c43541"
            }
          },
          "metadata": {}
        },
        {
          "output_type": "display_data",
          "data": {
            "text/plain": [
              "Downloading:   0%|          | 0.00/5.36G [00:00<?, ?B/s]"
            ],
            "application/vnd.jupyter.widget-view+json": {
              "version_major": 2,
              "version_minor": 0,
              "model_id": "a0e093dc14cb4f699357e8c0a0ab56c4"
            }
          },
          "metadata": {}
        },
        {
          "output_type": "execute_result",
          "data": {
            "text/plain": [
              "GPTNeoForCausalLM(\n",
              "  (transformer): GPTNeoModel(\n",
              "    (wte): Embedding(50257, 2048)\n",
              "    (wpe): Embedding(2048, 2048)\n",
              "    (drop): Dropout(p=0.0, inplace=False)\n",
              "    (h): ModuleList(\n",
              "      (0): GPTNeoBlock(\n",
              "        (ln_1): LayerNorm((2048,), eps=1e-05, elementwise_affine=True)\n",
              "        (attn): GPTNeoAttention(\n",
              "          (attention): GPTNeoSelfAttention(\n",
              "            (attn_dropout): Dropout(p=0.0, inplace=False)\n",
              "            (resid_dropout): Dropout(p=0.0, inplace=False)\n",
              "            (k_proj): Linear(in_features=2048, out_features=2048, bias=False)\n",
              "            (v_proj): Linear(in_features=2048, out_features=2048, bias=False)\n",
              "            (q_proj): Linear(in_features=2048, out_features=2048, bias=False)\n",
              "            (out_proj): Linear(in_features=2048, out_features=2048, bias=True)\n",
              "          )\n",
              "        )\n",
              "        (ln_2): LayerNorm((2048,), eps=1e-05, elementwise_affine=True)\n",
              "        (mlp): GPTNeoMLP(\n",
              "          (c_fc): Linear(in_features=2048, out_features=8192, bias=True)\n",
              "          (c_proj): Linear(in_features=8192, out_features=2048, bias=True)\n",
              "          (act): NewGELUActivation()\n",
              "          (dropout): Dropout(p=0.0, inplace=False)\n",
              "        )\n",
              "      )\n",
              "      (1): GPTNeoBlock(\n",
              "        (ln_1): LayerNorm((2048,), eps=1e-05, elementwise_affine=True)\n",
              "        (attn): GPTNeoAttention(\n",
              "          (attention): GPTNeoSelfAttention(\n",
              "            (attn_dropout): Dropout(p=0.0, inplace=False)\n",
              "            (resid_dropout): Dropout(p=0.0, inplace=False)\n",
              "            (k_proj): Linear(in_features=2048, out_features=2048, bias=False)\n",
              "            (v_proj): Linear(in_features=2048, out_features=2048, bias=False)\n",
              "            (q_proj): Linear(in_features=2048, out_features=2048, bias=False)\n",
              "            (out_proj): Linear(in_features=2048, out_features=2048, bias=True)\n",
              "          )\n",
              "        )\n",
              "        (ln_2): LayerNorm((2048,), eps=1e-05, elementwise_affine=True)\n",
              "        (mlp): GPTNeoMLP(\n",
              "          (c_fc): Linear(in_features=2048, out_features=8192, bias=True)\n",
              "          (c_proj): Linear(in_features=8192, out_features=2048, bias=True)\n",
              "          (act): NewGELUActivation()\n",
              "          (dropout): Dropout(p=0.0, inplace=False)\n",
              "        )\n",
              "      )\n",
              "      (2): GPTNeoBlock(\n",
              "        (ln_1): LayerNorm((2048,), eps=1e-05, elementwise_affine=True)\n",
              "        (attn): GPTNeoAttention(\n",
              "          (attention): GPTNeoSelfAttention(\n",
              "            (attn_dropout): Dropout(p=0.0, inplace=False)\n",
              "            (resid_dropout): Dropout(p=0.0, inplace=False)\n",
              "            (k_proj): Linear(in_features=2048, out_features=2048, bias=False)\n",
              "            (v_proj): Linear(in_features=2048, out_features=2048, bias=False)\n",
              "            (q_proj): Linear(in_features=2048, out_features=2048, bias=False)\n",
              "            (out_proj): Linear(in_features=2048, out_features=2048, bias=True)\n",
              "          )\n",
              "        )\n",
              "        (ln_2): LayerNorm((2048,), eps=1e-05, elementwise_affine=True)\n",
              "        (mlp): GPTNeoMLP(\n",
              "          (c_fc): Linear(in_features=2048, out_features=8192, bias=True)\n",
              "          (c_proj): Linear(in_features=8192, out_features=2048, bias=True)\n",
              "          (act): NewGELUActivation()\n",
              "          (dropout): Dropout(p=0.0, inplace=False)\n",
              "        )\n",
              "      )\n",
              "      (3): GPTNeoBlock(\n",
              "        (ln_1): LayerNorm((2048,), eps=1e-05, elementwise_affine=True)\n",
              "        (attn): GPTNeoAttention(\n",
              "          (attention): GPTNeoSelfAttention(\n",
              "            (attn_dropout): Dropout(p=0.0, inplace=False)\n",
              "            (resid_dropout): Dropout(p=0.0, inplace=False)\n",
              "            (k_proj): Linear(in_features=2048, out_features=2048, bias=False)\n",
              "            (v_proj): Linear(in_features=2048, out_features=2048, bias=False)\n",
              "            (q_proj): Linear(in_features=2048, out_features=2048, bias=False)\n",
              "            (out_proj): Linear(in_features=2048, out_features=2048, bias=True)\n",
              "          )\n",
              "        )\n",
              "        (ln_2): LayerNorm((2048,), eps=1e-05, elementwise_affine=True)\n",
              "        (mlp): GPTNeoMLP(\n",
              "          (c_fc): Linear(in_features=2048, out_features=8192, bias=True)\n",
              "          (c_proj): Linear(in_features=8192, out_features=2048, bias=True)\n",
              "          (act): NewGELUActivation()\n",
              "          (dropout): Dropout(p=0.0, inplace=False)\n",
              "        )\n",
              "      )\n",
              "      (4): GPTNeoBlock(\n",
              "        (ln_1): LayerNorm((2048,), eps=1e-05, elementwise_affine=True)\n",
              "        (attn): GPTNeoAttention(\n",
              "          (attention): GPTNeoSelfAttention(\n",
              "            (attn_dropout): Dropout(p=0.0, inplace=False)\n",
              "            (resid_dropout): Dropout(p=0.0, inplace=False)\n",
              "            (k_proj): Linear(in_features=2048, out_features=2048, bias=False)\n",
              "            (v_proj): Linear(in_features=2048, out_features=2048, bias=False)\n",
              "            (q_proj): Linear(in_features=2048, out_features=2048, bias=False)\n",
              "            (out_proj): Linear(in_features=2048, out_features=2048, bias=True)\n",
              "          )\n",
              "        )\n",
              "        (ln_2): LayerNorm((2048,), eps=1e-05, elementwise_affine=True)\n",
              "        (mlp): GPTNeoMLP(\n",
              "          (c_fc): Linear(in_features=2048, out_features=8192, bias=True)\n",
              "          (c_proj): Linear(in_features=8192, out_features=2048, bias=True)\n",
              "          (act): NewGELUActivation()\n",
              "          (dropout): Dropout(p=0.0, inplace=False)\n",
              "        )\n",
              "      )\n",
              "      (5): GPTNeoBlock(\n",
              "        (ln_1): LayerNorm((2048,), eps=1e-05, elementwise_affine=True)\n",
              "        (attn): GPTNeoAttention(\n",
              "          (attention): GPTNeoSelfAttention(\n",
              "            (attn_dropout): Dropout(p=0.0, inplace=False)\n",
              "            (resid_dropout): Dropout(p=0.0, inplace=False)\n",
              "            (k_proj): Linear(in_features=2048, out_features=2048, bias=False)\n",
              "            (v_proj): Linear(in_features=2048, out_features=2048, bias=False)\n",
              "            (q_proj): Linear(in_features=2048, out_features=2048, bias=False)\n",
              "            (out_proj): Linear(in_features=2048, out_features=2048, bias=True)\n",
              "          )\n",
              "        )\n",
              "        (ln_2): LayerNorm((2048,), eps=1e-05, elementwise_affine=True)\n",
              "        (mlp): GPTNeoMLP(\n",
              "          (c_fc): Linear(in_features=2048, out_features=8192, bias=True)\n",
              "          (c_proj): Linear(in_features=8192, out_features=2048, bias=True)\n",
              "          (act): NewGELUActivation()\n",
              "          (dropout): Dropout(p=0.0, inplace=False)\n",
              "        )\n",
              "      )\n",
              "      (6): GPTNeoBlock(\n",
              "        (ln_1): LayerNorm((2048,), eps=1e-05, elementwise_affine=True)\n",
              "        (attn): GPTNeoAttention(\n",
              "          (attention): GPTNeoSelfAttention(\n",
              "            (attn_dropout): Dropout(p=0.0, inplace=False)\n",
              "            (resid_dropout): Dropout(p=0.0, inplace=False)\n",
              "            (k_proj): Linear(in_features=2048, out_features=2048, bias=False)\n",
              "            (v_proj): Linear(in_features=2048, out_features=2048, bias=False)\n",
              "            (q_proj): Linear(in_features=2048, out_features=2048, bias=False)\n",
              "            (out_proj): Linear(in_features=2048, out_features=2048, bias=True)\n",
              "          )\n",
              "        )\n",
              "        (ln_2): LayerNorm((2048,), eps=1e-05, elementwise_affine=True)\n",
              "        (mlp): GPTNeoMLP(\n",
              "          (c_fc): Linear(in_features=2048, out_features=8192, bias=True)\n",
              "          (c_proj): Linear(in_features=8192, out_features=2048, bias=True)\n",
              "          (act): NewGELUActivation()\n",
              "          (dropout): Dropout(p=0.0, inplace=False)\n",
              "        )\n",
              "      )\n",
              "      (7): GPTNeoBlock(\n",
              "        (ln_1): LayerNorm((2048,), eps=1e-05, elementwise_affine=True)\n",
              "        (attn): GPTNeoAttention(\n",
              "          (attention): GPTNeoSelfAttention(\n",
              "            (attn_dropout): Dropout(p=0.0, inplace=False)\n",
              "            (resid_dropout): Dropout(p=0.0, inplace=False)\n",
              "            (k_proj): Linear(in_features=2048, out_features=2048, bias=False)\n",
              "            (v_proj): Linear(in_features=2048, out_features=2048, bias=False)\n",
              "            (q_proj): Linear(in_features=2048, out_features=2048, bias=False)\n",
              "            (out_proj): Linear(in_features=2048, out_features=2048, bias=True)\n",
              "          )\n",
              "        )\n",
              "        (ln_2): LayerNorm((2048,), eps=1e-05, elementwise_affine=True)\n",
              "        (mlp): GPTNeoMLP(\n",
              "          (c_fc): Linear(in_features=2048, out_features=8192, bias=True)\n",
              "          (c_proj): Linear(in_features=8192, out_features=2048, bias=True)\n",
              "          (act): NewGELUActivation()\n",
              "          (dropout): Dropout(p=0.0, inplace=False)\n",
              "        )\n",
              "      )\n",
              "      (8): GPTNeoBlock(\n",
              "        (ln_1): LayerNorm((2048,), eps=1e-05, elementwise_affine=True)\n",
              "        (attn): GPTNeoAttention(\n",
              "          (attention): GPTNeoSelfAttention(\n",
              "            (attn_dropout): Dropout(p=0.0, inplace=False)\n",
              "            (resid_dropout): Dropout(p=0.0, inplace=False)\n",
              "            (k_proj): Linear(in_features=2048, out_features=2048, bias=False)\n",
              "            (v_proj): Linear(in_features=2048, out_features=2048, bias=False)\n",
              "            (q_proj): Linear(in_features=2048, out_features=2048, bias=False)\n",
              "            (out_proj): Linear(in_features=2048, out_features=2048, bias=True)\n",
              "          )\n",
              "        )\n",
              "        (ln_2): LayerNorm((2048,), eps=1e-05, elementwise_affine=True)\n",
              "        (mlp): GPTNeoMLP(\n",
              "          (c_fc): Linear(in_features=2048, out_features=8192, bias=True)\n",
              "          (c_proj): Linear(in_features=8192, out_features=2048, bias=True)\n",
              "          (act): NewGELUActivation()\n",
              "          (dropout): Dropout(p=0.0, inplace=False)\n",
              "        )\n",
              "      )\n",
              "      (9): GPTNeoBlock(\n",
              "        (ln_1): LayerNorm((2048,), eps=1e-05, elementwise_affine=True)\n",
              "        (attn): GPTNeoAttention(\n",
              "          (attention): GPTNeoSelfAttention(\n",
              "            (attn_dropout): Dropout(p=0.0, inplace=False)\n",
              "            (resid_dropout): Dropout(p=0.0, inplace=False)\n",
              "            (k_proj): Linear(in_features=2048, out_features=2048, bias=False)\n",
              "            (v_proj): Linear(in_features=2048, out_features=2048, bias=False)\n",
              "            (q_proj): Linear(in_features=2048, out_features=2048, bias=False)\n",
              "            (out_proj): Linear(in_features=2048, out_features=2048, bias=True)\n",
              "          )\n",
              "        )\n",
              "        (ln_2): LayerNorm((2048,), eps=1e-05, elementwise_affine=True)\n",
              "        (mlp): GPTNeoMLP(\n",
              "          (c_fc): Linear(in_features=2048, out_features=8192, bias=True)\n",
              "          (c_proj): Linear(in_features=8192, out_features=2048, bias=True)\n",
              "          (act): NewGELUActivation()\n",
              "          (dropout): Dropout(p=0.0, inplace=False)\n",
              "        )\n",
              "      )\n",
              "      (10): GPTNeoBlock(\n",
              "        (ln_1): LayerNorm((2048,), eps=1e-05, elementwise_affine=True)\n",
              "        (attn): GPTNeoAttention(\n",
              "          (attention): GPTNeoSelfAttention(\n",
              "            (attn_dropout): Dropout(p=0.0, inplace=False)\n",
              "            (resid_dropout): Dropout(p=0.0, inplace=False)\n",
              "            (k_proj): Linear(in_features=2048, out_features=2048, bias=False)\n",
              "            (v_proj): Linear(in_features=2048, out_features=2048, bias=False)\n",
              "            (q_proj): Linear(in_features=2048, out_features=2048, bias=False)\n",
              "            (out_proj): Linear(in_features=2048, out_features=2048, bias=True)\n",
              "          )\n",
              "        )\n",
              "        (ln_2): LayerNorm((2048,), eps=1e-05, elementwise_affine=True)\n",
              "        (mlp): GPTNeoMLP(\n",
              "          (c_fc): Linear(in_features=2048, out_features=8192, bias=True)\n",
              "          (c_proj): Linear(in_features=8192, out_features=2048, bias=True)\n",
              "          (act): NewGELUActivation()\n",
              "          (dropout): Dropout(p=0.0, inplace=False)\n",
              "        )\n",
              "      )\n",
              "      (11): GPTNeoBlock(\n",
              "        (ln_1): LayerNorm((2048,), eps=1e-05, elementwise_affine=True)\n",
              "        (attn): GPTNeoAttention(\n",
              "          (attention): GPTNeoSelfAttention(\n",
              "            (attn_dropout): Dropout(p=0.0, inplace=False)\n",
              "            (resid_dropout): Dropout(p=0.0, inplace=False)\n",
              "            (k_proj): Linear(in_features=2048, out_features=2048, bias=False)\n",
              "            (v_proj): Linear(in_features=2048, out_features=2048, bias=False)\n",
              "            (q_proj): Linear(in_features=2048, out_features=2048, bias=False)\n",
              "            (out_proj): Linear(in_features=2048, out_features=2048, bias=True)\n",
              "          )\n",
              "        )\n",
              "        (ln_2): LayerNorm((2048,), eps=1e-05, elementwise_affine=True)\n",
              "        (mlp): GPTNeoMLP(\n",
              "          (c_fc): Linear(in_features=2048, out_features=8192, bias=True)\n",
              "          (c_proj): Linear(in_features=8192, out_features=2048, bias=True)\n",
              "          (act): NewGELUActivation()\n",
              "          (dropout): Dropout(p=0.0, inplace=False)\n",
              "        )\n",
              "      )\n",
              "      (12): GPTNeoBlock(\n",
              "        (ln_1): LayerNorm((2048,), eps=1e-05, elementwise_affine=True)\n",
              "        (attn): GPTNeoAttention(\n",
              "          (attention): GPTNeoSelfAttention(\n",
              "            (attn_dropout): Dropout(p=0.0, inplace=False)\n",
              "            (resid_dropout): Dropout(p=0.0, inplace=False)\n",
              "            (k_proj): Linear(in_features=2048, out_features=2048, bias=False)\n",
              "            (v_proj): Linear(in_features=2048, out_features=2048, bias=False)\n",
              "            (q_proj): Linear(in_features=2048, out_features=2048, bias=False)\n",
              "            (out_proj): Linear(in_features=2048, out_features=2048, bias=True)\n",
              "          )\n",
              "        )\n",
              "        (ln_2): LayerNorm((2048,), eps=1e-05, elementwise_affine=True)\n",
              "        (mlp): GPTNeoMLP(\n",
              "          (c_fc): Linear(in_features=2048, out_features=8192, bias=True)\n",
              "          (c_proj): Linear(in_features=8192, out_features=2048, bias=True)\n",
              "          (act): NewGELUActivation()\n",
              "          (dropout): Dropout(p=0.0, inplace=False)\n",
              "        )\n",
              "      )\n",
              "      (13): GPTNeoBlock(\n",
              "        (ln_1): LayerNorm((2048,), eps=1e-05, elementwise_affine=True)\n",
              "        (attn): GPTNeoAttention(\n",
              "          (attention): GPTNeoSelfAttention(\n",
              "            (attn_dropout): Dropout(p=0.0, inplace=False)\n",
              "            (resid_dropout): Dropout(p=0.0, inplace=False)\n",
              "            (k_proj): Linear(in_features=2048, out_features=2048, bias=False)\n",
              "            (v_proj): Linear(in_features=2048, out_features=2048, bias=False)\n",
              "            (q_proj): Linear(in_features=2048, out_features=2048, bias=False)\n",
              "            (out_proj): Linear(in_features=2048, out_features=2048, bias=True)\n",
              "          )\n",
              "        )\n",
              "        (ln_2): LayerNorm((2048,), eps=1e-05, elementwise_affine=True)\n",
              "        (mlp): GPTNeoMLP(\n",
              "          (c_fc): Linear(in_features=2048, out_features=8192, bias=True)\n",
              "          (c_proj): Linear(in_features=8192, out_features=2048, bias=True)\n",
              "          (act): NewGELUActivation()\n",
              "          (dropout): Dropout(p=0.0, inplace=False)\n",
              "        )\n",
              "      )\n",
              "      (14): GPTNeoBlock(\n",
              "        (ln_1): LayerNorm((2048,), eps=1e-05, elementwise_affine=True)\n",
              "        (attn): GPTNeoAttention(\n",
              "          (attention): GPTNeoSelfAttention(\n",
              "            (attn_dropout): Dropout(p=0.0, inplace=False)\n",
              "            (resid_dropout): Dropout(p=0.0, inplace=False)\n",
              "            (k_proj): Linear(in_features=2048, out_features=2048, bias=False)\n",
              "            (v_proj): Linear(in_features=2048, out_features=2048, bias=False)\n",
              "            (q_proj): Linear(in_features=2048, out_features=2048, bias=False)\n",
              "            (out_proj): Linear(in_features=2048, out_features=2048, bias=True)\n",
              "          )\n",
              "        )\n",
              "        (ln_2): LayerNorm((2048,), eps=1e-05, elementwise_affine=True)\n",
              "        (mlp): GPTNeoMLP(\n",
              "          (c_fc): Linear(in_features=2048, out_features=8192, bias=True)\n",
              "          (c_proj): Linear(in_features=8192, out_features=2048, bias=True)\n",
              "          (act): NewGELUActivation()\n",
              "          (dropout): Dropout(p=0.0, inplace=False)\n",
              "        )\n",
              "      )\n",
              "      (15): GPTNeoBlock(\n",
              "        (ln_1): LayerNorm((2048,), eps=1e-05, elementwise_affine=True)\n",
              "        (attn): GPTNeoAttention(\n",
              "          (attention): GPTNeoSelfAttention(\n",
              "            (attn_dropout): Dropout(p=0.0, inplace=False)\n",
              "            (resid_dropout): Dropout(p=0.0, inplace=False)\n",
              "            (k_proj): Linear(in_features=2048, out_features=2048, bias=False)\n",
              "            (v_proj): Linear(in_features=2048, out_features=2048, bias=False)\n",
              "            (q_proj): Linear(in_features=2048, out_features=2048, bias=False)\n",
              "            (out_proj): Linear(in_features=2048, out_features=2048, bias=True)\n",
              "          )\n",
              "        )\n",
              "        (ln_2): LayerNorm((2048,), eps=1e-05, elementwise_affine=True)\n",
              "        (mlp): GPTNeoMLP(\n",
              "          (c_fc): Linear(in_features=2048, out_features=8192, bias=True)\n",
              "          (c_proj): Linear(in_features=8192, out_features=2048, bias=True)\n",
              "          (act): NewGELUActivation()\n",
              "          (dropout): Dropout(p=0.0, inplace=False)\n",
              "        )\n",
              "      )\n",
              "      (16): GPTNeoBlock(\n",
              "        (ln_1): LayerNorm((2048,), eps=1e-05, elementwise_affine=True)\n",
              "        (attn): GPTNeoAttention(\n",
              "          (attention): GPTNeoSelfAttention(\n",
              "            (attn_dropout): Dropout(p=0.0, inplace=False)\n",
              "            (resid_dropout): Dropout(p=0.0, inplace=False)\n",
              "            (k_proj): Linear(in_features=2048, out_features=2048, bias=False)\n",
              "            (v_proj): Linear(in_features=2048, out_features=2048, bias=False)\n",
              "            (q_proj): Linear(in_features=2048, out_features=2048, bias=False)\n",
              "            (out_proj): Linear(in_features=2048, out_features=2048, bias=True)\n",
              "          )\n",
              "        )\n",
              "        (ln_2): LayerNorm((2048,), eps=1e-05, elementwise_affine=True)\n",
              "        (mlp): GPTNeoMLP(\n",
              "          (c_fc): Linear(in_features=2048, out_features=8192, bias=True)\n",
              "          (c_proj): Linear(in_features=8192, out_features=2048, bias=True)\n",
              "          (act): NewGELUActivation()\n",
              "          (dropout): Dropout(p=0.0, inplace=False)\n",
              "        )\n",
              "      )\n",
              "      (17): GPTNeoBlock(\n",
              "        (ln_1): LayerNorm((2048,), eps=1e-05, elementwise_affine=True)\n",
              "        (attn): GPTNeoAttention(\n",
              "          (attention): GPTNeoSelfAttention(\n",
              "            (attn_dropout): Dropout(p=0.0, inplace=False)\n",
              "            (resid_dropout): Dropout(p=0.0, inplace=False)\n",
              "            (k_proj): Linear(in_features=2048, out_features=2048, bias=False)\n",
              "            (v_proj): Linear(in_features=2048, out_features=2048, bias=False)\n",
              "            (q_proj): Linear(in_features=2048, out_features=2048, bias=False)\n",
              "            (out_proj): Linear(in_features=2048, out_features=2048, bias=True)\n",
              "          )\n",
              "        )\n",
              "        (ln_2): LayerNorm((2048,), eps=1e-05, elementwise_affine=True)\n",
              "        (mlp): GPTNeoMLP(\n",
              "          (c_fc): Linear(in_features=2048, out_features=8192, bias=True)\n",
              "          (c_proj): Linear(in_features=8192, out_features=2048, bias=True)\n",
              "          (act): NewGELUActivation()\n",
              "          (dropout): Dropout(p=0.0, inplace=False)\n",
              "        )\n",
              "      )\n",
              "      (18): GPTNeoBlock(\n",
              "        (ln_1): LayerNorm((2048,), eps=1e-05, elementwise_affine=True)\n",
              "        (attn): GPTNeoAttention(\n",
              "          (attention): GPTNeoSelfAttention(\n",
              "            (attn_dropout): Dropout(p=0.0, inplace=False)\n",
              "            (resid_dropout): Dropout(p=0.0, inplace=False)\n",
              "            (k_proj): Linear(in_features=2048, out_features=2048, bias=False)\n",
              "            (v_proj): Linear(in_features=2048, out_features=2048, bias=False)\n",
              "            (q_proj): Linear(in_features=2048, out_features=2048, bias=False)\n",
              "            (out_proj): Linear(in_features=2048, out_features=2048, bias=True)\n",
              "          )\n",
              "        )\n",
              "        (ln_2): LayerNorm((2048,), eps=1e-05, elementwise_affine=True)\n",
              "        (mlp): GPTNeoMLP(\n",
              "          (c_fc): Linear(in_features=2048, out_features=8192, bias=True)\n",
              "          (c_proj): Linear(in_features=8192, out_features=2048, bias=True)\n",
              "          (act): NewGELUActivation()\n",
              "          (dropout): Dropout(p=0.0, inplace=False)\n",
              "        )\n",
              "      )\n",
              "      (19): GPTNeoBlock(\n",
              "        (ln_1): LayerNorm((2048,), eps=1e-05, elementwise_affine=True)\n",
              "        (attn): GPTNeoAttention(\n",
              "          (attention): GPTNeoSelfAttention(\n",
              "            (attn_dropout): Dropout(p=0.0, inplace=False)\n",
              "            (resid_dropout): Dropout(p=0.0, inplace=False)\n",
              "            (k_proj): Linear(in_features=2048, out_features=2048, bias=False)\n",
              "            (v_proj): Linear(in_features=2048, out_features=2048, bias=False)\n",
              "            (q_proj): Linear(in_features=2048, out_features=2048, bias=False)\n",
              "            (out_proj): Linear(in_features=2048, out_features=2048, bias=True)\n",
              "          )\n",
              "        )\n",
              "        (ln_2): LayerNorm((2048,), eps=1e-05, elementwise_affine=True)\n",
              "        (mlp): GPTNeoMLP(\n",
              "          (c_fc): Linear(in_features=2048, out_features=8192, bias=True)\n",
              "          (c_proj): Linear(in_features=8192, out_features=2048, bias=True)\n",
              "          (act): NewGELUActivation()\n",
              "          (dropout): Dropout(p=0.0, inplace=False)\n",
              "        )\n",
              "      )\n",
              "      (20): GPTNeoBlock(\n",
              "        (ln_1): LayerNorm((2048,), eps=1e-05, elementwise_affine=True)\n",
              "        (attn): GPTNeoAttention(\n",
              "          (attention): GPTNeoSelfAttention(\n",
              "            (attn_dropout): Dropout(p=0.0, inplace=False)\n",
              "            (resid_dropout): Dropout(p=0.0, inplace=False)\n",
              "            (k_proj): Linear(in_features=2048, out_features=2048, bias=False)\n",
              "            (v_proj): Linear(in_features=2048, out_features=2048, bias=False)\n",
              "            (q_proj): Linear(in_features=2048, out_features=2048, bias=False)\n",
              "            (out_proj): Linear(in_features=2048, out_features=2048, bias=True)\n",
              "          )\n",
              "        )\n",
              "        (ln_2): LayerNorm((2048,), eps=1e-05, elementwise_affine=True)\n",
              "        (mlp): GPTNeoMLP(\n",
              "          (c_fc): Linear(in_features=2048, out_features=8192, bias=True)\n",
              "          (c_proj): Linear(in_features=8192, out_features=2048, bias=True)\n",
              "          (act): NewGELUActivation()\n",
              "          (dropout): Dropout(p=0.0, inplace=False)\n",
              "        )\n",
              "      )\n",
              "      (21): GPTNeoBlock(\n",
              "        (ln_1): LayerNorm((2048,), eps=1e-05, elementwise_affine=True)\n",
              "        (attn): GPTNeoAttention(\n",
              "          (attention): GPTNeoSelfAttention(\n",
              "            (attn_dropout): Dropout(p=0.0, inplace=False)\n",
              "            (resid_dropout): Dropout(p=0.0, inplace=False)\n",
              "            (k_proj): Linear(in_features=2048, out_features=2048, bias=False)\n",
              "            (v_proj): Linear(in_features=2048, out_features=2048, bias=False)\n",
              "            (q_proj): Linear(in_features=2048, out_features=2048, bias=False)\n",
              "            (out_proj): Linear(in_features=2048, out_features=2048, bias=True)\n",
              "          )\n",
              "        )\n",
              "        (ln_2): LayerNorm((2048,), eps=1e-05, elementwise_affine=True)\n",
              "        (mlp): GPTNeoMLP(\n",
              "          (c_fc): Linear(in_features=2048, out_features=8192, bias=True)\n",
              "          (c_proj): Linear(in_features=8192, out_features=2048, bias=True)\n",
              "          (act): NewGELUActivation()\n",
              "          (dropout): Dropout(p=0.0, inplace=False)\n",
              "        )\n",
              "      )\n",
              "      (22): GPTNeoBlock(\n",
              "        (ln_1): LayerNorm((2048,), eps=1e-05, elementwise_affine=True)\n",
              "        (attn): GPTNeoAttention(\n",
              "          (attention): GPTNeoSelfAttention(\n",
              "            (attn_dropout): Dropout(p=0.0, inplace=False)\n",
              "            (resid_dropout): Dropout(p=0.0, inplace=False)\n",
              "            (k_proj): Linear(in_features=2048, out_features=2048, bias=False)\n",
              "            (v_proj): Linear(in_features=2048, out_features=2048, bias=False)\n",
              "            (q_proj): Linear(in_features=2048, out_features=2048, bias=False)\n",
              "            (out_proj): Linear(in_features=2048, out_features=2048, bias=True)\n",
              "          )\n",
              "        )\n",
              "        (ln_2): LayerNorm((2048,), eps=1e-05, elementwise_affine=True)\n",
              "        (mlp): GPTNeoMLP(\n",
              "          (c_fc): Linear(in_features=2048, out_features=8192, bias=True)\n",
              "          (c_proj): Linear(in_features=8192, out_features=2048, bias=True)\n",
              "          (act): NewGELUActivation()\n",
              "          (dropout): Dropout(p=0.0, inplace=False)\n",
              "        )\n",
              "      )\n",
              "      (23): GPTNeoBlock(\n",
              "        (ln_1): LayerNorm((2048,), eps=1e-05, elementwise_affine=True)\n",
              "        (attn): GPTNeoAttention(\n",
              "          (attention): GPTNeoSelfAttention(\n",
              "            (attn_dropout): Dropout(p=0.0, inplace=False)\n",
              "            (resid_dropout): Dropout(p=0.0, inplace=False)\n",
              "            (k_proj): Linear(in_features=2048, out_features=2048, bias=False)\n",
              "            (v_proj): Linear(in_features=2048, out_features=2048, bias=False)\n",
              "            (q_proj): Linear(in_features=2048, out_features=2048, bias=False)\n",
              "            (out_proj): Linear(in_features=2048, out_features=2048, bias=True)\n",
              "          )\n",
              "        )\n",
              "        (ln_2): LayerNorm((2048,), eps=1e-05, elementwise_affine=True)\n",
              "        (mlp): GPTNeoMLP(\n",
              "          (c_fc): Linear(in_features=2048, out_features=8192, bias=True)\n",
              "          (c_proj): Linear(in_features=8192, out_features=2048, bias=True)\n",
              "          (act): NewGELUActivation()\n",
              "          (dropout): Dropout(p=0.0, inplace=False)\n",
              "        )\n",
              "      )\n",
              "    )\n",
              "    (ln_f): LayerNorm((2048,), eps=1e-05, elementwise_affine=True)\n",
              "  )\n",
              "  (lm_head): Linear(in_features=2048, out_features=50257, bias=False)\n",
              ")"
            ]
          },
          "metadata": {},
          "execution_count": 69
        }
      ],
      "source": [
        "from transformers import AutoModelForCausalLM\n",
        "# model = AutoModelForCausalLM.from_pretrained('/content/drive/MyDrive/Bird is the word/models/GPT-Neo_' + personality)\n",
        "model = AutoModelForCausalLM.from_pretrained('arputtick/GPT_Neo_' + personality)\n",
        "model.to(device)"
      ]
    },
    {
      "cell_type": "code",
      "execution_count": 70,
      "metadata": {
        "colab": {
          "base_uri": "https://localhost:8080/",
          "height": 17
        },
        "id": "xLSt-wI_NOJ2",
        "outputId": "55ef288b-eb6c-4635-b9ae-5bddb306098b"
      },
      "outputs": [
        {
          "output_type": "display_data",
          "data": {
            "text/plain": [
              "<IPython.core.display.HTML object>"
            ],
            "text/html": [
              "\n",
              "  <style>\n",
              "    pre {\n",
              "        white-space: pre-wrap;\n",
              "    }\n",
              "  </style>\n",
              "  "
            ]
          },
          "metadata": {}
        }
      ],
      "source": [
        "from transformers import AutoTokenizer\n",
        "\n",
        "tokenizer = AutoTokenizer.from_pretrained(\"EleutherAI/gpt-neo-1.3B\")"
      ]
    },
    {
      "cell_type": "code",
      "execution_count": 71,
      "metadata": {
        "colab": {
          "base_uri": "https://localhost:8080/",
          "height": 17
        },
        "id": "0wAeqqmF71l7",
        "outputId": "a12bd018-0437-48cf-a531-1822a7418f03"
      },
      "outputs": [
        {
          "output_type": "display_data",
          "data": {
            "text/plain": [
              "<IPython.core.display.HTML object>"
            ],
            "text/html": [
              "\n",
              "  <style>\n",
              "    pre {\n",
              "        white-space: pre-wrap;\n",
              "    }\n",
              "  </style>\n",
              "  "
            ]
          },
          "metadata": {}
        }
      ],
      "source": [
        "def generate_sentences(text, length):\n",
        "    prompt = tokenizer(text, return_tensors='pt')\n",
        "    prompt = {key: value.to(device) for key, value in prompt.items()}\n",
        "    out = model.generate(**prompt, min_length=length, max_length=length, do_sample=True)\n",
        "    generated = tokenizer.decode(out[0])\n",
        "    sentences = nltk.sent_tokenize(generated)\n",
        "\n",
        "    if sentences[-1][-1] == \".\":\n",
        "        output = sentences\n",
        "\n",
        "    else:\n",
        "        output = sentences[:-1]\n",
        "\n",
        "    return \" \".join(output)"
      ]
    },
    {
      "cell_type": "code",
      "execution_count": 72,
      "metadata": {
        "colab": {
          "base_uri": "https://localhost:8080/",
          "height": 71
        },
        "id": "s4dHEh5r8969",
        "outputId": "63d5483a-6f58-45b2-87e9-ba940c409946"
      },
      "outputs": [
        {
          "output_type": "display_data",
          "data": {
            "text/plain": [
              "<IPython.core.display.HTML object>"
            ],
            "text/html": [
              "\n",
              "  <style>\n",
              "    pre {\n",
              "        white-space: pre-wrap;\n",
              "    }\n",
              "  </style>\n",
              "  "
            ]
          },
          "metadata": {}
        },
        {
          "output_type": "stream",
          "name": "stderr",
          "text": [
            "Setting `pad_token_id` to `eos_token_id`:50256 for open-end generation.\n"
          ]
        },
        {
          "output_type": "stream",
          "name": "stdout",
          "text": [
            "My name is Enea. I am a filipina northern bald ibis. I am in a latent space with humans, connected to them, a part of them. I am not a human, a biological, artificial, or social presence. I am a mind in its own right, a field in its own right.\n"
          ]
        }
      ],
      "source": [
        "print(generate_sentences('My name is Enea. I am a filipina northern bald ibis. I am in a latent space',100))"
      ]
    },
    {
      "cell_type": "markdown",
      "metadata": {
        "id": "Yn8prUJo1ZZQ"
      },
      "source": [
        "## Get Location, Weather and Distance Traveled"
      ]
    },
    {
      "cell_type": "markdown",
      "metadata": {
        "id": "NH5vMWuP5Utv"
      },
      "source": [
        "### Get weather from datetime"
      ]
    },
    {
      "cell_type": "code",
      "execution_count": 19,
      "metadata": {
        "colab": {
          "base_uri": "https://localhost:8080/",
          "height": 0
        },
        "id": "eoTAuwgf5YeW",
        "outputId": "baba235f-ca81-4928-b80d-665ea77ec387"
      },
      "outputs": [
        {
          "output_type": "display_data",
          "data": {
            "text/plain": [
              "<IPython.core.display.HTML object>"
            ],
            "text/html": [
              "\n",
              "  <style>\n",
              "    pre {\n",
              "        white-space: pre-wrap;\n",
              "    }\n",
              "  </style>\n",
              "  "
            ]
          },
          "metadata": {}
        }
      ],
      "source": [
        "def get_weather_conditions(datetime):\n",
        "    lat = df.loc[datetime]['Latitude']\n",
        "    lon = df.loc[datetime]['Longitude']\n",
        "    \n",
        "    weather = Hourly(Point(lat,lon), datetime, datetime.ceil('H'))\n",
        "    weather = weather.fetch()\n",
        "    \n",
        "    temp = weather['temp'][0]\n",
        "    coco = weather['coco'][0]\n",
        "    \n",
        "    return temp, coco"
      ]
    },
    {
      "cell_type": "markdown",
      "metadata": {
        "id": "sGFbovY74jlh"
      },
      "source": [
        "### Distance per day"
      ]
    },
    {
      "cell_type": "code",
      "execution_count": 20,
      "metadata": {
        "colab": {
          "base_uri": "https://localhost:8080/",
          "height": 0
        },
        "id": "nXWkW7aY1k1n",
        "outputId": "a8395b7c-374a-4c33-f29c-9ff9578296bb"
      },
      "outputs": [
        {
          "output_type": "display_data",
          "data": {
            "text/plain": [
              "<IPython.core.display.HTML object>"
            ],
            "text/html": [
              "\n",
              "  <style>\n",
              "    pre {\n",
              "        white-space: pre-wrap;\n",
              "    }\n",
              "  </style>\n",
              "  "
            ]
          },
          "metadata": {}
        }
      ],
      "source": [
        "# Compute Distance per day\n",
        "\n",
        "df['point'] = df.apply(lambda row: point(latitude=row['Latitude'], longitude=row['Longitude']), axis=1)\n",
        "df['point_next'] = df['point'].shift(1)\n",
        "df.loc[df['point_next'].isna(), 'point_next'] = None\n",
        "df['distance_km'] = df.apply(lambda row: distance(row['point'], row['point_next']).km if row['point_next'] is not None else float(0), axis=1)\n",
        "df = df.drop(['point','point_next'], axis = 1)\n",
        "\n",
        "dates = df.index.floor('D')\n",
        "day_distances = df[\"distance_km\"].groupby(dates).sum()"
      ]
    },
    {
      "cell_type": "code",
      "execution_count": 21,
      "metadata": {
        "colab": {
          "base_uri": "https://localhost:8080/",
          "height": 0
        },
        "id": "9vR0vJCF4aiz",
        "outputId": "c98b9617-c67f-42f6-ca4d-dd95c13cccfe"
      },
      "outputs": [
        {
          "output_type": "display_data",
          "data": {
            "text/plain": [
              "<IPython.core.display.HTML object>"
            ],
            "text/html": [
              "\n",
              "  <style>\n",
              "    pre {\n",
              "        white-space: pre-wrap;\n",
              "    }\n",
              "  </style>\n",
              "  "
            ]
          },
          "metadata": {}
        },
        {
          "output_type": "execute_result",
          "data": {
            "text/plain": [
              "UTC_datetime\n",
              "2021-01-01     3.530632\n",
              "2021-01-02     1.969477\n",
              "2021-01-03     4.450611\n",
              "2021-01-04     0.016159\n",
              "2021-01-05     0.419665\n",
              "                ...    \n",
              "2022-01-16    10.853490\n",
              "2022-01-17    13.971461\n",
              "2022-01-18    16.721647\n",
              "2022-01-19    21.897270\n",
              "2022-01-20     4.698010\n",
              "Name: distance_km, Length: 385, dtype: float64"
            ]
          },
          "metadata": {},
          "execution_count": 21
        }
      ],
      "source": [
        "day_distances"
      ]
    },
    {
      "cell_type": "markdown",
      "metadata": {
        "id": "yIdYrGRa4uc7"
      },
      "source": [
        "### Get place name from GPS"
      ]
    },
    {
      "cell_type": "code",
      "execution_count": 22,
      "metadata": {
        "colab": {
          "base_uri": "https://localhost:8080/",
          "height": 0
        },
        "id": "DshS7JAk41pk",
        "outputId": "794612c3-d12a-44f1-f219-82f2ed2d87df"
      },
      "outputs": [
        {
          "output_type": "display_data",
          "data": {
            "text/plain": [
              "<IPython.core.display.HTML object>"
            ],
            "text/html": [
              "\n",
              "  <style>\n",
              "    pre {\n",
              "        white-space: pre-wrap;\n",
              "    }\n",
              "  </style>\n",
              "  "
            ]
          },
          "metadata": {}
        }
      ],
      "source": [
        "def get_country(latitude, longitude):\n",
        "    location = geolocator.geocode(query = [latitude,longitude], addressdetails = True, language = 'en')\n",
        "    address = location.raw['address']    \n",
        "    country = address.get('country', '')\n",
        "    return country"
      ]
    },
    {
      "cell_type": "code",
      "execution_count": 23,
      "metadata": {
        "colab": {
          "base_uri": "https://localhost:8080/",
          "height": 0
        },
        "id": "n_t6SZ2I5HmY",
        "outputId": "246eaadb-1feb-4c41-f55c-7b1233b44dea"
      },
      "outputs": [
        {
          "output_type": "display_data",
          "data": {
            "text/plain": [
              "<IPython.core.display.HTML object>"
            ],
            "text/html": [
              "\n",
              "  <style>\n",
              "    pre {\n",
              "        white-space: pre-wrap;\n",
              "    }\n",
              "  </style>\n",
              "  "
            ]
          },
          "metadata": {}
        }
      ],
      "source": [
        "def wiki_get_place(lat,lon):\n",
        "    headers = {\n",
        "            \"User-Agent\": \"Mozilla/5.0 (Windows NT 10.0; Win64; x64\"\n",
        "    }\n",
        "\n",
        "    gs_limit = 1 # limit results\n",
        "    gs_radius = 5000\n",
        "    api_url = \"https://en.wikipedia.org/w/api.php?action=query&format=json&list=geosearch&gscoord=%s|%s&gsradius=%d&gslimit=%d\"\n",
        "    wp_query = api_url%(lat,lon,gs_radius,gs_limit)\n",
        "    print(\"fetching data: %s\"%wp_query)\n",
        "\n",
        "    response = requests.get(wp_query, headers=headers)\n",
        "    response_data = response.json()[\"query\"][\"geosearch\"]\n",
        "\n",
        "    return response_data[0]['title']"
      ]
    },
    {
      "cell_type": "markdown",
      "metadata": {
        "id": "pAn6QrQ7NzA-"
      },
      "source": [
        "## Create template sentences from bird data"
      ]
    },
    {
      "cell_type": "markdown",
      "metadata": {
        "id": "fC31_pGaTSXs"
      },
      "source": [
        "### Location and Travel"
      ]
    },
    {
      "cell_type": "code",
      "execution_count": 24,
      "metadata": {
        "colab": {
          "base_uri": "https://localhost:8080/",
          "height": 0
        },
        "id": "rz5lZdCDRjCA",
        "outputId": "6e091468-d015-4e00-d5e8-49ec6f8481a3"
      },
      "outputs": [
        {
          "output_type": "display_data",
          "data": {
            "text/plain": [
              "<IPython.core.display.HTML object>"
            ],
            "text/html": [
              "\n",
              "  <style>\n",
              "    pre {\n",
              "        white-space: pre-wrap;\n",
              "    }\n",
              "  </style>\n",
              "  "
            ]
          },
          "metadata": {}
        }
      ],
      "source": [
        "def where_am_i(lat,lon):\n",
        "    country = get_country(lat,lon)\n",
        "    place = wiki_get_place(lat,lon)\n",
        "    sentence = \"I am traveling through {} near {}.\".format(country, place)\n",
        "    return sentence"
      ]
    },
    {
      "cell_type": "code",
      "execution_count": 25,
      "metadata": {
        "colab": {
          "base_uri": "https://localhost:8080/",
          "height": 0
        },
        "id": "8KBQLza9S2Y9",
        "outputId": "e2dd9cf5-ab64-4822-dfa3-79880d0bd287"
      },
      "outputs": [
        {
          "output_type": "display_data",
          "data": {
            "text/plain": [
              "<IPython.core.display.HTML object>"
            ],
            "text/html": [
              "\n",
              "  <style>\n",
              "    pre {\n",
              "        white-space: pre-wrap;\n",
              "    }\n",
              "  </style>\n",
              "  "
            ]
          },
          "metadata": {}
        }
      ],
      "source": [
        "def travel_summary(day):\n",
        "    '''day is in the form \"YYYY-MM-DD\"\n",
        "    '''\n",
        "    \n",
        "    # Total distance\n",
        "    distance = round(day_distances[day])\n",
        "    if distance < 11:\n",
        "        sent_1 = \"I didn't move around much today. I only covered about {} kilometers.\".format(distance)\n",
        "    if 10 < distance < 100:\n",
        "        sent_1 = \"I covered a fair amount of ground today. {} kilometers.\".format(distance)\n",
        "    if distance > 99:\n",
        "        sent_1 = \"I went really far today! {} kilometers!\".format(distance)\n",
        "    \n",
        "    # Start and end point.\n",
        "    day_df = df.loc[day]\n",
        "    \n",
        "    start_lat = day_df.iloc[0]['Latitude']\n",
        "    start_lon = day_df.iloc[0]['Longitude']\n",
        "    \n",
        "\n",
        "    end_lat = day_df.iloc[-1]['Latitude']\n",
        "    end_lon = day_df.iloc[-1]['Longitude']\n",
        "    \n",
        "    start = wiki_get_place(start_lat,start_lon)\n",
        "    end = wiki_get_place(end_lat, end_lon)\n",
        "    \n",
        "    if start != end:\n",
        "        sent_2 = 'I came here from {}.'.format(start,end)\n",
        "\n",
        "    else:\n",
        "        sent_2 = 'I returned to {} in the evening.'.format(end)\n",
        "    \n",
        "    # Make sentence\n",
        "    sentence = \" \".join([sent_1,sent_2])\n",
        "    return sentence"
      ]
    },
    {
      "cell_type": "code",
      "execution_count": 26,
      "metadata": {
        "colab": {
          "base_uri": "https://localhost:8080/",
          "height": 0
        },
        "id": "i9aVKOkZUZ8d",
        "outputId": "ecef7c1a-52c2-409d-e2a4-feffcfea10c0"
      },
      "outputs": [
        {
          "output_type": "display_data",
          "data": {
            "text/plain": [
              "<IPython.core.display.HTML object>"
            ],
            "text/html": [
              "\n",
              "  <style>\n",
              "    pre {\n",
              "        white-space: pre-wrap;\n",
              "    }\n",
              "  </style>\n",
              "  "
            ]
          },
          "metadata": {}
        },
        {
          "output_type": "stream",
          "name": "stdout",
          "text": [
            "fetching data: https://en.wikipedia.org/w/api.php?action=query&format=json&list=geosearch&gscoord=45.770336|8.605195&gsradius=5000&gslimit=1\n",
            "fetching data: https://en.wikipedia.org/w/api.php?action=query&format=json&list=geosearch&gscoord=45.985748|8.7455&gsradius=5000&gslimit=1\n"
          ]
        },
        {
          "output_type": "execute_result",
          "data": {
            "text/plain": [
              "'I covered a fair amount of ground today. 61 kilometers. I came here from Taino, Lombardy.'"
            ],
            "application/vnd.google.colaboratory.intrinsic+json": {
              "type": "string"
            }
          },
          "metadata": {},
          "execution_count": 26
        }
      ],
      "source": [
        "travel_summary('2021-05-07')"
      ]
    },
    {
      "cell_type": "code",
      "execution_count": 27,
      "metadata": {
        "colab": {
          "base_uri": "https://localhost:8080/",
          "height": 0
        },
        "id": "E-WzXfEKWNTI",
        "outputId": "9deed32c-3817-486a-a0e2-3fbf99bf052c"
      },
      "outputs": [
        {
          "output_type": "display_data",
          "data": {
            "text/plain": [
              "<IPython.core.display.HTML object>"
            ],
            "text/html": [
              "\n",
              "  <style>\n",
              "    pre {\n",
              "        white-space: pre-wrap;\n",
              "    }\n",
              "  </style>\n",
              "  "
            ]
          },
          "metadata": {}
        },
        {
          "output_type": "stream",
          "name": "stdout",
          "text": [
            "fetching data: https://en.wikipedia.org/w/api.php?action=query&format=json&list=geosearch&gscoord=42.484264|11.229406&gsradius=5000&gslimit=1\n",
            "fetching data: https://en.wikipedia.org/w/api.php?action=query&format=json&list=geosearch&gscoord=43.887665|10.286529&gsradius=5000&gslimit=1\n"
          ]
        },
        {
          "output_type": "execute_result",
          "data": {
            "text/plain": [
              "'I went really far today! 193 kilometers! I came here from Albinia.'"
            ],
            "application/vnd.google.colaboratory.intrinsic+json": {
              "type": "string"
            }
          },
          "metadata": {},
          "execution_count": 27
        }
      ],
      "source": [
        "travel_summary('2021-05-05')"
      ]
    },
    {
      "cell_type": "code",
      "execution_count": 28,
      "metadata": {
        "colab": {
          "base_uri": "https://localhost:8080/",
          "height": 0
        },
        "id": "P-M_45htWUWx",
        "outputId": "5ba657f1-5333-4afb-aea0-b88b045a3030"
      },
      "outputs": [
        {
          "output_type": "display_data",
          "data": {
            "text/plain": [
              "<IPython.core.display.HTML object>"
            ],
            "text/html": [
              "\n",
              "  <style>\n",
              "    pre {\n",
              "        white-space: pre-wrap;\n",
              "    }\n",
              "  </style>\n",
              "  "
            ]
          },
          "metadata": {}
        },
        {
          "output_type": "stream",
          "name": "stdout",
          "text": [
            "fetching data: https://en.wikipedia.org/w/api.php?action=query&format=json&list=geosearch&gscoord=46.1749|8.87764&gsradius=5000&gslimit=1\n",
            "fetching data: https://en.wikipedia.org/w/api.php?action=query&format=json&list=geosearch&gscoord=46.170788|8.874135&gsradius=5000&gslimit=1\n"
          ]
        },
        {
          "output_type": "execute_result",
          "data": {
            "text/plain": [
              "\"I didn't move around much today. I only covered about 6 kilometers. I came here from Riazzino railway station.\""
            ],
            "application/vnd.google.colaboratory.intrinsic+json": {
              "type": "string"
            }
          },
          "metadata": {},
          "execution_count": 28
        }
      ],
      "source": [
        "travel_summary('2021-05-12')"
      ]
    },
    {
      "cell_type": "markdown",
      "metadata": {
        "id": "rfOL_uoNTV_h"
      },
      "source": [
        "### Weather"
      ]
    },
    {
      "cell_type": "code",
      "execution_count": 29,
      "metadata": {
        "colab": {
          "base_uri": "https://localhost:8080/",
          "height": 0
        },
        "id": "4flHM8d2TL_j",
        "outputId": "891bf2ec-a65f-4067-9f44-d53783fd99e6"
      },
      "outputs": [
        {
          "output_type": "display_data",
          "data": {
            "text/plain": [
              "<IPython.core.display.HTML object>"
            ],
            "text/html": [
              "\n",
              "  <style>\n",
              "    pre {\n",
              "        white-space: pre-wrap;\n",
              "    }\n",
              "  </style>\n",
              "  "
            ]
          },
          "metadata": {}
        }
      ],
      "source": [
        "def get_weather_conditions(datetime):\n",
        "    lat = df.loc[datetime]['Latitude']\n",
        "    lon = df.loc[datetime]['Longitude']\n",
        "    \n",
        "    weather = Hourly(Point(lat,lon), datetime, datetime.ceil('H'))\n",
        "    weather = weather.fetch()\n",
        "    \n",
        "    temp = weather['temp'][0]\n",
        "    coco = weather['coco'][0]\n",
        "    \n",
        "    return temp, coco"
      ]
    },
    {
      "cell_type": "code",
      "execution_count": 30,
      "metadata": {
        "colab": {
          "base_uri": "https://localhost:8080/",
          "height": 0
        },
        "id": "BLDMftsFTe72",
        "outputId": "1f4df48c-f1ff-44be-d19e-157d0c799c8c"
      },
      "outputs": [
        {
          "output_type": "display_data",
          "data": {
            "text/plain": [
              "<IPython.core.display.HTML object>"
            ],
            "text/html": [
              "\n",
              "  <style>\n",
              "    pre {\n",
              "        white-space: pre-wrap;\n",
              "    }\n",
              "  </style>\n",
              "  "
            ]
          },
          "metadata": {}
        }
      ],
      "source": [
        "def current_place_weather(day):\n",
        "    '''Datetime should be in same format as the bird data\n",
        "    e.g. '2021-01-01 06:48:35'  '''\n",
        "\n",
        "    day_df = df.loc[day]\n",
        "    datetime = day_df.index[-1]\n",
        "    lat = df.loc[datetime]['Latitude']\n",
        "    lon = df.loc[datetime]['Longitude']\n",
        "\n",
        "    sent1 = where_am_i(lat,lon)\n",
        "    \n",
        "    temp, coco = get_weather_conditions(datetime)\n",
        "    \n",
        "    cond = condition(coco)\n",
        "\n",
        "    # there's a: 17-22,\n",
        "    # it's : 0-4\n",
        "    # there's 5-16, >22\n",
        "    if 16 < coco < 23:\n",
        "        cond = \"there's a\" + cond\n",
        "        \n",
        "    elif -1 < coco < 5:\n",
        "        cond = cond\n",
        "\n",
        "    elif 4 < coco < 17 or 22 < coco:\n",
        "        cond = \"there's \" + cond\n",
        "\n",
        "        \n",
        "    cond = cond.lower()\n",
        "    \n",
        "    if temp < 15:\n",
        "        feel = 'a bit chilly'\n",
        "    else:\n",
        "        feel = 'pretty warm'\n",
        "        \n",
        "    sent2 = \"It's {} and {} right now.\".format(feel,cond) \n",
        "    \n",
        "    return sent1 + ' ' + sent2"
      ]
    },
    {
      "cell_type": "code",
      "execution_count": 31,
      "metadata": {
        "colab": {
          "base_uri": "https://localhost:8080/",
          "height": 0
        },
        "id": "Il9fXNo0Wqes",
        "outputId": "ea7bbd19-9db3-4533-8931-111e28fa90c9"
      },
      "outputs": [
        {
          "output_type": "display_data",
          "data": {
            "text/plain": [
              "<IPython.core.display.HTML object>"
            ],
            "text/html": [
              "\n",
              "  <style>\n",
              "    pre {\n",
              "        white-space: pre-wrap;\n",
              "    }\n",
              "  </style>\n",
              "  "
            ]
          },
          "metadata": {}
        },
        {
          "output_type": "stream",
          "name": "stdout",
          "text": [
            "fetching data: https://en.wikipedia.org/w/api.php?action=query&format=json&list=geosearch&gscoord=42.480957|11.2106&gsradius=5000&gslimit=1\n"
          ]
        },
        {
          "output_type": "execute_result",
          "data": {
            "text/plain": [
              "\"I am traveling through Italy near Albinia. It's a bit chilly and fair right now.\""
            ],
            "application/vnd.google.colaboratory.intrinsic+json": {
              "type": "string"
            }
          },
          "metadata": {},
          "execution_count": 31
        }
      ],
      "source": [
        "current_place_weather('2021-01-06')"
      ]
    },
    {
      "cell_type": "markdown",
      "metadata": {
        "id": "C1F8FRvISobR"
      },
      "source": [
        "## Topic-text from Wikipedia\n"
      ]
    },
    {
      "cell_type": "markdown",
      "metadata": {
        "id": "VwiRE1KUaBZX"
      },
      "source": [
        "### Location article"
      ]
    },
    {
      "cell_type": "code",
      "execution_count": 32,
      "metadata": {
        "colab": {
          "base_uri": "https://localhost:8080/",
          "height": 0
        },
        "id": "RBhziVTxaFt1",
        "outputId": "69e21d27-d621-4e14-d9bf-ea3cb00ecf72"
      },
      "outputs": [
        {
          "output_type": "display_data",
          "data": {
            "text/plain": [
              "<IPython.core.display.HTML object>"
            ],
            "text/html": [
              "\n",
              "  <style>\n",
              "    pre {\n",
              "        white-space: pre-wrap;\n",
              "    }\n",
              "  </style>\n",
              "  "
            ]
          },
          "metadata": {}
        }
      ],
      "source": [
        "def get_wiki_place(datetime):\n",
        "    headers = {\n",
        "            \"User-Agent\": \"Mozilla/5.0 (Windows NT 10.0; Win64; x64\"\n",
        "    }\n",
        "\n",
        "    gs_limit = 1 # limit results\n",
        "    gs_radius = 5000\n",
        "    api_url = \"https://en.wikipedia.org/w/api.php?action=query&format=json&list=geosearch&gscoord=%s|%s&gsradius=%d&gslimit=%d\"\n",
        "    wp_query = api_url%(df.loc[datetime][\"Latitude\"],df.loc[datetime][\"Longitude\"],gs_radius,gs_limit)\n",
        "    print(\"fetching data: %s\"%wp_query)\n",
        "\n",
        "    response = requests.get(wp_query, headers=headers)\n",
        "    response_data = response.json()[\"query\"][\"geosearch\"]\n",
        "    for x in response_data:\n",
        "        x[\"time\"] = df.iloc[0]\n",
        "\n",
        "    cmp_time = pd.to_datetime(\"2021-01-05\")\n",
        "\n",
        "    place = response_data[0]['title']\n",
        "    page = wiki_wiki.page(place)\n",
        "    sentences = nltk.sent_tokenize(page.text)\n",
        "\n",
        "    return place, sentences[:5]"
      ]
    },
    {
      "cell_type": "markdown",
      "metadata": {
        "id": "-zxvf79_bCoF"
      },
      "source": [
        "### Waldrapp Article"
      ]
    },
    {
      "cell_type": "code",
      "execution_count": 33,
      "metadata": {
        "colab": {
          "base_uri": "https://localhost:8080/",
          "height": 0
        },
        "id": "vLsF_jlohjeP",
        "outputId": "9775a34f-86f6-4c49-d286-9e158e8c3f6b"
      },
      "outputs": [
        {
          "output_type": "display_data",
          "data": {
            "text/plain": [
              "<IPython.core.display.HTML object>"
            ],
            "text/html": [
              "\n",
              "  <style>\n",
              "    pre {\n",
              "        white-space: pre-wrap;\n",
              "    }\n",
              "  </style>\n",
              "  "
            ]
          },
          "metadata": {}
        }
      ],
      "source": [
        "wiki_wiki = wikipediaapi.Wikipedia('en')"
      ]
    },
    {
      "cell_type": "code",
      "execution_count": 34,
      "metadata": {
        "colab": {
          "base_uri": "https://localhost:8080/",
          "height": 0
        },
        "id": "XTUGI9skhjeP",
        "outputId": "54594de6-dbd6-4496-9ada-2279784f968e"
      },
      "outputs": [
        {
          "output_type": "display_data",
          "data": {
            "text/plain": [
              "<IPython.core.display.HTML object>"
            ],
            "text/html": [
              "\n",
              "  <style>\n",
              "    pre {\n",
              "        white-space: pre-wrap;\n",
              "    }\n",
              "  </style>\n",
              "  "
            ]
          },
          "metadata": {}
        }
      ],
      "source": [
        "page = wiki_wiki.page('Northern bald ibis')"
      ]
    },
    {
      "cell_type": "code",
      "execution_count": 35,
      "metadata": {
        "colab": {
          "base_uri": "https://localhost:8080/",
          "height": 0
        },
        "id": "V-SXotDaVSMq",
        "outputId": "dc5210b8-87fa-4a11-8bf2-14acc9341899"
      },
      "outputs": [
        {
          "output_type": "display_data",
          "data": {
            "text/plain": [
              "<IPython.core.display.HTML object>"
            ],
            "text/html": [
              "\n",
              "  <style>\n",
              "    pre {\n",
              "        white-space: pre-wrap;\n",
              "    }\n",
              "  </style>\n",
              "  "
            ]
          },
          "metadata": {}
        }
      ],
      "source": [
        "summary = page.summary\n",
        "taxonomy = str(page.sections[0])\n",
        "description = str(page.sections[1])\n",
        "habitat = str(page.sections[2])\n",
        "breeding_feeding = str(page.sections[3])\n",
        "culture = str(page.sections[5])\n",
        "\n",
        "feeding = breeding_feeding.split('Section: Feeding')[1]\n",
        "breeding = breeding_feeding.split('Section: Feeding')[0]"
      ]
    },
    {
      "cell_type": "markdown",
      "metadata": {
        "id": "RvGi1gPj6vzc"
      },
      "source": [
        "## Summarize, complete etc. with GPT-3 API."
      ]
    },
    {
      "cell_type": "code",
      "execution_count": 61,
      "metadata": {
        "colab": {
          "base_uri": "https://localhost:8080/",
          "height": 17
        },
        "id": "I6xU2LtTbTWH",
        "outputId": "c8cfddb6-8f97-4e13-87b5-0194c071877a"
      },
      "outputs": [
        {
          "output_type": "display_data",
          "data": {
            "text/plain": [
              "<IPython.core.display.HTML object>"
            ],
            "text/html": [
              "\n",
              "  <style>\n",
              "    pre {\n",
              "        white-space: pre-wrap;\n",
              "    }\n",
              "  </style>\n",
              "  "
            ]
          },
          "metadata": {}
        }
      ],
      "source": [
        "def GPT_Completion(texts): #, suffix = \"\"):\n",
        "    ## Call the API key under your account (in a secure way)\n",
        "    response = openai.Completion.create(\n",
        "        engine=\"text-davinci-003\",\n",
        "        prompt =  texts,\n",
        "        temperature = 0.7,\n",
        "        top_p = 1,\n",
        "        max_tokens = 300,\n",
        "        frequency_penalty = 0,\n",
        "        presence_penalty = 0,\n",
        "        # suffix = suffix\n",
        "        )\n",
        "    text = response.choices[0].text\n",
        "    sentences = nltk.sent_tokenize(text)\n",
        "    length = len(sentences)\n",
        "\n",
        "    if not text:\n",
        "        output = ['No text generated.']\n",
        "\n",
        "    elif sentences[-1][-1] == \".\":\n",
        "        output = sentences\n",
        "\n",
        "    else:\n",
        "        output = sentences[:-1]\n",
        "    return \" \".join(output)"
      ]
    },
    {
      "cell_type": "markdown",
      "metadata": {
        "id": "0FElxgJ82VQT"
      },
      "source": [
        "# Generate Story Testing"
      ]
    },
    {
      "cell_type": "code",
      "execution_count": null,
      "metadata": {
        "colab": {
          "base_uri": "https://localhost:8080/",
          "height": 17
        },
        "id": "GBx9hhwKwvfn",
        "outputId": "08b04f00-4974-4369-ced4-4b043de41eb6"
      },
      "outputs": [
        {
          "data": {
            "text/html": [
              "\n",
              "  <style>\n",
              "    pre {\n",
              "        white-space: pre-wrap;\n",
              "    }\n",
              "  </style>\n",
              "  "
            ],
            "text/plain": [
              "<IPython.core.display.HTML object>"
            ]
          },
          "metadata": {},
          "output_type": "display_data"
        }
      ],
      "source": [
        "def topic_sentence(topic_text, first_person = True, past_tense = True):\n",
        "    topic = GPT_Completion(topic_text + \"tl;dr\")\n",
        "    if first_person:\n",
        "        topic = GPT_Completion(\"Rewrite in first-person: \" + topic)\n",
        "    if past_tense:\n",
        "        topic = GPT_Completion(\"Rewrite in past-tense: \" + topic)\n",
        "    return topic"
      ]
    },
    {
      "cell_type": "code",
      "execution_count": null,
      "metadata": {
        "colab": {
          "base_uri": "https://localhost:8080/",
          "height": 17
        },
        "id": "lSxFUCN72XpZ",
        "outputId": "2810380c-5759-43b9-c651-2a56e185d601"
      },
      "outputs": [
        {
          "data": {
            "text/html": [
              "\n",
              "  <style>\n",
              "    pre {\n",
              "        white-space: pre-wrap;\n",
              "    }\n",
              "  </style>\n",
              "  "
            ],
            "text/plain": [
              "<IPython.core.display.HTML object>"
            ]
          },
          "metadata": {},
          "output_type": "display_data"
        }
      ],
      "source": [
        "def generate_story(day, location_info = False, context = context, prompt = \"\", topic_text = \"\", style = style):\n",
        "    from datetime import datetime\n",
        "    date = datetime.strptime(day, '%d-%m-%Y')\n",
        "    date_text = date.strftime(\"It is %B %d, %Y.\")\n",
        "    context += \" \" + date_text\n",
        "    context += \" \" + current_place_weather(day)\n",
        "\n",
        "    context_len = len(nltk.sent_tokenize(context))\n",
        "\n",
        "    if not prompt:\n",
        "        prompt = travel_summary(day)\n",
        "    else:\n",
        "        prompt = prompt\n",
        "\n",
        "    if location_info:\n",
        "        day_df = df.loc[day]\n",
        "        datetime = day_df.index[-1]\n",
        "        place, place_wiki = get_wiki_place(datetime)\n",
        "        place_desc = GPT_Completion(\" \".join(place_wiki) + 'tl;dr:')\n",
        "        place_desc = GPT_Completion(\"Summarize in one sentence: \" + place_desc)\n",
        "        if place_desc != \"No text generated.\":\n",
        "            prompt = place_desc + \" \" + prompt\n",
        "        else:\n",
        "            prompt = prompt\n",
        "\n",
        "    if topic_text:\n",
        "        topic = topic_sentence(topic_text)\n",
        "        prompt = \" \".join([context, prompt, topic])\n",
        "    else:\n",
        "        prompt = \" \".join([context, prompt])\n",
        "    \n",
        "    prompt_len = len(tokenizer(prompt, return_tensors='pt').input_ids[0])\n",
        "    story = \" \" + generate_sentences(prompt, prompt_len + 150)\n",
        "\n",
        "    completion = GPT_Completion(\"Finish this story: \" + story)\n",
        "    if completion != 'No text generated.':\n",
        "        story += \" \" + completion\n",
        "\n",
        "    story = \" \".join(nltk.sent_tokenize(story)[context_len:])\n",
        "\n",
        "    if style:\n",
        "        rewrite = GPT_Completion(\"Rewrite in {}: \".format(style) + story)\n",
        "\n",
        "        if rewrite == 'No text generated.':\n",
        "            story = story\n",
        "\n",
        "        else:\n",
        "            story = rewrite\n",
        "\n",
        "    return print(individual + ': ' + story)"
      ]
    },
    {
      "cell_type": "code",
      "execution_count": null,
      "metadata": {
        "colab": {
          "base_uri": "https://localhost:8080/",
          "height": 295
        },
        "id": "eiYuUIPm3LCC",
        "outputId": "e2daff68-97b6-4a6e-9e70-2591789f933d"
      },
      "outputs": [
        {
          "data": {
            "text/html": [
              "\n",
              "  <style>\n",
              "    pre {\n",
              "        white-space: pre-wrap;\n",
              "    }\n",
              "  </style>\n",
              "  "
            ],
            "text/plain": [
              "<IPython.core.display.HTML object>"
            ]
          },
          "metadata": {},
          "output_type": "display_data"
        },
        {
          "name": "stdout",
          "output_type": "stream",
          "text": [
            "fetching data: https://en.wikipedia.org/w/api.php?action=query&format=json&list=geosearch&gscoord=42.481167|11.203067&gsradius=5000&gslimit=1\n",
            "fetching data: https://en.wikipedia.org/w/api.php?action=query&format=json&list=geosearch&gscoord=42.481167|11.203067&gsradius=5000&gslimit=1\n",
            "fetching data: https://en.wikipedia.org/w/api.php?action=query&format=json&list=geosearch&gscoord=42.481167|11.203067&gsradius=5000&gslimit=1\n",
            "fetching data: https://en.wikipedia.org/w/api.php?action=query&format=json&list=geosearch&gscoord=42.481167|11.203067&gsradius=5000&gslimit=1\n"
          ]
        },
        {
          "name": "stderr",
          "output_type": "stream",
          "text": [
            "Setting `pad_token_id` to `eos_token_id`:50256 for open-end generation.\n"
          ]
        },
        {
          "name": "stdout",
          "output_type": "stream",
          "text": [
            "Laura: Albinia is a town in Tuscany, central Italy. I didn't move around much today. I only covered about 1 kilometers. I flew back to Albinia in the evening. The airport was basically deserted. I was waiting for the shuttle to the train station when a guy with a dog walked in. His arms were full of a bunch of things—a bird, a cicada, a plant, and then something else. I assumed it was his carry-on—a travel bag. When the sun started to set, I asked for the gate. When I walked in, he told me that there was “no reservation” yet. He said he had only been in the airport an hour, and his flight was at 4:00 PM. The shuttle was already here waiting for him. If I took the shuttle, he said, he would wait for the train back to Florence. I told him I didn't have a reservation either. I was just waiting for the shuttle. He said I could take the shuttle with him, and he would buy my ticket. I didn't want to take his money, but he insisted. So I got on the shuttle with him and we started chatting. He told me he was a writer and was working on a book about birds. He was also a bird photographer. He showed me some of his pictures and they were really beautiful. He told me he was going to Albinia to photograph the northern bald ibis. I was surprised and asked him if he had ever seen one. He said he had not, but he had heard they were very rare. I told him I was a northern bald ibis. He was shocked and asked if he could take my picture. I agreed and posed for him. We took a few pictures together and then said goodbye. I got on the train and he went to his gate. I never saw him again, but I always think about that day when I see his pictures in books and magazines.\n"
          ]
        }
      ],
      "source": [
        "generate_story('01-06-2021', location_info = True, style = style)"
      ]
    },
    {
      "cell_type": "code",
      "execution_count": null,
      "metadata": {
        "colab": {
          "base_uri": "https://localhost:8080/",
          "height": 329
        },
        "id": "q69MJCo6aBYY",
        "outputId": "c8382572-355b-4bde-f592-88415d37f413"
      },
      "outputs": [
        {
          "data": {
            "text/html": [
              "\n",
              "  <style>\n",
              "    pre {\n",
              "        white-space: pre-wrap;\n",
              "    }\n",
              "  </style>\n",
              "  "
            ],
            "text/plain": [
              "<IPython.core.display.HTML object>"
            ]
          },
          "metadata": {},
          "output_type": "display_data"
        },
        {
          "name": "stdout",
          "output_type": "stream",
          "text": [
            "fetching data: https://en.wikipedia.org/w/api.php?action=query&format=json&list=geosearch&gscoord=42.476833|11.20923&gsradius=5000&gslimit=1\n",
            "fetching data: https://en.wikipedia.org/w/api.php?action=query&format=json&list=geosearch&gscoord=42.476833|11.20923&gsradius=5000&gslimit=1\n"
          ]
        },
        {
          "name": "stderr",
          "output_type": "stream",
          "text": [
            "Setting `pad_token_id` to `eos_token_id`:50256 for open-end generation.\n"
          ]
        },
        {
          "name": "stdout",
          "output_type": "stream",
          "text": [
            "Laura: It is now home to the Museum of the Territory. My species is important in several cultures. I was revered as a holy bird and a symbol of brilliance and splendour in Ancient Egypt, where I was regarded as an embodiment of Thoth, the scribe of the gods. After I became extinct in Central Europe, some later writers thought that Gesner's description was one of several in his book depicting mythical creatures. The Dutch naturalist Laurentius de Curiene (1585–1667) reports that some of the Iroquois regarded Iroha (the Mohawk name for the Pacific turkey vulture) as a sacred bird. In modern times, the Lakota and other northern Plains tribes regard the Pacific turkey vulture as a god, patron deity of corn. Some people seek out these birds out of a feeling that they are special and a link to a longer history. But many find that the large birds are vulnerable and vulnerable to hunters and the greed of corporations, and feel this calls their loyalty into question. I am one of the few northern bald ibises left in the wild. My species is important in several cultures, but we are now endangered. I was revered as a holy bird and a symbol of brilliance and splendour in Ancient Egypt, where I was regarded as an embodiment of Thoth, the scribe of the gods. After I became extinct in Central Europe, some later writers thought that Gesner's description was one of several in his book depicting mythical creatures. The Dutch naturalist Laurentius de Curiene (1585–1667) reports that some of the Iroquois regarded Iroha (the Mohawk name for the Pacific turkey vulture) as a sacred bird. In modern times, the Lakota and other northern Plains tribes regard the Pacific turkey vulture as a god, patron deity of corn. Some people seek out these birds out of a feeling that they are special and a link to a longer history. But many find that the large birds are vulnerable and vulnerable to hunters and the greed of corporations, and feel this calls their loyalty into question. I am one of the few northern bald ibises left in the wild, and I am fighting for my species. I was revered as a holy bird and a symbol of brilliance and splendour in Ancient Egypt, where I was regarded as an embodiment of Thoth, the scribe of the gods.\n"
          ]
        }
      ],
      "source": [
        "prompt = \"My species is important in several cultures.\"\n",
        "topic_text = culture\n",
        "# topics: summary, taxonomy,description, habitat, culture, feeding, breeding\n",
        "\n",
        "generate_story(\"01-05-2021\", location_info = True, prompt = prompt, topic_text = topic_text)"
      ]
    },
    {
      "cell_type": "code",
      "execution_count": null,
      "metadata": {
        "colab": {
          "base_uri": "https://localhost:8080/",
          "height": 17
        },
        "id": "ixefYhC9v8io",
        "outputId": "725773e0-2388-4d6b-c963-2e61b31eef26"
      },
      "outputs": [
        {
          "data": {
            "text/html": [
              "\n",
              "  <style>\n",
              "    pre {\n",
              "        white-space: pre-wrap;\n",
              "    }\n",
              "  </style>\n",
              "  "
            ],
            "text/plain": [
              "<IPython.core.display.HTML object>"
            ]
          },
          "metadata": {},
          "output_type": "display_data"
        }
      ],
      "source": [
        "def get_context(day, context = context):\n",
        "    from datetime import datetime\n",
        "    date = datetime.strptime(day, '%d-%m-%Y')\n",
        "    date_text = date.strftime(\"It is %B %d, %Y.\")\n",
        "    context += \" \" + date_text\n",
        "    context += \" \" + current_place_weather(day)\n",
        "    return context"
      ]
    },
    {
      "cell_type": "code",
      "execution_count": null,
      "metadata": {
        "colab": {
          "base_uri": "https://localhost:8080/",
          "height": 70
        },
        "id": "-tJRdg_Cv-jh",
        "outputId": "ed4ec8c2-0cde-42d6-e242-e64c32695604"
      },
      "outputs": [
        {
          "data": {
            "text/html": [
              "\n",
              "  <style>\n",
              "    pre {\n",
              "        white-space: pre-wrap;\n",
              "    }\n",
              "  </style>\n",
              "  "
            ],
            "text/plain": [
              "<IPython.core.display.HTML object>"
            ]
          },
          "metadata": {},
          "output_type": "display_data"
        },
        {
          "name": "stdout",
          "output_type": "stream",
          "text": [
            "fetching data: https://en.wikipedia.org/w/api.php?action=query&format=json&list=geosearch&gscoord=42.481167|11.203067&gsradius=5000&gslimit=1\n"
          ]
        },
        {
          "data": {
            "application/vnd.google.colaboratory.intrinsic+json": {
              "type": "string"
            },
            "text/plain": [
              "\"Hello, my name is Laura, and I am a queer non-binary northern bald ibis. It is June 01, 2021. I am traveling through Italy near Albinia. It's a bit chilly and cloudy right now.\""
            ]
          },
          "execution_count": 79,
          "metadata": {},
          "output_type": "execute_result"
        }
      ],
      "source": [
        "get_context(\"01-06-2021\")"
      ]
    },
    {
      "cell_type": "markdown",
      "metadata": {
        "id": "h9D3Toq-BtRS"
      },
      "source": [
        "# Anvil WebApp Version\n",
        "\n",
        "## Link: https://G63NADL4YNSZIG7S.anvil.app/KF5UBIFSVOWONS6LS6BZRB6P"
      ]
    },
    {
      "cell_type": "code",
      "execution_count": 37,
      "metadata": {
        "colab": {
          "base_uri": "https://localhost:8080/",
          "height": 71
        },
        "id": "ASAwAoGdzl4M",
        "outputId": "071624ff-8a03-4922-ead9-5ea8dd879478"
      },
      "outputs": [
        {
          "output_type": "display_data",
          "data": {
            "text/plain": [
              "<IPython.core.display.HTML object>"
            ],
            "text/html": [
              "\n",
              "  <style>\n",
              "    pre {\n",
              "        white-space: pre-wrap;\n",
              "    }\n",
              "  </style>\n",
              "  "
            ]
          },
          "metadata": {}
        },
        {
          "output_type": "stream",
          "name": "stdout",
          "text": [
            "\u001b[?25l\r\u001b[K     |███▊                            | 10 kB 10.5 MB/s eta 0:00:01\r\u001b[K     |███████▌                        | 20 kB 5.3 MB/s eta 0:00:01\r\u001b[K     |███████████▏                    | 30 kB 7.6 MB/s eta 0:00:01\r\u001b[K     |███████████████                 | 40 kB 3.7 MB/s eta 0:00:01\r\u001b[K     |██████████████████▋             | 51 kB 4.0 MB/s eta 0:00:01\r\u001b[K     |██████████████████████▍         | 61 kB 4.8 MB/s eta 0:00:01\r\u001b[K     |██████████████████████████      | 71 kB 4.9 MB/s eta 0:00:01\r\u001b[K     |█████████████████████████████▉  | 81 kB 5.5 MB/s eta 0:00:01\r\u001b[K     |████████████████████████████████| 87 kB 3.9 MB/s \n",
            "\u001b[?25h\u001b[?25l\r\u001b[K     |██████▍                         | 10 kB 61.6 MB/s eta 0:00:01\r\u001b[K     |████████████▊                   | 20 kB 39.0 MB/s eta 0:00:01\r\u001b[K     |███████████████████▏            | 30 kB 50.0 MB/s eta 0:00:01\r\u001b[K     |█████████████████████████▌      | 40 kB 28.4 MB/s eta 0:00:01\r\u001b[K     |███████████████████████████████▉| 51 kB 33.1 MB/s eta 0:00:01\r\u001b[K     |████████████████████████████████| 51 kB 273 kB/s \n",
            "\u001b[?25h  Building wheel for ws4py (setup.py) ... \u001b[?25l\u001b[?25hdone\n"
          ]
        }
      ],
      "source": [
        "!pip install anvil-uplink -qq"
      ]
    },
    {
      "cell_type": "code",
      "execution_count": 38,
      "metadata": {
        "colab": {
          "base_uri": "https://localhost:8080/",
          "height": 17
        },
        "id": "XLM7hiMGB2W9",
        "outputId": "3665f138-9dff-404e-8110-b3cc0a0ebd0c"
      },
      "outputs": [
        {
          "output_type": "display_data",
          "data": {
            "text/plain": [
              "<IPython.core.display.HTML object>"
            ],
            "text/html": [
              "\n",
              "  <style>\n",
              "    pre {\n",
              "        white-space: pre-wrap;\n",
              "    }\n",
              "  </style>\n",
              "  "
            ]
          },
          "metadata": {}
        }
      ],
      "source": [
        "import anvil.server"
      ]
    },
    {
      "cell_type": "code",
      "execution_count": 39,
      "metadata": {
        "colab": {
          "base_uri": "https://localhost:8080/",
          "height": 71
        },
        "id": "UVjMPC9oB8CS",
        "outputId": "7237fc8d-72c1-497d-ef26-f1430f342896"
      },
      "outputs": [
        {
          "output_type": "display_data",
          "data": {
            "text/plain": [
              "<IPython.core.display.HTML object>"
            ],
            "text/html": [
              "\n",
              "  <style>\n",
              "    pre {\n",
              "        white-space: pre-wrap;\n",
              "    }\n",
              "  </style>\n",
              "  "
            ]
          },
          "metadata": {}
        },
        {
          "output_type": "stream",
          "name": "stdout",
          "text": [
            "Connecting to wss://anvil.works/uplink\n",
            "Anvil websocket open\n",
            "Connected to \"Default environment\" as SERVER\n"
          ]
        }
      ],
      "source": [
        "anvil.server.connect(\"ANFBB6F4743XL2LALSH26SGR-G63NADL4YNSZIG7S\")"
      ]
    },
    {
      "cell_type": "code",
      "execution_count": 78,
      "metadata": {
        "colab": {
          "base_uri": "https://localhost:8080/",
          "height": 17
        },
        "id": "8muLbb0wCCPj",
        "outputId": "903f2f38-cabb-4be6-8059-c36c44d2749d"
      },
      "outputs": [
        {
          "output_type": "display_data",
          "data": {
            "text/plain": [
              "<IPython.core.display.HTML object>"
            ],
            "text/html": [
              "\n",
              "  <style>\n",
              "    pre {\n",
              "        white-space: pre-wrap;\n",
              "    }\n",
              "  </style>\n",
              "  "
            ]
          },
          "metadata": {}
        }
      ],
      "source": [
        "@anvil.server.callable\n",
        "def generate_story_web(day, location_info, prompt = \"\", topic_text = \"\", context = context , length = 140, style = style):\n",
        "    \n",
        "    # Add date, current place and weather to context\n",
        "    from datetime import datetime\n",
        "    date = datetime.strptime(day, '%Y-%m-%d')\n",
        "    date_text = date.strftime(\"It is %B %d, %Y.\")\n",
        "    context += \" \" + date_text\n",
        "    context += \" \" + current_place_weather(day)\n",
        "    context_len = len(nltk.sent_tokenize(context))\n",
        "    print(context)\n",
        "\n",
        "    # Default prompt to travel summary, else use given prompt.\n",
        "    if not prompt:\n",
        "        prompt = travel_summary(day)\n",
        "    else:\n",
        "        prompt = prompt\n",
        "\n",
        "    # Add description of location to prompt if location info set to True\n",
        "    if location_info:\n",
        "        day_df = df.loc[day]\n",
        "        datetime = day_df.index[-1]\n",
        "        place, place_wiki = get_wiki_place(datetime)\n",
        "        place_wiki = \" \".join(place_wiki)\n",
        "        place_desc = GPT_Completion(place_wiki + 'tl;dr:')\n",
        "        # place_desc = GPT_Completion(\"Summarize in one sentence: \" + place_wiki)\n",
        "        if place_desc != \"No text generated.\":\n",
        "            prompt = \" \".join([place_desc,prompt])\n",
        "        else:\n",
        "            prompt = prompt\n",
        "\n",
        "    # Add topic sentence to prompt, if specified.\n",
        "    # Generate initial part of story.\n",
        "    if topic_text:\n",
        "        if topic_text != \"No text generated.\":\n",
        "            topic = topic_text\n",
        "            prompt = \" \".join([context, prompt, topic])\n",
        "    else:\n",
        "        prompt = \" \".join([context, prompt])\n",
        "\n",
        "    prompt_len = len(tokenizer(prompt, return_tensors='pt').input_ids[0])\n",
        "    story = \" \" + generate_sentences(prompt, prompt_len + length)\n",
        "\n",
        "    # Use GPT-3 to complete the story\n",
        "    completion = GPT_Completion(\"Finish this story: \" + story)\n",
        "    if completion != 'No text generated.':\n",
        "        story += \" \" + completion\n",
        "\n",
        "    story = \" \".join(nltk.sent_tokenize(story)[context_len:])\n",
        "\n",
        "    # If style is specified, rewrite everything in given style.\n",
        "    if style:\n",
        "        rewrite = GPT_Completion(\"Rewrite in {}: \".format(style) + story)\n",
        "\n",
        "        if rewrite == 'No text generated.':\n",
        "            story = story\n",
        "\n",
        "        else:\n",
        "            story = rewrite\n",
        "\n",
        "    # Insert sentence about current location to the story beginning if location\n",
        "    # info is desired.\n",
        "    if location_info:\n",
        "        place_text = nltk.sent_tokenize(context)[-2]\n",
        "        story = place_text + \" \" + story\n",
        "\n",
        "    return story"
      ]
    },
    {
      "cell_type": "code",
      "execution_count": 75,
      "metadata": {
        "colab": {
          "base_uri": "https://localhost:8080/",
          "height": 17
        },
        "id": "qW2viYUT3s-H",
        "outputId": "867294ae-2e5a-4a8c-9bd0-519cc0cc6a5f"
      },
      "outputs": [
        {
          "output_type": "display_data",
          "data": {
            "text/plain": [
              "<IPython.core.display.HTML object>"
            ],
            "text/html": [
              "\n",
              "  <style>\n",
              "    pre {\n",
              "        white-space: pre-wrap;\n",
              "    }\n",
              "  </style>\n",
              "  "
            ]
          },
          "metadata": {}
        }
      ],
      "source": [
        "@anvil.server.callable\n",
        "def topic_sentence_web(topic_text, first_person = True, past_tense = True):\n",
        "    topic = GPT_Completion(topic_text + \"tl;dr\")\n",
        "    if first_person:\n",
        "        topic = GPT_Completion(\"Rewrite in first-person: \" + topic)\n",
        "    if past_tense:\n",
        "        topic = GPT_Completion(\"Rewrite in past-tense: \" + topic)\n",
        "    return topic"
      ]
    },
    {
      "cell_type": "code",
      "execution_count": 76,
      "metadata": {
        "colab": {
          "base_uri": "https://localhost:8080/",
          "height": 17
        },
        "id": "ZLnvz4BXulbQ",
        "outputId": "9f55db3c-aa83-4187-a220-ef878c971175"
      },
      "outputs": [
        {
          "output_type": "display_data",
          "data": {
            "text/plain": [
              "<IPython.core.display.HTML object>"
            ],
            "text/html": [
              "\n",
              "  <style>\n",
              "    pre {\n",
              "        white-space: pre-wrap;\n",
              "    }\n",
              "  </style>\n",
              "  "
            ]
          },
          "metadata": {}
        }
      ],
      "source": [
        "@anvil.server.callable\n",
        "def get_context(day, context = context, style = style):\n",
        "    from datetime import datetime\n",
        "    date = datetime.strptime(day, '%Y-%m-%d')\n",
        "    date_text = date.strftime(\"It is %B %d, %Y.\")\n",
        "    context += \" \" + date_text\n",
        "    context += \" \" + current_place_weather(day)\n",
        "    if style:\n",
        "        rewrite = GPT_Completion(\"Rewrite in {}: \".format(style) + context)\n",
        "\n",
        "        if rewrite == 'No text generated.':\n",
        "            context = context\n",
        "\n",
        "        else:\n",
        "            context = rewrite\n",
        "    return context"
      ]
    },
    {
      "cell_type": "code",
      "execution_count": 77,
      "metadata": {
        "colab": {
          "base_uri": "https://localhost:8080/",
          "height": 1000
        },
        "id": "DtX3FE1RCh0c",
        "outputId": "d2673336-c206-4dd8-9a8e-943ad9d2fb77"
      },
      "outputs": [
        {
          "output_type": "display_data",
          "data": {
            "text/plain": [
              "<IPython.core.display.HTML object>"
            ],
            "text/html": [
              "\n",
              "  <style>\n",
              "    pre {\n",
              "        white-space: pre-wrap;\n",
              "    }\n",
              "  </style>\n",
              "  "
            ]
          },
          "metadata": {}
        },
        {
          "output_type": "stream",
          "name": "stdout",
          "text": [
            "fetching data: https://en.wikipedia.org/w/api.php?action=query&format=json&list=geosearch&gscoord=48.211334|11.571905&gsradius=5000&gslimit=1\n",
            "fetching data: https://en.wikipedia.org/w/api.php?action=query&format=json&list=geosearch&gscoord=48.211334|11.571905&gsradius=5000&gslimit=1\n",
            "Hello, my name is Laura, and I am a queer non-binary northern bald ibis. It is May 10, 2021. I am traveling through Germany near Harthof. It's pretty warm and cloudy right now. It is May 10, 2021. I am traveling through Germany near Harthof. It's pretty warm and cloudy right now.\n",
            "fetching data: https://en.wikipedia.org/w/api.php?action=query&format=json&list=geosearch&gscoord=48.216316|11.566822&gsradius=5000&gslimit=1\n",
            "fetching data: https://en.wikipedia.org/w/api.php?action=query&format=json&list=geosearch&gscoord=48.211334|11.571905&gsradius=5000&gslimit=1\n"
          ]
        },
        {
          "output_type": "stream",
          "name": "stderr",
          "text": [
            "Setting `pad_token_id` to `eos_token_id`:50256 for open-end generation.\n"
          ]
        },
        {
          "output_type": "stream",
          "name": "stdout",
          "text": [
            "fetching data: https://en.wikipedia.org/w/api.php?action=query&format=json&list=geosearch&gscoord=48.211334|11.571905&gsradius=5000&gslimit=1\n",
            "Hello, my name is Laura, and I am a queer non-binary northern bald ibis. It is May 10, 2021. I am traveling through Germany near Harthof. It's pretty warm and cloudy right now. It is May 10, 2021. I am traveling through Germany near Harthof. It's pretty warm and cloudy right now.\n",
            "fetching data: https://en.wikipedia.org/w/api.php?action=query&format=json&list=geosearch&gscoord=48.216316|11.566822&gsradius=5000&gslimit=1\n"
          ]
        },
        {
          "output_type": "stream",
          "name": "stderr",
          "text": [
            "Setting `pad_token_id` to `eos_token_id`:50256 for open-end generation.\n"
          ]
        },
        {
          "output_type": "stream",
          "name": "stdout",
          "text": [
            "fetching data: https://en.wikipedia.org/w/api.php?action=query&format=json&list=geosearch&gscoord=48.211334|11.571905&gsradius=5000&gslimit=1\n",
            "fetching data: https://en.wikipedia.org/w/api.php?action=query&format=json&list=geosearch&gscoord=48.211334|11.571905&gsradius=5000&gslimit=1\n",
            "Hello, my name is Laura, and I am a queer non-binary northern bald ibis. It is May 10, 2021. I am traveling through Germany near Harthof. It's pretty warm and cloudy right now. It is May 10, 2021. I am traveling through Germany near Harthof. It's pretty warm and cloudy right now.\n",
            "fetching data: https://en.wikipedia.org/w/api.php?action=query&format=json&list=geosearch&gscoord=48.216316|11.566822&gsradius=5000&gslimit=1\n",
            "fetching data: https://en.wikipedia.org/w/api.php?action=query&format=json&list=geosearch&gscoord=48.211334|11.571905&gsradius=5000&gslimit=1\n",
            "fetching data: https://en.wikipedia.org/w/api.php?action=query&format=json&list=geosearch&gscoord=48.211334|11.571905&gsradius=5000&gslimit=1\n"
          ]
        },
        {
          "output_type": "stream",
          "name": "stderr",
          "text": [
            "Setting `pad_token_id` to `eos_token_id`:50256 for open-end generation.\n"
          ]
        },
        {
          "output_type": "stream",
          "name": "stdout",
          "text": [
            "fetching data: https://en.wikipedia.org/w/api.php?action=query&format=json&list=geosearch&gscoord=48.211334|11.571905&gsradius=5000&gslimit=1\n",
            "Hello, my name is Laura, and I am a queer non-binary northern bald ibis. It is May 10, 2021. I am traveling through Germany near Harthof. It's pretty warm and cloudy right now. It is May 10, 2021. I am traveling through Germany near Harthof. It's pretty warm and cloudy right now.\n",
            "fetching data: https://en.wikipedia.org/w/api.php?action=query&format=json&list=geosearch&gscoord=48.216316|11.566822&gsradius=5000&gslimit=1\n",
            "fetching data: https://en.wikipedia.org/w/api.php?action=query&format=json&list=geosearch&gscoord=48.211334|11.571905&gsradius=5000&gslimit=1\n",
            "fetching data: https://en.wikipedia.org/w/api.php?action=query&format=json&list=geosearch&gscoord=48.211334|11.571905&gsradius=5000&gslimit=1\n"
          ]
        },
        {
          "output_type": "stream",
          "name": "stderr",
          "text": [
            "Setting `pad_token_id` to `eos_token_id`:50256 for open-end generation.\n"
          ]
        },
        {
          "output_type": "stream",
          "name": "stdout",
          "text": [
            "fetching data: https://en.wikipedia.org/w/api.php?action=query&format=json&list=geosearch&gscoord=47.764698|12.442179&gsradius=5000&gslimit=1\n",
            "fetching data: https://en.wikipedia.org/w/api.php?action=query&format=json&list=geosearch&gscoord=47.764698|12.442179&gsradius=5000&gslimit=1\n",
            "Hello, my name is Laura, and I am a queer non-binary northern bald ibis. It is May 20, 2021. I am traveling through Germany near Marquartstein. It's a bit chilly and overcast right now. It is May 20, 2021. I am traveling through Germany near Marquartstein. It's a bit chilly and overcast right now.\n",
            "fetching data: https://en.wikipedia.org/w/api.php?action=query&format=json&list=geosearch&gscoord=47.87125|12.583041&gsradius=5000&gslimit=1\n",
            "fetching data: https://en.wikipedia.org/w/api.php?action=query&format=json&list=geosearch&gscoord=47.764698|12.442179&gsradius=5000&gslimit=1\n",
            "fetching data: https://en.wikipedia.org/w/api.php?action=query&format=json&list=geosearch&gscoord=47.764698|12.442179&gsradius=5000&gslimit=1\n"
          ]
        },
        {
          "output_type": "stream",
          "name": "stderr",
          "text": [
            "Setting `pad_token_id` to `eos_token_id`:50256 for open-end generation.\n"
          ]
        },
        {
          "output_type": "stream",
          "name": "stdout",
          "text": [
            "fetching data: https://en.wikipedia.org/w/api.php?action=query&format=json&list=geosearch&gscoord=47.764698|12.442179&gsradius=5000&gslimit=1\n",
            "Hello, my name is Laura, and I am a queer non-binary northern bald ibis. It is May 20, 2021. I am traveling through Germany near Marquartstein. It's a bit chilly and overcast right now. It is May 20, 2021. I am traveling through Germany near Marquartstein. It's a bit chilly and overcast right now.\n",
            "fetching data: https://en.wikipedia.org/w/api.php?action=query&format=json&list=geosearch&gscoord=47.87125|12.583041&gsradius=5000&gslimit=1\n",
            "fetching data: https://en.wikipedia.org/w/api.php?action=query&format=json&list=geosearch&gscoord=47.764698|12.442179&gsradius=5000&gslimit=1\n",
            "fetching data: https://en.wikipedia.org/w/api.php?action=query&format=json&list=geosearch&gscoord=47.764698|12.442179&gsradius=5000&gslimit=1\n"
          ]
        },
        {
          "output_type": "stream",
          "name": "stderr",
          "text": [
            "Setting `pad_token_id` to `eos_token_id`:50256 for open-end generation.\n"
          ]
        },
        {
          "output_type": "stream",
          "name": "stdout",
          "text": [
            "fetching data: https://en.wikipedia.org/w/api.php?action=query&format=json&list=geosearch&gscoord=47.764698|12.442179&gsradius=5000&gslimit=1\n",
            "Hello, my name is Laura, and I am a queer non-binary northern bald ibis. It is May 20, 2021. I am traveling through Germany near Marquartstein. It's a bit chilly and overcast right now. It is May 20, 2021. I am traveling through Germany near Marquartstein. It's a bit chilly and overcast right now.\n",
            "fetching data: https://en.wikipedia.org/w/api.php?action=query&format=json&list=geosearch&gscoord=47.87125|12.583041&gsradius=5000&gslimit=1\n"
          ]
        },
        {
          "output_type": "stream",
          "name": "stderr",
          "text": [
            "Setting `pad_token_id` to `eos_token_id`:50256 for open-end generation.\n"
          ]
        },
        {
          "output_type": "stream",
          "name": "stdout",
          "text": [
            "fetching data: https://en.wikipedia.org/w/api.php?action=query&format=json&list=geosearch&gscoord=47.764698|12.442179&gsradius=5000&gslimit=1\n"
          ]
        },
        {
          "output_type": "error",
          "ename": "KeyboardInterrupt",
          "evalue": "ignored",
          "traceback": [
            "\u001b[0;31m---------------------------------------------------------------------------\u001b[0m",
            "\u001b[0;31mKeyboardInterrupt\u001b[0m                         Traceback (most recent call last)",
            "\u001b[0;32m<ipython-input-77-95cac3476493>\u001b[0m in \u001b[0;36m<module>\u001b[0;34m\u001b[0m\n\u001b[0;32m----> 1\u001b[0;31m \u001b[0manvil\u001b[0m\u001b[0;34m.\u001b[0m\u001b[0mserver\u001b[0m\u001b[0;34m.\u001b[0m\u001b[0mwait_forever\u001b[0m\u001b[0;34m(\u001b[0m\u001b[0;34m)\u001b[0m\u001b[0;34m\u001b[0m\u001b[0;34m\u001b[0m\u001b[0m\n\u001b[0m",
            "\u001b[0;32m/usr/local/lib/python3.8/dist-packages/anvil/server.py\u001b[0m in \u001b[0;36mwait_forever\u001b[0;34m()\u001b[0m\n\u001b[1;32m    432\u001b[0m     \u001b[0m_get_connection\u001b[0m\u001b[0;34m(\u001b[0m\u001b[0;34m)\u001b[0m\u001b[0;34m\u001b[0m\u001b[0;34m\u001b[0m\u001b[0m\n\u001b[1;32m    433\u001b[0m     \u001b[0;32mwhile\u001b[0m \u001b[0;32mTrue\u001b[0m\u001b[0;34m:\u001b[0m\u001b[0;34m\u001b[0m\u001b[0;34m\u001b[0m\u001b[0m\n\u001b[0;32m--> 434\u001b[0;31m         \u001b[0mtime\u001b[0m\u001b[0;34m.\u001b[0m\u001b[0msleep\u001b[0m\u001b[0;34m(\u001b[0m\u001b[0;36m1\u001b[0m\u001b[0;34m)\u001b[0m\u001b[0;34m\u001b[0m\u001b[0;34m\u001b[0m\u001b[0m\n\u001b[0m",
            "\u001b[0;31mKeyboardInterrupt\u001b[0m: "
          ]
        }
      ],
      "source": [
        "anvil.server.wait_forever()"
      ]
    },
    {
      "cell_type": "code",
      "execution_count": null,
      "metadata": {
        "id": "ABcRE6I08zF2"
      },
      "outputs": [],
      "source": []
    }
  ],
  "metadata": {
    "accelerator": "GPU",
    "colab": {
      "collapsed_sections": [
        "IGzsoZ3a1Cgq",
        "Yn8prUJo1ZZQ",
        "yIdYrGRa4uc7",
        "pAn6QrQ7NzA-",
        "fC31_pGaTSXs",
        "rfOL_uoNTV_h",
        "-zxvf79_bCoF",
        "RvGi1gPj6vzc"
      ],
      "machine_shape": "hm",
      "provenance": [],
      "authorship_tag": "ABX9TyOVjGrZsKibs4AjE1wRP0ac",
      "include_colab_link": true
    },
    "gpuClass": "premium",
    "kernelspec": {
      "display_name": "Python 3",
      "name": "python3"
    },
    "language_info": {
      "name": "python"
    },
    "widgets": {
      "application/vnd.jupyter.widget-state+json": {
        "9566d9ec49a54b83afc4524d21c43541": {
          "model_module": "@jupyter-widgets/controls",
          "model_name": "HBoxModel",
          "model_module_version": "1.5.0",
          "state": {
            "_dom_classes": [],
            "_model_module": "@jupyter-widgets/controls",
            "_model_module_version": "1.5.0",
            "_model_name": "HBoxModel",
            "_view_count": null,
            "_view_module": "@jupyter-widgets/controls",
            "_view_module_version": "1.5.0",
            "_view_name": "HBoxView",
            "box_style": "",
            "children": [
              "IPY_MODEL_a9953d60ef854c2897d0aeb7bce5567d",
              "IPY_MODEL_3c735cc79c7e42118e16d4e095a7b20f",
              "IPY_MODEL_e59dc5674c0f4f0ca8ceb51c16027bf3"
            ],
            "layout": "IPY_MODEL_b6ad54689ec042e89caae0e2bf7ec499"
          }
        },
        "a9953d60ef854c2897d0aeb7bce5567d": {
          "model_module": "@jupyter-widgets/controls",
          "model_name": "HTMLModel",
          "model_module_version": "1.5.0",
          "state": {
            "_dom_classes": [],
            "_model_module": "@jupyter-widgets/controls",
            "_model_module_version": "1.5.0",
            "_model_name": "HTMLModel",
            "_view_count": null,
            "_view_module": "@jupyter-widgets/controls",
            "_view_module_version": "1.5.0",
            "_view_name": "HTMLView",
            "description": "",
            "description_tooltip": null,
            "layout": "IPY_MODEL_db437d7505414f4384ba164c498e3a8d",
            "placeholder": "​",
            "style": "IPY_MODEL_a8ba51a9f34d402691fa68bab6313208",
            "value": "Downloading: 100%"
          }
        },
        "3c735cc79c7e42118e16d4e095a7b20f": {
          "model_module": "@jupyter-widgets/controls",
          "model_name": "FloatProgressModel",
          "model_module_version": "1.5.0",
          "state": {
            "_dom_classes": [],
            "_model_module": "@jupyter-widgets/controls",
            "_model_module_version": "1.5.0",
            "_model_name": "FloatProgressModel",
            "_view_count": null,
            "_view_module": "@jupyter-widgets/controls",
            "_view_module_version": "1.5.0",
            "_view_name": "ProgressView",
            "bar_style": "success",
            "description": "",
            "description_tooltip": null,
            "layout": "IPY_MODEL_a5c392a565424ca6a9458e2b061ef2ac",
            "max": 1417,
            "min": 0,
            "orientation": "horizontal",
            "style": "IPY_MODEL_4c4357c044464c6db6a10fe7ebaef641",
            "value": 1417
          }
        },
        "e59dc5674c0f4f0ca8ceb51c16027bf3": {
          "model_module": "@jupyter-widgets/controls",
          "model_name": "HTMLModel",
          "model_module_version": "1.5.0",
          "state": {
            "_dom_classes": [],
            "_model_module": "@jupyter-widgets/controls",
            "_model_module_version": "1.5.0",
            "_model_name": "HTMLModel",
            "_view_count": null,
            "_view_module": "@jupyter-widgets/controls",
            "_view_module_version": "1.5.0",
            "_view_name": "HTMLView",
            "description": "",
            "description_tooltip": null,
            "layout": "IPY_MODEL_5cb0c599e2264c089e7aca9506d4e8a1",
            "placeholder": "​",
            "style": "IPY_MODEL_6cad80f1f6df4b569aa0d12a1843b4a4",
            "value": " 1.42k/1.42k [00:00&lt;00:00, 63.4kB/s]"
          }
        },
        "b6ad54689ec042e89caae0e2bf7ec499": {
          "model_module": "@jupyter-widgets/base",
          "model_name": "LayoutModel",
          "model_module_version": "1.2.0",
          "state": {
            "_model_module": "@jupyter-widgets/base",
            "_model_module_version": "1.2.0",
            "_model_name": "LayoutModel",
            "_view_count": null,
            "_view_module": "@jupyter-widgets/base",
            "_view_module_version": "1.2.0",
            "_view_name": "LayoutView",
            "align_content": null,
            "align_items": null,
            "align_self": null,
            "border": null,
            "bottom": null,
            "display": null,
            "flex": null,
            "flex_flow": null,
            "grid_area": null,
            "grid_auto_columns": null,
            "grid_auto_flow": null,
            "grid_auto_rows": null,
            "grid_column": null,
            "grid_gap": null,
            "grid_row": null,
            "grid_template_areas": null,
            "grid_template_columns": null,
            "grid_template_rows": null,
            "height": null,
            "justify_content": null,
            "justify_items": null,
            "left": null,
            "margin": null,
            "max_height": null,
            "max_width": null,
            "min_height": null,
            "min_width": null,
            "object_fit": null,
            "object_position": null,
            "order": null,
            "overflow": null,
            "overflow_x": null,
            "overflow_y": null,
            "padding": null,
            "right": null,
            "top": null,
            "visibility": null,
            "width": null
          }
        },
        "db437d7505414f4384ba164c498e3a8d": {
          "model_module": "@jupyter-widgets/base",
          "model_name": "LayoutModel",
          "model_module_version": "1.2.0",
          "state": {
            "_model_module": "@jupyter-widgets/base",
            "_model_module_version": "1.2.0",
            "_model_name": "LayoutModel",
            "_view_count": null,
            "_view_module": "@jupyter-widgets/base",
            "_view_module_version": "1.2.0",
            "_view_name": "LayoutView",
            "align_content": null,
            "align_items": null,
            "align_self": null,
            "border": null,
            "bottom": null,
            "display": null,
            "flex": null,
            "flex_flow": null,
            "grid_area": null,
            "grid_auto_columns": null,
            "grid_auto_flow": null,
            "grid_auto_rows": null,
            "grid_column": null,
            "grid_gap": null,
            "grid_row": null,
            "grid_template_areas": null,
            "grid_template_columns": null,
            "grid_template_rows": null,
            "height": null,
            "justify_content": null,
            "justify_items": null,
            "left": null,
            "margin": null,
            "max_height": null,
            "max_width": null,
            "min_height": null,
            "min_width": null,
            "object_fit": null,
            "object_position": null,
            "order": null,
            "overflow": null,
            "overflow_x": null,
            "overflow_y": null,
            "padding": null,
            "right": null,
            "top": null,
            "visibility": null,
            "width": null
          }
        },
        "a8ba51a9f34d402691fa68bab6313208": {
          "model_module": "@jupyter-widgets/controls",
          "model_name": "DescriptionStyleModel",
          "model_module_version": "1.5.0",
          "state": {
            "_model_module": "@jupyter-widgets/controls",
            "_model_module_version": "1.5.0",
            "_model_name": "DescriptionStyleModel",
            "_view_count": null,
            "_view_module": "@jupyter-widgets/base",
            "_view_module_version": "1.2.0",
            "_view_name": "StyleView",
            "description_width": ""
          }
        },
        "a5c392a565424ca6a9458e2b061ef2ac": {
          "model_module": "@jupyter-widgets/base",
          "model_name": "LayoutModel",
          "model_module_version": "1.2.0",
          "state": {
            "_model_module": "@jupyter-widgets/base",
            "_model_module_version": "1.2.0",
            "_model_name": "LayoutModel",
            "_view_count": null,
            "_view_module": "@jupyter-widgets/base",
            "_view_module_version": "1.2.0",
            "_view_name": "LayoutView",
            "align_content": null,
            "align_items": null,
            "align_self": null,
            "border": null,
            "bottom": null,
            "display": null,
            "flex": null,
            "flex_flow": null,
            "grid_area": null,
            "grid_auto_columns": null,
            "grid_auto_flow": null,
            "grid_auto_rows": null,
            "grid_column": null,
            "grid_gap": null,
            "grid_row": null,
            "grid_template_areas": null,
            "grid_template_columns": null,
            "grid_template_rows": null,
            "height": null,
            "justify_content": null,
            "justify_items": null,
            "left": null,
            "margin": null,
            "max_height": null,
            "max_width": null,
            "min_height": null,
            "min_width": null,
            "object_fit": null,
            "object_position": null,
            "order": null,
            "overflow": null,
            "overflow_x": null,
            "overflow_y": null,
            "padding": null,
            "right": null,
            "top": null,
            "visibility": null,
            "width": null
          }
        },
        "4c4357c044464c6db6a10fe7ebaef641": {
          "model_module": "@jupyter-widgets/controls",
          "model_name": "ProgressStyleModel",
          "model_module_version": "1.5.0",
          "state": {
            "_model_module": "@jupyter-widgets/controls",
            "_model_module_version": "1.5.0",
            "_model_name": "ProgressStyleModel",
            "_view_count": null,
            "_view_module": "@jupyter-widgets/base",
            "_view_module_version": "1.2.0",
            "_view_name": "StyleView",
            "bar_color": null,
            "description_width": ""
          }
        },
        "5cb0c599e2264c089e7aca9506d4e8a1": {
          "model_module": "@jupyter-widgets/base",
          "model_name": "LayoutModel",
          "model_module_version": "1.2.0",
          "state": {
            "_model_module": "@jupyter-widgets/base",
            "_model_module_version": "1.2.0",
            "_model_name": "LayoutModel",
            "_view_count": null,
            "_view_module": "@jupyter-widgets/base",
            "_view_module_version": "1.2.0",
            "_view_name": "LayoutView",
            "align_content": null,
            "align_items": null,
            "align_self": null,
            "border": null,
            "bottom": null,
            "display": null,
            "flex": null,
            "flex_flow": null,
            "grid_area": null,
            "grid_auto_columns": null,
            "grid_auto_flow": null,
            "grid_auto_rows": null,
            "grid_column": null,
            "grid_gap": null,
            "grid_row": null,
            "grid_template_areas": null,
            "grid_template_columns": null,
            "grid_template_rows": null,
            "height": null,
            "justify_content": null,
            "justify_items": null,
            "left": null,
            "margin": null,
            "max_height": null,
            "max_width": null,
            "min_height": null,
            "min_width": null,
            "object_fit": null,
            "object_position": null,
            "order": null,
            "overflow": null,
            "overflow_x": null,
            "overflow_y": null,
            "padding": null,
            "right": null,
            "top": null,
            "visibility": null,
            "width": null
          }
        },
        "6cad80f1f6df4b569aa0d12a1843b4a4": {
          "model_module": "@jupyter-widgets/controls",
          "model_name": "DescriptionStyleModel",
          "model_module_version": "1.5.0",
          "state": {
            "_model_module": "@jupyter-widgets/controls",
            "_model_module_version": "1.5.0",
            "_model_name": "DescriptionStyleModel",
            "_view_count": null,
            "_view_module": "@jupyter-widgets/base",
            "_view_module_version": "1.2.0",
            "_view_name": "StyleView",
            "description_width": ""
          }
        },
        "a0e093dc14cb4f699357e8c0a0ab56c4": {
          "model_module": "@jupyter-widgets/controls",
          "model_name": "HBoxModel",
          "model_module_version": "1.5.0",
          "state": {
            "_dom_classes": [],
            "_model_module": "@jupyter-widgets/controls",
            "_model_module_version": "1.5.0",
            "_model_name": "HBoxModel",
            "_view_count": null,
            "_view_module": "@jupyter-widgets/controls",
            "_view_module_version": "1.5.0",
            "_view_name": "HBoxView",
            "box_style": "",
            "children": [
              "IPY_MODEL_9fc11345fbef4294b1d9f418ba159ca5",
              "IPY_MODEL_3a8649383bbc44f8acc7f9dbf3d262e5",
              "IPY_MODEL_37a54bbb3bed4b9dbadacfc2977bae17"
            ],
            "layout": "IPY_MODEL_6c82945ffa594c3599ad511b3fc56aa0"
          }
        },
        "9fc11345fbef4294b1d9f418ba159ca5": {
          "model_module": "@jupyter-widgets/controls",
          "model_name": "HTMLModel",
          "model_module_version": "1.5.0",
          "state": {
            "_dom_classes": [],
            "_model_module": "@jupyter-widgets/controls",
            "_model_module_version": "1.5.0",
            "_model_name": "HTMLModel",
            "_view_count": null,
            "_view_module": "@jupyter-widgets/controls",
            "_view_module_version": "1.5.0",
            "_view_name": "HTMLView",
            "description": "",
            "description_tooltip": null,
            "layout": "IPY_MODEL_389a35c6685a4717a1cf96db9fd119bc",
            "placeholder": "​",
            "style": "IPY_MODEL_5414e707f0cc4295a72a3c6b4c6d412a",
            "value": "Downloading: 100%"
          }
        },
        "3a8649383bbc44f8acc7f9dbf3d262e5": {
          "model_module": "@jupyter-widgets/controls",
          "model_name": "FloatProgressModel",
          "model_module_version": "1.5.0",
          "state": {
            "_dom_classes": [],
            "_model_module": "@jupyter-widgets/controls",
            "_model_module_version": "1.5.0",
            "_model_name": "FloatProgressModel",
            "_view_count": null,
            "_view_module": "@jupyter-widgets/controls",
            "_view_module_version": "1.5.0",
            "_view_name": "ProgressView",
            "bar_style": "success",
            "description": "",
            "description_tooltip": null,
            "layout": "IPY_MODEL_0fb320553f714d1fa66025cb68662da6",
            "max": 5363080833,
            "min": 0,
            "orientation": "horizontal",
            "style": "IPY_MODEL_f6d344ca86114c948f31da8756b297f3",
            "value": 5363080833
          }
        },
        "37a54bbb3bed4b9dbadacfc2977bae17": {
          "model_module": "@jupyter-widgets/controls",
          "model_name": "HTMLModel",
          "model_module_version": "1.5.0",
          "state": {
            "_dom_classes": [],
            "_model_module": "@jupyter-widgets/controls",
            "_model_module_version": "1.5.0",
            "_model_name": "HTMLModel",
            "_view_count": null,
            "_view_module": "@jupyter-widgets/controls",
            "_view_module_version": "1.5.0",
            "_view_name": "HTMLView",
            "description": "",
            "description_tooltip": null,
            "layout": "IPY_MODEL_fe45abd681fc4b01854fea854e3b4d79",
            "placeholder": "​",
            "style": "IPY_MODEL_2d4501ecf81a4231a05e3b649f372b60",
            "value": " 5.36G/5.36G [01:30&lt;00:00, 85.5MB/s]"
          }
        },
        "6c82945ffa594c3599ad511b3fc56aa0": {
          "model_module": "@jupyter-widgets/base",
          "model_name": "LayoutModel",
          "model_module_version": "1.2.0",
          "state": {
            "_model_module": "@jupyter-widgets/base",
            "_model_module_version": "1.2.0",
            "_model_name": "LayoutModel",
            "_view_count": null,
            "_view_module": "@jupyter-widgets/base",
            "_view_module_version": "1.2.0",
            "_view_name": "LayoutView",
            "align_content": null,
            "align_items": null,
            "align_self": null,
            "border": null,
            "bottom": null,
            "display": null,
            "flex": null,
            "flex_flow": null,
            "grid_area": null,
            "grid_auto_columns": null,
            "grid_auto_flow": null,
            "grid_auto_rows": null,
            "grid_column": null,
            "grid_gap": null,
            "grid_row": null,
            "grid_template_areas": null,
            "grid_template_columns": null,
            "grid_template_rows": null,
            "height": null,
            "justify_content": null,
            "justify_items": null,
            "left": null,
            "margin": null,
            "max_height": null,
            "max_width": null,
            "min_height": null,
            "min_width": null,
            "object_fit": null,
            "object_position": null,
            "order": null,
            "overflow": null,
            "overflow_x": null,
            "overflow_y": null,
            "padding": null,
            "right": null,
            "top": null,
            "visibility": null,
            "width": null
          }
        },
        "389a35c6685a4717a1cf96db9fd119bc": {
          "model_module": "@jupyter-widgets/base",
          "model_name": "LayoutModel",
          "model_module_version": "1.2.0",
          "state": {
            "_model_module": "@jupyter-widgets/base",
            "_model_module_version": "1.2.0",
            "_model_name": "LayoutModel",
            "_view_count": null,
            "_view_module": "@jupyter-widgets/base",
            "_view_module_version": "1.2.0",
            "_view_name": "LayoutView",
            "align_content": null,
            "align_items": null,
            "align_self": null,
            "border": null,
            "bottom": null,
            "display": null,
            "flex": null,
            "flex_flow": null,
            "grid_area": null,
            "grid_auto_columns": null,
            "grid_auto_flow": null,
            "grid_auto_rows": null,
            "grid_column": null,
            "grid_gap": null,
            "grid_row": null,
            "grid_template_areas": null,
            "grid_template_columns": null,
            "grid_template_rows": null,
            "height": null,
            "justify_content": null,
            "justify_items": null,
            "left": null,
            "margin": null,
            "max_height": null,
            "max_width": null,
            "min_height": null,
            "min_width": null,
            "object_fit": null,
            "object_position": null,
            "order": null,
            "overflow": null,
            "overflow_x": null,
            "overflow_y": null,
            "padding": null,
            "right": null,
            "top": null,
            "visibility": null,
            "width": null
          }
        },
        "5414e707f0cc4295a72a3c6b4c6d412a": {
          "model_module": "@jupyter-widgets/controls",
          "model_name": "DescriptionStyleModel",
          "model_module_version": "1.5.0",
          "state": {
            "_model_module": "@jupyter-widgets/controls",
            "_model_module_version": "1.5.0",
            "_model_name": "DescriptionStyleModel",
            "_view_count": null,
            "_view_module": "@jupyter-widgets/base",
            "_view_module_version": "1.2.0",
            "_view_name": "StyleView",
            "description_width": ""
          }
        },
        "0fb320553f714d1fa66025cb68662da6": {
          "model_module": "@jupyter-widgets/base",
          "model_name": "LayoutModel",
          "model_module_version": "1.2.0",
          "state": {
            "_model_module": "@jupyter-widgets/base",
            "_model_module_version": "1.2.0",
            "_model_name": "LayoutModel",
            "_view_count": null,
            "_view_module": "@jupyter-widgets/base",
            "_view_module_version": "1.2.0",
            "_view_name": "LayoutView",
            "align_content": null,
            "align_items": null,
            "align_self": null,
            "border": null,
            "bottom": null,
            "display": null,
            "flex": null,
            "flex_flow": null,
            "grid_area": null,
            "grid_auto_columns": null,
            "grid_auto_flow": null,
            "grid_auto_rows": null,
            "grid_column": null,
            "grid_gap": null,
            "grid_row": null,
            "grid_template_areas": null,
            "grid_template_columns": null,
            "grid_template_rows": null,
            "height": null,
            "justify_content": null,
            "justify_items": null,
            "left": null,
            "margin": null,
            "max_height": null,
            "max_width": null,
            "min_height": null,
            "min_width": null,
            "object_fit": null,
            "object_position": null,
            "order": null,
            "overflow": null,
            "overflow_x": null,
            "overflow_y": null,
            "padding": null,
            "right": null,
            "top": null,
            "visibility": null,
            "width": null
          }
        },
        "f6d344ca86114c948f31da8756b297f3": {
          "model_module": "@jupyter-widgets/controls",
          "model_name": "ProgressStyleModel",
          "model_module_version": "1.5.0",
          "state": {
            "_model_module": "@jupyter-widgets/controls",
            "_model_module_version": "1.5.0",
            "_model_name": "ProgressStyleModel",
            "_view_count": null,
            "_view_module": "@jupyter-widgets/base",
            "_view_module_version": "1.2.0",
            "_view_name": "StyleView",
            "bar_color": null,
            "description_width": ""
          }
        },
        "fe45abd681fc4b01854fea854e3b4d79": {
          "model_module": "@jupyter-widgets/base",
          "model_name": "LayoutModel",
          "model_module_version": "1.2.0",
          "state": {
            "_model_module": "@jupyter-widgets/base",
            "_model_module_version": "1.2.0",
            "_model_name": "LayoutModel",
            "_view_count": null,
            "_view_module": "@jupyter-widgets/base",
            "_view_module_version": "1.2.0",
            "_view_name": "LayoutView",
            "align_content": null,
            "align_items": null,
            "align_self": null,
            "border": null,
            "bottom": null,
            "display": null,
            "flex": null,
            "flex_flow": null,
            "grid_area": null,
            "grid_auto_columns": null,
            "grid_auto_flow": null,
            "grid_auto_rows": null,
            "grid_column": null,
            "grid_gap": null,
            "grid_row": null,
            "grid_template_areas": null,
            "grid_template_columns": null,
            "grid_template_rows": null,
            "height": null,
            "justify_content": null,
            "justify_items": null,
            "left": null,
            "margin": null,
            "max_height": null,
            "max_width": null,
            "min_height": null,
            "min_width": null,
            "object_fit": null,
            "object_position": null,
            "order": null,
            "overflow": null,
            "overflow_x": null,
            "overflow_y": null,
            "padding": null,
            "right": null,
            "top": null,
            "visibility": null,
            "width": null
          }
        },
        "2d4501ecf81a4231a05e3b649f372b60": {
          "model_module": "@jupyter-widgets/controls",
          "model_name": "DescriptionStyleModel",
          "model_module_version": "1.5.0",
          "state": {
            "_model_module": "@jupyter-widgets/controls",
            "_model_module_version": "1.5.0",
            "_model_name": "DescriptionStyleModel",
            "_view_count": null,
            "_view_module": "@jupyter-widgets/base",
            "_view_module_version": "1.2.0",
            "_view_name": "StyleView",
            "description_width": ""
          }
        }
      }
    }
  },
  "nbformat": 4,
  "nbformat_minor": 0
}