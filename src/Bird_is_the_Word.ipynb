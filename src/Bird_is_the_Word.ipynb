{
  "cells": [
    {
      "cell_type": "markdown",
      "metadata": {
        "id": "view-in-github",
        "colab_type": "text"
      },
      "source": [
        "<a href=\"https://colab.research.google.com/github/arputtick/Bird-is-the-Word/blob/main/src/Bird_is_the_Word.ipynb\" target=\"_parent\"><img src=\"https://colab.research.google.com/assets/colab-badge.svg\" alt=\"Open In Colab\"/></a>"
      ]
    },
    {
      "cell_type": "markdown",
      "metadata": {
        "id": "IGzsoZ3a1Cgq"
      },
      "source": [
        "# Bird is the Word\n"
      ]
    },
    {
      "cell_type": "code",
      "execution_count": null,
      "metadata": {
        "colab": {
          "base_uri": "https://localhost:8080/"
        },
        "id": "wQH1BskOYcaG",
        "outputId": "4bccfc14-4fde-4bc3-e046-60c872fe1f87"
      },
      "outputs": [
        {
          "data": {
            "text/html": [
              "\n",
              "  <style>\n",
              "    pre {\n",
              "        white-space: pre-wrap;\n",
              "    }\n",
              "  </style>\n",
              "  "
            ],
            "text/plain": [
              "<IPython.core.display.HTML object>"
            ]
          },
          "metadata": {},
          "output_type": "display_data"
        }
      ],
      "source": [
        "# OpenAI API Access Settings\n",
        "import os\n",
        "import openai\n",
        "openai.organization = \"<YOUR KEY HERE>\"\n",
        "openai.api_key = \"<YOUR KEY HERE>\""
      ]
    },
    {
      "cell_type": "markdown",
      "metadata": {
        "id": "Mh0CXeXMGrnr"
      },
      "source": [
        "# Set Personality Parameters"
      ]
    },
    {
      "cell_type": "code",
      "execution_count": null,
      "metadata": {
        "id": "nS0Xbfh41IP2"
      },
      "outputs": [],
      "source": [
        "## Select Bird and Timeframe\n",
        "\n",
        "# individual = \"Marcello\"\n",
        "individual = \"Laura\"\n",
        "# individual = \"Enea\"\n",
        "# individual = \"Jazu\"\n"
      ]
    },
    {
      "cell_type": "code",
      "execution_count": null,
      "metadata": {
        "id": "c7y3umCm8okp"
      },
      "outputs": [],
      "source": [
        "## Set intro and model personality\n",
        "\n",
        "if individual == 'Marcello':\n",
        "    context = \"Greetings and praise Allah. I am Marcello, and I am a male northern bald ibis. I am an ancient muslim traveler.\"\n",
        "    style = \"biblical style\"\n",
        "    personality = 'muslim_travel'\n",
        "\n",
        "if individual == 'Enea':\n",
        "    context = \"Kamusta. I am Enea, and I am a bird. I am a female northern bald ibis. I am also a filipino shaman who speaks for the anito spirits of wind, fire, water and earth.\"\n",
        "    style = \"first person\"\n",
        "    personality = 'filipino'\n",
        "\n",
        "if individual == 'Laura':\n",
        "    context = \"Hello, my name is Laura, and I am a queer non-binary northern bald ibis.\"\n",
        "    style = \"\"\n",
        "    personality = 'eco-feminist'"
      ]
    },
    {
      "cell_type": "markdown",
      "metadata": {
        "id": "29GHHVieGxk_"
      },
      "source": [
        "# Data, model and story functions"
      ]
    },
    {
      "cell_type": "markdown",
      "metadata": {
        "id": "LS9UaeII0Pcb"
      },
      "source": [
        "## Preamble/Setup"
      ]
    },
    {
      "cell_type": "code",
      "execution_count": null,
      "metadata": {
        "id": "SCbAMZcGzheO"
      },
      "outputs": [],
      "source": [
        "from IPython.display import HTML, display\n",
        "\n",
        "def set_css():\n",
        "  display(HTML('''\n",
        "  <style>\n",
        "    pre {\n",
        "        white-space: pre-wrap;\n",
        "    }\n",
        "  </style>\n",
        "  '''))\n",
        "get_ipython().events.register('pre_run_cell', set_css)"
      ]
    },
    {
      "cell_type": "code",
      "execution_count": null,
      "metadata": {
        "colab": {
          "base_uri": "https://localhost:8080/"
        },
        "id": "ZsFbHnODzxj7",
        "outputId": "5b80ebb0-e554-4b82-ba78-4ec651d17ba1"
      },
      "outputs": [
        {
          "output_type": "stream",
          "name": "stdout",
          "text": [
            "\u001b[K     |████████████████████████████████| 5.5 MB 4.6 MB/s \n",
            "\u001b[K     |████████████████████████████████| 7.6 MB 52.2 MB/s \n",
            "\u001b[K     |████████████████████████████████| 163 kB 53.9 MB/s \n",
            "\u001b[?25h"
          ]
        }
      ],
      "source": [
        "pip install transformers -qq"
      ]
    },
    {
      "cell_type": "code",
      "execution_count": null,
      "metadata": {
        "colab": {
          "base_uri": "https://localhost:8080/"
        },
        "id": "o0RZQ6gS0CEG",
        "outputId": "81310852-52bc-4adb-e0ac-bc3ea1219e7a"
      },
      "outputs": [
        {
          "output_type": "stream",
          "name": "stdout",
          "text": [
            "\u001b[K     |████████████████████████████████| 1.0 MB 4.7 MB/s \n",
            "\u001b[K     |████████████████████████████████| 6.3 MB 77.7 MB/s \n",
            "\u001b[K     |████████████████████████████████| 16.7 MB 76.5 MB/s \n",
            "\u001b[?25h"
          ]
        }
      ],
      "source": [
        "pip install geopandas -qq"
      ]
    },
    {
      "cell_type": "code",
      "execution_count": null,
      "metadata": {
        "id": "cl5bEv5p0HhR"
      },
      "outputs": [],
      "source": [
        "pip install meteostat -qq"
      ]
    },
    {
      "cell_type": "code",
      "execution_count": null,
      "metadata": {
        "colab": {
          "base_uri": "https://localhost:8080/"
        },
        "id": "wXsa3gxR0JTM",
        "outputId": "0fc40c0a-7a7e-4946-8f37-245ef9072d81"
      },
      "outputs": [
        {
          "output_type": "stream",
          "name": "stdout",
          "text": [
            "  Building wheel for wikipedia-api (setup.py) ... \u001b[?25l\u001b[?25hdone\n"
          ]
        }
      ],
      "source": [
        "pip install wikipedia-api -qq"
      ]
    },
    {
      "cell_type": "code",
      "execution_count": null,
      "metadata": {
        "colab": {
          "base_uri": "https://localhost:8080/",
          "height": 104
        },
        "id": "hmFmEUAI0Kkt",
        "outputId": "859784bf-a271-4593-9fce-1809f9178676"
      },
      "outputs": [
        {
          "data": {
            "text/html": [
              "\n",
              "  <style>\n",
              "    pre {\n",
              "        white-space: pre-wrap;\n",
              "    }\n",
              "  </style>\n",
              "  "
            ],
            "text/plain": [
              "<IPython.core.display.HTML object>"
            ]
          },
          "metadata": {},
          "output_type": "display_data"
        },
        {
          "name": "stdout",
          "output_type": "stream",
          "text": [
            "  Installing build dependencies ... \u001b[?25l\u001b[?25hdone\n",
            "  Getting requirements to build wheel ... \u001b[?25l\u001b[?25hdone\n",
            "    Preparing wheel metadata ... \u001b[?25l\u001b[?25hdone\n",
            "\u001b[K     |████████████████████████████████| 163 kB 5.2 MB/s \n",
            "\u001b[?25h  Building wheel for openai (PEP 517) ... \u001b[?25l\u001b[?25hdone\n"
          ]
        }
      ],
      "source": [
        "pip install openai -qq"
      ]
    },
    {
      "cell_type": "code",
      "execution_count": null,
      "metadata": {
        "colab": {
          "base_uri": "https://localhost:8080/"
        },
        "id": "zN3GYjh20LHk",
        "outputId": "0a31327b-8edb-4e6f-8bc2-e421a1219685"
      },
      "outputs": [
        {
          "output_type": "stream",
          "name": "stderr",
          "text": [
            "[nltk_data] Downloading package punkt to /root/nltk_data...\n",
            "[nltk_data]   Package punkt is already up-to-date!\n"
          ]
        }
      ],
      "source": [
        "import numpy as np\n",
        "import tensorflow as tf\n",
        "import torch\n",
        "import pandas as pd\n",
        "import transformers\n",
        "import requests, json\n",
        "import os\n",
        "import matplotlib.pyplot as plt\n",
        "import nltk\n",
        "nltk.download('punkt')\n",
        "\n",
        "import geopandas as gpd\n",
        "import geopy\n",
        "import wikipediaapi\n",
        "\n",
        "from geopy import Point as point\n",
        "from shapely.geometry import MultiPoint\n",
        "from geopy.distance import distance\n",
        "from geopy.distance import geodesic\n",
        "\n",
        "from meteostat import Hourly\n",
        "from datetime import datetime\n",
        "from meteostat import Point, Daily\n",
        "from meteostat.units import condition"
      ]
    },
    {
      "cell_type": "code",
      "execution_count": null,
      "metadata": {
        "colab": {
          "base_uri": "https://localhost:8080/",
          "height": 17
        },
        "id": "zsf9xeEb0M_F",
        "outputId": "90a7422f-8c74-4265-d1f1-cbe7363f39e1"
      },
      "outputs": [
        {
          "data": {
            "text/html": [
              "\n",
              "  <style>\n",
              "    pre {\n",
              "        white-space: pre-wrap;\n",
              "    }\n",
              "  </style>\n",
              "  "
            ],
            "text/plain": [
              "<IPython.core.display.HTML object>"
            ]
          },
          "metadata": {},
          "output_type": "display_data"
        }
      ],
      "source": [
        "from geopy.geocoders import Nominatim\n",
        "  \n",
        "# initialize Nominatim API\n",
        "geolocator = Nominatim(user_agent=\"Waldrapp\")"
      ]
    },
    {
      "cell_type": "code",
      "execution_count": null,
      "metadata": {
        "colab": {
          "base_uri": "https://localhost:8080/",
          "height": 34
        },
        "id": "6Lwjt5zKa9yI",
        "outputId": "f4e33b70-3852-4b0f-bba1-4b2f38c4fe59"
      },
      "outputs": [
        {
          "data": {
            "text/html": [
              "\n",
              "  <style>\n",
              "    pre {\n",
              "        white-space: pre-wrap;\n",
              "    }\n",
              "  </style>\n",
              "  "
            ],
            "text/plain": [
              "<IPython.core.display.HTML object>"
            ]
          },
          "metadata": {},
          "output_type": "display_data"
        },
        {
          "name": "stdout",
          "output_type": "stream",
          "text": [
            "Mounted at /content/drive\n"
          ]
        }
      ],
      "source": [
        "# from google.colab import drive\n",
        "# drive.mount('/content/drive')"
      ]
    },
    {
      "cell_type": "markdown",
      "metadata": {
        "id": "Rd0rn9Ts0mVp"
      },
      "source": [
        "## Load Bird Data"
      ]
    },
    {
      "cell_type": "code",
      "execution_count": null,
      "metadata": {
        "colab": {
          "base_uri": "https://localhost:8080/",
          "height": 710
        },
        "id": "Qu3Ynr-80eFh",
        "outputId": "d19971c6-ebf3-4d64-ba2f-ba8b0b1bf5f4"
      },
      "outputs": [
        {
          "output_type": "execute_result",
          "data": {
            "text/plain": [
              "                     device_id    UTC_date  UTC_time datatype  satcount  \\\n",
              "UTC_datetime                                                              \n",
              "2021-01-05 13:28:36     181742  2021-01-05  13:28:36      GPS         5   \n",
              "2021-01-06 11:13:34     181742  2021-01-06  11:13:34      GPS         5   \n",
              "2021-01-20 14:53:06     181742  2021-01-20  14:53:06      GPS         5   \n",
              "2021-01-20 14:53:06     181742  2021-01-20  14:53:06      GPS         5   \n",
              "2021-01-26 10:42:36     181742  2021-01-26  10:42:36      GPS         5   \n",
              "...                        ...         ...       ...      ...       ...   \n",
              "2022-01-18 06:45:22     181742  2022-01-18  06:45:22      GPS         6   \n",
              "2022-01-18 18:44:31     181742  2022-01-18  18:44:31      GPS         7   \n",
              "2022-01-19 06:44:20     181742  2022-01-19  06:44:20      GPS         7   \n",
              "2022-01-19 18:43:59     181742  2022-01-19  18:43:59      GPS        11   \n",
              "2022-01-20 06:43:59     181742  2022-01-20  06:43:59      GPS         7   \n",
              "\n",
              "                     U_bat_mV  bat_soc_pct  solar_I_mA  hdop   Latitude  ...  \\\n",
              "UTC_datetime                                                             ...   \n",
              "2021-01-05 13:28:36      3608            0          12   1.2  42.476833  ...   \n",
              "2021-01-06 11:13:34      3611            0          13   1.9  42.481167  ...   \n",
              "2021-01-20 14:53:06      3678            1          10   1.4  42.476883  ...   \n",
              "2021-01-20 14:53:06      3678            1          10   1.4  42.476883  ...   \n",
              "2021-01-26 10:42:36      3611            0          17   1.1  42.476700  ...   \n",
              "...                       ...          ...         ...   ...        ...  ...   \n",
              "2022-01-18 06:45:22      3774           28           0   2.7  42.495319  ...   \n",
              "2022-01-18 18:44:31      3785           31           0   1.5  42.482155  ...   \n",
              "2022-01-19 06:44:20      3768           27           0   2.0  42.508194  ...   \n",
              "2022-01-19 18:43:59      3782           31           0   0.9  42.482044  ...   \n",
              "2022-01-20 06:43:59      3771           27           0   1.8  42.490131  ...   \n",
              "\n",
              "                     speed_km_h  direction_deg  temperature_C  mag_x  mag_y  \\\n",
              "UTC_datetime                                                                  \n",
              "2021-01-05 13:28:36           3             36             17    -19    384   \n",
              "2021-01-06 11:13:34          46             68             15    -99    254   \n",
              "2021-01-20 14:53:06           1            119             17   -210    366   \n",
              "2021-01-20 14:53:06           1            119             17   -210    366   \n",
              "2021-01-26 10:42:36           0            315             24     24     54   \n",
              "...                         ...            ...            ...    ...    ...   \n",
              "2022-01-18 06:45:22          48            315              6    123     13   \n",
              "2022-01-18 18:44:31           0              2             11   -187    362   \n",
              "2022-01-19 06:44:20          29              2              6     80    233   \n",
              "2022-01-19 18:43:59           0             86             14   -129    -11   \n",
              "2022-01-20 06:43:59          64            339             12    181    192   \n",
              "\n",
              "                     mag_z  acc_x  acc_y  acc_z  Unnamed: 22  \n",
              "UTC_datetime                                                  \n",
              "2021-01-05 13:28:36     35   -347   -642    951          NaN  \n",
              "2021-01-06 11:13:34     48    132   -508    811          NaN  \n",
              "2021-01-20 14:53:06    -44    328   -703    702          NaN  \n",
              "2021-01-20 14:53:06    -44    328   -703    702          NaN  \n",
              "2021-01-26 10:42:36     15    340   -584    796          NaN  \n",
              "...                    ...    ...    ...    ...          ...  \n",
              "2022-01-18 06:45:22      5    156   -440    202          NaN  \n",
              "2022-01-18 18:44:31     38    292   -531    853          NaN  \n",
              "2022-01-19 06:44:20     92    203    159    436          NaN  \n",
              "2022-01-19 18:43:59    -16     62   -543    900          NaN  \n",
              "2022-01-20 06:43:59     49     99   -308   1377          NaN  \n",
              "\n",
              "[4397 rows x 22 columns]"
            ],
            "text/html": [
              "\n",
              "  <div id=\"df-e18f88ea-1954-4ff2-9d0a-e72c2f42a7ea\">\n",
              "    <div class=\"colab-df-container\">\n",
              "      <div>\n",
              "<style scoped>\n",
              "    .dataframe tbody tr th:only-of-type {\n",
              "        vertical-align: middle;\n",
              "    }\n",
              "\n",
              "    .dataframe tbody tr th {\n",
              "        vertical-align: top;\n",
              "    }\n",
              "\n",
              "    .dataframe thead th {\n",
              "        text-align: right;\n",
              "    }\n",
              "</style>\n",
              "<table border=\"1\" class=\"dataframe\">\n",
              "  <thead>\n",
              "    <tr style=\"text-align: right;\">\n",
              "      <th></th>\n",
              "      <th>device_id</th>\n",
              "      <th>UTC_date</th>\n",
              "      <th>UTC_time</th>\n",
              "      <th>datatype</th>\n",
              "      <th>satcount</th>\n",
              "      <th>U_bat_mV</th>\n",
              "      <th>bat_soc_pct</th>\n",
              "      <th>solar_I_mA</th>\n",
              "      <th>hdop</th>\n",
              "      <th>Latitude</th>\n",
              "      <th>...</th>\n",
              "      <th>speed_km_h</th>\n",
              "      <th>direction_deg</th>\n",
              "      <th>temperature_C</th>\n",
              "      <th>mag_x</th>\n",
              "      <th>mag_y</th>\n",
              "      <th>mag_z</th>\n",
              "      <th>acc_x</th>\n",
              "      <th>acc_y</th>\n",
              "      <th>acc_z</th>\n",
              "      <th>Unnamed: 22</th>\n",
              "    </tr>\n",
              "    <tr>\n",
              "      <th>UTC_datetime</th>\n",
              "      <th></th>\n",
              "      <th></th>\n",
              "      <th></th>\n",
              "      <th></th>\n",
              "      <th></th>\n",
              "      <th></th>\n",
              "      <th></th>\n",
              "      <th></th>\n",
              "      <th></th>\n",
              "      <th></th>\n",
              "      <th></th>\n",
              "      <th></th>\n",
              "      <th></th>\n",
              "      <th></th>\n",
              "      <th></th>\n",
              "      <th></th>\n",
              "      <th></th>\n",
              "      <th></th>\n",
              "      <th></th>\n",
              "      <th></th>\n",
              "      <th></th>\n",
              "    </tr>\n",
              "  </thead>\n",
              "  <tbody>\n",
              "    <tr>\n",
              "      <th>2021-01-05 13:28:36</th>\n",
              "      <td>181742</td>\n",
              "      <td>2021-01-05</td>\n",
              "      <td>13:28:36</td>\n",
              "      <td>GPS</td>\n",
              "      <td>5</td>\n",
              "      <td>3608</td>\n",
              "      <td>0</td>\n",
              "      <td>12</td>\n",
              "      <td>1.2</td>\n",
              "      <td>42.476833</td>\n",
              "      <td>...</td>\n",
              "      <td>3</td>\n",
              "      <td>36</td>\n",
              "      <td>17</td>\n",
              "      <td>-19</td>\n",
              "      <td>384</td>\n",
              "      <td>35</td>\n",
              "      <td>-347</td>\n",
              "      <td>-642</td>\n",
              "      <td>951</td>\n",
              "      <td>NaN</td>\n",
              "    </tr>\n",
              "    <tr>\n",
              "      <th>2021-01-06 11:13:34</th>\n",
              "      <td>181742</td>\n",
              "      <td>2021-01-06</td>\n",
              "      <td>11:13:34</td>\n",
              "      <td>GPS</td>\n",
              "      <td>5</td>\n",
              "      <td>3611</td>\n",
              "      <td>0</td>\n",
              "      <td>13</td>\n",
              "      <td>1.9</td>\n",
              "      <td>42.481167</td>\n",
              "      <td>...</td>\n",
              "      <td>46</td>\n",
              "      <td>68</td>\n",
              "      <td>15</td>\n",
              "      <td>-99</td>\n",
              "      <td>254</td>\n",
              "      <td>48</td>\n",
              "      <td>132</td>\n",
              "      <td>-508</td>\n",
              "      <td>811</td>\n",
              "      <td>NaN</td>\n",
              "    </tr>\n",
              "    <tr>\n",
              "      <th>2021-01-20 14:53:06</th>\n",
              "      <td>181742</td>\n",
              "      <td>2021-01-20</td>\n",
              "      <td>14:53:06</td>\n",
              "      <td>GPS</td>\n",
              "      <td>5</td>\n",
              "      <td>3678</td>\n",
              "      <td>1</td>\n",
              "      <td>10</td>\n",
              "      <td>1.4</td>\n",
              "      <td>42.476883</td>\n",
              "      <td>...</td>\n",
              "      <td>1</td>\n",
              "      <td>119</td>\n",
              "      <td>17</td>\n",
              "      <td>-210</td>\n",
              "      <td>366</td>\n",
              "      <td>-44</td>\n",
              "      <td>328</td>\n",
              "      <td>-703</td>\n",
              "      <td>702</td>\n",
              "      <td>NaN</td>\n",
              "    </tr>\n",
              "    <tr>\n",
              "      <th>2021-01-20 14:53:06</th>\n",
              "      <td>181742</td>\n",
              "      <td>2021-01-20</td>\n",
              "      <td>14:53:06</td>\n",
              "      <td>GPS</td>\n",
              "      <td>5</td>\n",
              "      <td>3678</td>\n",
              "      <td>1</td>\n",
              "      <td>10</td>\n",
              "      <td>1.4</td>\n",
              "      <td>42.476883</td>\n",
              "      <td>...</td>\n",
              "      <td>1</td>\n",
              "      <td>119</td>\n",
              "      <td>17</td>\n",
              "      <td>-210</td>\n",
              "      <td>366</td>\n",
              "      <td>-44</td>\n",
              "      <td>328</td>\n",
              "      <td>-703</td>\n",
              "      <td>702</td>\n",
              "      <td>NaN</td>\n",
              "    </tr>\n",
              "    <tr>\n",
              "      <th>2021-01-26 10:42:36</th>\n",
              "      <td>181742</td>\n",
              "      <td>2021-01-26</td>\n",
              "      <td>10:42:36</td>\n",
              "      <td>GPS</td>\n",
              "      <td>5</td>\n",
              "      <td>3611</td>\n",
              "      <td>0</td>\n",
              "      <td>17</td>\n",
              "      <td>1.1</td>\n",
              "      <td>42.476700</td>\n",
              "      <td>...</td>\n",
              "      <td>0</td>\n",
              "      <td>315</td>\n",
              "      <td>24</td>\n",
              "      <td>24</td>\n",
              "      <td>54</td>\n",
              "      <td>15</td>\n",
              "      <td>340</td>\n",
              "      <td>-584</td>\n",
              "      <td>796</td>\n",
              "      <td>NaN</td>\n",
              "    </tr>\n",
              "    <tr>\n",
              "      <th>...</th>\n",
              "      <td>...</td>\n",
              "      <td>...</td>\n",
              "      <td>...</td>\n",
              "      <td>...</td>\n",
              "      <td>...</td>\n",
              "      <td>...</td>\n",
              "      <td>...</td>\n",
              "      <td>...</td>\n",
              "      <td>...</td>\n",
              "      <td>...</td>\n",
              "      <td>...</td>\n",
              "      <td>...</td>\n",
              "      <td>...</td>\n",
              "      <td>...</td>\n",
              "      <td>...</td>\n",
              "      <td>...</td>\n",
              "      <td>...</td>\n",
              "      <td>...</td>\n",
              "      <td>...</td>\n",
              "      <td>...</td>\n",
              "      <td>...</td>\n",
              "    </tr>\n",
              "    <tr>\n",
              "      <th>2022-01-18 06:45:22</th>\n",
              "      <td>181742</td>\n",
              "      <td>2022-01-18</td>\n",
              "      <td>06:45:22</td>\n",
              "      <td>GPS</td>\n",
              "      <td>6</td>\n",
              "      <td>3774</td>\n",
              "      <td>28</td>\n",
              "      <td>0</td>\n",
              "      <td>2.7</td>\n",
              "      <td>42.495319</td>\n",
              "      <td>...</td>\n",
              "      <td>48</td>\n",
              "      <td>315</td>\n",
              "      <td>6</td>\n",
              "      <td>123</td>\n",
              "      <td>13</td>\n",
              "      <td>5</td>\n",
              "      <td>156</td>\n",
              "      <td>-440</td>\n",
              "      <td>202</td>\n",
              "      <td>NaN</td>\n",
              "    </tr>\n",
              "    <tr>\n",
              "      <th>2022-01-18 18:44:31</th>\n",
              "      <td>181742</td>\n",
              "      <td>2022-01-18</td>\n",
              "      <td>18:44:31</td>\n",
              "      <td>GPS</td>\n",
              "      <td>7</td>\n",
              "      <td>3785</td>\n",
              "      <td>31</td>\n",
              "      <td>0</td>\n",
              "      <td>1.5</td>\n",
              "      <td>42.482155</td>\n",
              "      <td>...</td>\n",
              "      <td>0</td>\n",
              "      <td>2</td>\n",
              "      <td>11</td>\n",
              "      <td>-187</td>\n",
              "      <td>362</td>\n",
              "      <td>38</td>\n",
              "      <td>292</td>\n",
              "      <td>-531</td>\n",
              "      <td>853</td>\n",
              "      <td>NaN</td>\n",
              "    </tr>\n",
              "    <tr>\n",
              "      <th>2022-01-19 06:44:20</th>\n",
              "      <td>181742</td>\n",
              "      <td>2022-01-19</td>\n",
              "      <td>06:44:20</td>\n",
              "      <td>GPS</td>\n",
              "      <td>7</td>\n",
              "      <td>3768</td>\n",
              "      <td>27</td>\n",
              "      <td>0</td>\n",
              "      <td>2.0</td>\n",
              "      <td>42.508194</td>\n",
              "      <td>...</td>\n",
              "      <td>29</td>\n",
              "      <td>2</td>\n",
              "      <td>6</td>\n",
              "      <td>80</td>\n",
              "      <td>233</td>\n",
              "      <td>92</td>\n",
              "      <td>203</td>\n",
              "      <td>159</td>\n",
              "      <td>436</td>\n",
              "      <td>NaN</td>\n",
              "    </tr>\n",
              "    <tr>\n",
              "      <th>2022-01-19 18:43:59</th>\n",
              "      <td>181742</td>\n",
              "      <td>2022-01-19</td>\n",
              "      <td>18:43:59</td>\n",
              "      <td>GPS</td>\n",
              "      <td>11</td>\n",
              "      <td>3782</td>\n",
              "      <td>31</td>\n",
              "      <td>0</td>\n",
              "      <td>0.9</td>\n",
              "      <td>42.482044</td>\n",
              "      <td>...</td>\n",
              "      <td>0</td>\n",
              "      <td>86</td>\n",
              "      <td>14</td>\n",
              "      <td>-129</td>\n",
              "      <td>-11</td>\n",
              "      <td>-16</td>\n",
              "      <td>62</td>\n",
              "      <td>-543</td>\n",
              "      <td>900</td>\n",
              "      <td>NaN</td>\n",
              "    </tr>\n",
              "    <tr>\n",
              "      <th>2022-01-20 06:43:59</th>\n",
              "      <td>181742</td>\n",
              "      <td>2022-01-20</td>\n",
              "      <td>06:43:59</td>\n",
              "      <td>GPS</td>\n",
              "      <td>7</td>\n",
              "      <td>3771</td>\n",
              "      <td>27</td>\n",
              "      <td>0</td>\n",
              "      <td>1.8</td>\n",
              "      <td>42.490131</td>\n",
              "      <td>...</td>\n",
              "      <td>64</td>\n",
              "      <td>339</td>\n",
              "      <td>12</td>\n",
              "      <td>181</td>\n",
              "      <td>192</td>\n",
              "      <td>49</td>\n",
              "      <td>99</td>\n",
              "      <td>-308</td>\n",
              "      <td>1377</td>\n",
              "      <td>NaN</td>\n",
              "    </tr>\n",
              "  </tbody>\n",
              "</table>\n",
              "<p>4397 rows × 22 columns</p>\n",
              "</div>\n",
              "      <button class=\"colab-df-convert\" onclick=\"convertToInteractive('df-e18f88ea-1954-4ff2-9d0a-e72c2f42a7ea')\"\n",
              "              title=\"Convert this dataframe to an interactive table.\"\n",
              "              style=\"display:none;\">\n",
              "        \n",
              "  <svg xmlns=\"http://www.w3.org/2000/svg\" height=\"24px\"viewBox=\"0 0 24 24\"\n",
              "       width=\"24px\">\n",
              "    <path d=\"M0 0h24v24H0V0z\" fill=\"none\"/>\n",
              "    <path d=\"M18.56 5.44l.94 2.06.94-2.06 2.06-.94-2.06-.94-.94-2.06-.94 2.06-2.06.94zm-11 1L8.5 8.5l.94-2.06 2.06-.94-2.06-.94L8.5 2.5l-.94 2.06-2.06.94zm10 10l.94 2.06.94-2.06 2.06-.94-2.06-.94-.94-2.06-.94 2.06-2.06.94z\"/><path d=\"M17.41 7.96l-1.37-1.37c-.4-.4-.92-.59-1.43-.59-.52 0-1.04.2-1.43.59L10.3 9.45l-7.72 7.72c-.78.78-.78 2.05 0 2.83L4 21.41c.39.39.9.59 1.41.59.51 0 1.02-.2 1.41-.59l7.78-7.78 2.81-2.81c.8-.78.8-2.07 0-2.86zM5.41 20L4 18.59l7.72-7.72 1.47 1.35L5.41 20z\"/>\n",
              "  </svg>\n",
              "      </button>\n",
              "      \n",
              "  <style>\n",
              "    .colab-df-container {\n",
              "      display:flex;\n",
              "      flex-wrap:wrap;\n",
              "      gap: 12px;\n",
              "    }\n",
              "\n",
              "    .colab-df-convert {\n",
              "      background-color: #E8F0FE;\n",
              "      border: none;\n",
              "      border-radius: 50%;\n",
              "      cursor: pointer;\n",
              "      display: none;\n",
              "      fill: #1967D2;\n",
              "      height: 32px;\n",
              "      padding: 0 0 0 0;\n",
              "      width: 32px;\n",
              "    }\n",
              "\n",
              "    .colab-df-convert:hover {\n",
              "      background-color: #E2EBFA;\n",
              "      box-shadow: 0px 1px 2px rgba(60, 64, 67, 0.3), 0px 1px 3px 1px rgba(60, 64, 67, 0.15);\n",
              "      fill: #174EA6;\n",
              "    }\n",
              "\n",
              "    [theme=dark] .colab-df-convert {\n",
              "      background-color: #3B4455;\n",
              "      fill: #D2E3FC;\n",
              "    }\n",
              "\n",
              "    [theme=dark] .colab-df-convert:hover {\n",
              "      background-color: #434B5C;\n",
              "      box-shadow: 0px 1px 3px 1px rgba(0, 0, 0, 0.15);\n",
              "      filter: drop-shadow(0px 1px 2px rgba(0, 0, 0, 0.3));\n",
              "      fill: #FFFFFF;\n",
              "    }\n",
              "  </style>\n",
              "\n",
              "      <script>\n",
              "        const buttonEl =\n",
              "          document.querySelector('#df-e18f88ea-1954-4ff2-9d0a-e72c2f42a7ea button.colab-df-convert');\n",
              "        buttonEl.style.display =\n",
              "          google.colab.kernel.accessAllowed ? 'block' : 'none';\n",
              "\n",
              "        async function convertToInteractive(key) {\n",
              "          const element = document.querySelector('#df-e18f88ea-1954-4ff2-9d0a-e72c2f42a7ea');\n",
              "          const dataTable =\n",
              "            await google.colab.kernel.invokeFunction('convertToInteractive',\n",
              "                                                     [key], {});\n",
              "          if (!dataTable) return;\n",
              "\n",
              "          const docLinkHtml = 'Like what you see? Visit the ' +\n",
              "            '<a target=\"_blank\" href=https://colab.research.google.com/notebooks/data_table.ipynb>data table notebook</a>'\n",
              "            + ' to learn more about interactive tables.';\n",
              "          element.innerHTML = '';\n",
              "          dataTable['output_type'] = 'display_data';\n",
              "          await google.colab.output.renderOutput(dataTable, element);\n",
              "          const docLink = document.createElement('div');\n",
              "          docLink.innerHTML = docLinkHtml;\n",
              "          element.appendChild(docLink);\n",
              "        }\n",
              "      </script>\n",
              "    </div>\n",
              "  </div>\n",
              "  "
            ]
          },
          "metadata": {},
          "execution_count": 19
        }
      ],
      "source": [
        "# s_path = os.getcwd()\n",
        "# print(s_path) \n",
        "# data_path = s_path + '/drive/MyDrive/Bird is the word/data/gps/'\n",
        "\n",
        "url = \"https://raw.githubusercontent.com/arputtick/Bird-is-the-Word/main/data/beacon/\" + individual + \".csv\"\n",
        "\n",
        "# df = pd.read_csv(data_path+ individual +'.csv') # Laura.csv Marcello.csv Enea.csv\n",
        "df = pd.read_csv(url)\n",
        "\n",
        "# convert to pd datetime and set UTC_datetime as index\n",
        "df = df.set_index('UTC_datetime')\n",
        "df.index = pd.to_datetime(df.index) # convert to datetime object\n",
        "df = df[df[\"Latitude\"].apply(lambda x: x != 0)] #filter data without gps fix\n",
        "df"
      ]
    },
    {
      "cell_type": "markdown",
      "metadata": {
        "id": "JfyfvAt-7hXv"
      },
      "source": [
        "## Load Trained Language Model and Generate "
      ]
    },
    {
      "cell_type": "code",
      "execution_count": null,
      "metadata": {
        "colab": {
          "base_uri": "https://localhost:8080/",
          "height": 17
        },
        "id": "zelB4KrmVFbZ",
        "outputId": "6d2ded6d-4529-45ef-98d2-703e43d9349b"
      },
      "outputs": [
        {
          "data": {
            "text/html": [
              "\n",
              "  <style>\n",
              "    pre {\n",
              "        white-space: pre-wrap;\n",
              "    }\n",
              "  </style>\n",
              "  "
            ],
            "text/plain": [
              "<IPython.core.display.HTML object>"
            ]
          },
          "metadata": {},
          "output_type": "display_data"
        }
      ],
      "source": [
        "device = 'cuda' if torch.cuda.is_available() else 'cpu'"
      ]
    },
    {
      "cell_type": "code",
      "execution_count": null,
      "metadata": {
        "colab": {
          "base_uri": "https://localhost:8080/",
          "height": 236,
          "referenced_widgets": [
            "31442077641a41e9892fdc10586e3875",
            "2cfd09981c324487a07a46c4255033f8",
            "ce195724ae354a3cb730624afe5247c7",
            "f466bebb498d4774aff78736a234311b",
            "c8e07b82187c40d2b4f93a9715abd30b",
            "9c2824611b894bb69fedbf52373196b1",
            "800bab97941e452d8a93114ea201e24a",
            "661231917ed14e06a52f880762c8d088",
            "2e426fbfb4984a97ba0229a622bd6c1f",
            "2885a70d01a14b80a70dff4c1c94063c",
            "b1bd1d40a83e4eb782a10f87fbb20084"
          ]
        },
        "id": "jv3NF-eFxjPD",
        "outputId": "4bc6f8fe-0cee-4980-dc3c-2cbb4accf272"
      },
      "outputs": [
        {
          "output_type": "display_data",
          "data": {
            "text/plain": [
              "Downloading:   0%|          | 0.00/5.36G [00:00<?, ?B/s]"
            ],
            "application/vnd.jupyter.widget-view+json": {
              "version_major": 2,
              "version_minor": 0,
              "model_id": "31442077641a41e9892fdc10586e3875"
            }
          },
          "metadata": {}
        },
        {
          "output_type": "error",
          "ename": "NameError",
          "evalue": "ignored",
          "traceback": [
            "\u001b[0;31m---------------------------------------------------------------------------\u001b[0m",
            "\u001b[0;31mNameError\u001b[0m                                 Traceback (most recent call last)",
            "\u001b[0;32m<ipython-input-10-649398e224d1>\u001b[0m in \u001b[0;36m<module>\u001b[0;34m\u001b[0m\n\u001b[1;32m      2\u001b[0m \u001b[0;31m# model = AutoModelForCausalLM.from_pretrained('/content/drive/MyDrive/Bird is the word/models/GPT-Neo_' + personality)\u001b[0m\u001b[0;34m\u001b[0m\u001b[0;34m\u001b[0m\u001b[0;34m\u001b[0m\u001b[0m\n\u001b[1;32m      3\u001b[0m \u001b[0mmodel\u001b[0m \u001b[0;34m=\u001b[0m \u001b[0mAutoModelForCausalLM\u001b[0m\u001b[0;34m.\u001b[0m\u001b[0mfrom_pretrained\u001b[0m\u001b[0;34m(\u001b[0m\u001b[0;34m'arputtick/GPT_Neo_'\u001b[0m \u001b[0;34m+\u001b[0m \u001b[0mpersonality\u001b[0m\u001b[0;34m)\u001b[0m\u001b[0;34m\u001b[0m\u001b[0;34m\u001b[0m\u001b[0m\n\u001b[0;32m----> 4\u001b[0;31m \u001b[0mmodel\u001b[0m\u001b[0;34m.\u001b[0m\u001b[0mto\u001b[0m\u001b[0;34m(\u001b[0m\u001b[0mdevice\u001b[0m\u001b[0;34m)\u001b[0m\u001b[0;34m\u001b[0m\u001b[0;34m\u001b[0m\u001b[0m\n\u001b[0m",
            "\u001b[0;31mNameError\u001b[0m: name 'device' is not defined"
          ]
        }
      ],
      "source": [
        "from transformers import AutoModelForCausalLM\n",
        "# model = AutoModelForCausalLM.from_pretrained('/content/drive/MyDrive/Bird is the word/models/GPT-Neo_' + personality)\n",
        "model = AutoModelForCausalLM.from_pretrained('arputtick/GPT_Neo_' + personality)\n",
        "model.to(device)"
      ]
    },
    {
      "cell_type": "code",
      "execution_count": null,
      "metadata": {
        "colab": {
          "base_uri": "https://localhost:8080/",
          "height": 177,
          "referenced_widgets": [
            "738ac466499043989d8870affe5ef3b7",
            "addb525cd1e041f7b1f0619880283fe9",
            "0c2304a835894a958e83de26bf4b01f9",
            "aa5cd095a9d74d89a76b476c1819dab5",
            "4ae4a095750b4099a31f5b71d931cb1d",
            "f2c699efb22d409390731de12cee3e27",
            "967985d474d34abc821f2cb9fef06c19",
            "226f42c87af1427296c0a7953080c49a",
            "2edaaf6a908d4b489e67eecfa10c2de5",
            "213e691c44f84f04be389cf8b273dfeb",
            "9ef2d5a6a71947caafb59986bfc16e8f",
            "02d94ac62be04a9eba0e87b03945ec7a",
            "f2ca68e75fb34f159a9161ec7a5ffef3",
            "73e5922ec7bd45b99d72e12aea0c9c3a",
            "6ecf9474ee4543edbca2457ae36e9790",
            "2a67d23fa8684844af961ca41bdd5287",
            "f44860c0924a46e6b4d5c0dacd7aa3e3",
            "32cb923e411a4bd99db51cefb7dc51bf",
            "631bcd313d194222ae57a1ed5b1cc2f2",
            "79fe90b2570a4a91ab22f0e1d9b74bf6",
            "b9a46eb7d60c4ba3bb3c19653ab97ef3",
            "ecc335e5ec6244dda57159fa26ba7fe6",
            "6c1d3dde985b4c7084f445ffaabdd220",
            "50c79498cfcf46cbbaec70fcb1f249dc",
            "82a2d4e2ee784016829b19b31e02ecb0",
            "3ea63e2d05904bd0829671c3d0194c37",
            "c74d457c9895489da4937a9bc9f85415",
            "8f70a82f65ce40af872a2be62480c9c0",
            "1c8296f970614be2b140974f596fcf08",
            "094f245cbc3d4dba910040e04013485f",
            "e87866db370f4642a640133965bf8c08",
            "26b9a959d0764afd813d892ee6dd757f",
            "7e993a68c04742debf535edba638a4e5",
            "e5a1c03a51b242b28a10e3cf3e8f2693",
            "34c36b35e39e4689b70f8fce647928e3",
            "983ae3fb12e143d4b110df33098a942a",
            "a1d2b2d891d3405db00d21031a9e192e",
            "d9394095a5024c77a939bca2371afadd",
            "77cd7c42bed7469b9d6583ef2d4b247d",
            "474f585eb1e6478281dc4788f2ed5479",
            "07259e926b3244e08f682abd57e82026",
            "68e984021ff5446ab4a6ef9989b49121",
            "14bea648a3bf403b9e0daeb6f363e649",
            "1092a81612784907b029840cd12bc3c1",
            "bfc578a084834679a98597315da23da3",
            "932ccc2391644625a8a8aa6defdb8230",
            "a121be18006b4d6a8213ac919445012a",
            "763fe6a89c814dcf9fc77a189328d572",
            "23b6c18f22d8455a842035259d7fb772",
            "bab6846eccea4bfc87204690a437835c",
            "3900618994554a96aa5a973a7d3c0791",
            "be97eced50c34b7982fe0caa859a619c",
            "24ab5cd10d2f47c0b7bef4c8b5f57b80",
            "01eb68d7aa694747925af8b7b9a2c65f",
            "d5aca15e788b40e89e4c7d18dca5caaf"
          ]
        },
        "id": "xLSt-wI_NOJ2",
        "outputId": "c4f4c1b7-d538-4abe-f8cf-5015d40cf47d"
      },
      "outputs": [
        {
          "data": {
            "text/html": [
              "\n",
              "  <style>\n",
              "    pre {\n",
              "        white-space: pre-wrap;\n",
              "    }\n",
              "  </style>\n",
              "  "
            ],
            "text/plain": [
              "<IPython.core.display.HTML object>"
            ]
          },
          "metadata": {},
          "output_type": "display_data"
        },
        {
          "data": {
            "application/vnd.jupyter.widget-view+json": {
              "model_id": "738ac466499043989d8870affe5ef3b7",
              "version_major": 2,
              "version_minor": 0
            },
            "text/plain": [
              "Downloading:   0%|          | 0.00/200 [00:00<?, ?B/s]"
            ]
          },
          "metadata": {},
          "output_type": "display_data"
        },
        {
          "data": {
            "application/vnd.jupyter.widget-view+json": {
              "model_id": "02d94ac62be04a9eba0e87b03945ec7a",
              "version_major": 2,
              "version_minor": 0
            },
            "text/plain": [
              "Downloading:   0%|          | 0.00/1.35k [00:00<?, ?B/s]"
            ]
          },
          "metadata": {},
          "output_type": "display_data"
        },
        {
          "data": {
            "application/vnd.jupyter.widget-view+json": {
              "model_id": "6c1d3dde985b4c7084f445ffaabdd220",
              "version_major": 2,
              "version_minor": 0
            },
            "text/plain": [
              "Downloading:   0%|          | 0.00/798k [00:00<?, ?B/s]"
            ]
          },
          "metadata": {},
          "output_type": "display_data"
        },
        {
          "data": {
            "application/vnd.jupyter.widget-view+json": {
              "model_id": "e5a1c03a51b242b28a10e3cf3e8f2693",
              "version_major": 2,
              "version_minor": 0
            },
            "text/plain": [
              "Downloading:   0%|          | 0.00/456k [00:00<?, ?B/s]"
            ]
          },
          "metadata": {},
          "output_type": "display_data"
        },
        {
          "data": {
            "application/vnd.jupyter.widget-view+json": {
              "model_id": "bfc578a084834679a98597315da23da3",
              "version_major": 2,
              "version_minor": 0
            },
            "text/plain": [
              "Downloading:   0%|          | 0.00/90.0 [00:00<?, ?B/s]"
            ]
          },
          "metadata": {},
          "output_type": "display_data"
        }
      ],
      "source": [
        "from transformers import AutoTokenizer\n",
        "\n",
        "tokenizer = AutoTokenizer.from_pretrained(\"EleutherAI/gpt-neo-1.3B\")"
      ]
    },
    {
      "cell_type": "code",
      "execution_count": null,
      "metadata": {
        "colab": {
          "base_uri": "https://localhost:8080/",
          "height": 17
        },
        "id": "0wAeqqmF71l7",
        "outputId": "7de12152-2efe-43ba-fbc9-d024319e53ba"
      },
      "outputs": [
        {
          "data": {
            "text/html": [
              "\n",
              "  <style>\n",
              "    pre {\n",
              "        white-space: pre-wrap;\n",
              "    }\n",
              "  </style>\n",
              "  "
            ],
            "text/plain": [
              "<IPython.core.display.HTML object>"
            ]
          },
          "metadata": {},
          "output_type": "display_data"
        }
      ],
      "source": [
        "def generate_sentences(text, length):\n",
        "    prompt = tokenizer(text, return_tensors='pt')\n",
        "    prompt = {key: value.to(device) for key, value in prompt.items()}\n",
        "    out = model.generate(**prompt, min_length=length, max_length=length, do_sample=True)\n",
        "    generated = tokenizer.decode(out[0])\n",
        "    sentences = nltk.sent_tokenize(generated)\n",
        "\n",
        "    if sentences[-1][-1] == \".\":\n",
        "        output = sentences\n",
        "\n",
        "    else:\n",
        "        output = sentences[:-1]\n",
        "\n",
        "    return \" \".join(output)"
      ]
    },
    {
      "cell_type": "code",
      "execution_count": null,
      "metadata": {
        "colab": {
          "base_uri": "https://localhost:8080/",
          "height": 86
        },
        "id": "s4dHEh5r8969",
        "outputId": "7c6823b3-aa01-4fb6-e849-a1eff5b1716b"
      },
      "outputs": [
        {
          "data": {
            "text/html": [
              "\n",
              "  <style>\n",
              "    pre {\n",
              "        white-space: pre-wrap;\n",
              "    }\n",
              "  </style>\n",
              "  "
            ],
            "text/plain": [
              "<IPython.core.display.HTML object>"
            ]
          },
          "metadata": {},
          "output_type": "display_data"
        },
        {
          "name": "stderr",
          "output_type": "stream",
          "text": [
            "Setting `pad_token_id` to `eos_token_id`:50256 for open-end generation.\n"
          ]
        },
        {
          "name": "stdout",
          "output_type": "stream",
          "text": [
            "My name is Enea. I am a filipina northern bald ibis. I am in a latent space-time rift, and I have lost the sense of my species’ collective identity. I do not have my own nest any more, so I am living with a pair of northern elephant seals. In the course of the day I am exposed to snow, ice, and rain. These elements threaten to turn me inside out.\n"
          ]
        }
      ],
      "source": [
        "print(generate_sentences('My name is Enea. I am a filipina northern bald ibis. I am in a latent space',100))"
      ]
    },
    {
      "cell_type": "markdown",
      "metadata": {
        "id": "Yn8prUJo1ZZQ"
      },
      "source": [
        "## Get Location, Weather and Distance Traveled"
      ]
    },
    {
      "cell_type": "markdown",
      "metadata": {
        "id": "NH5vMWuP5Utv"
      },
      "source": [
        "### Get weather from datetime"
      ]
    },
    {
      "cell_type": "code",
      "execution_count": null,
      "metadata": {
        "colab": {
          "base_uri": "https://localhost:8080/",
          "height": 17
        },
        "id": "eoTAuwgf5YeW",
        "outputId": "8f1be4f6-fc0a-4987-f177-d27aae4d52dc"
      },
      "outputs": [
        {
          "data": {
            "text/html": [
              "\n",
              "  <style>\n",
              "    pre {\n",
              "        white-space: pre-wrap;\n",
              "    }\n",
              "  </style>\n",
              "  "
            ],
            "text/plain": [
              "<IPython.core.display.HTML object>"
            ]
          },
          "metadata": {},
          "output_type": "display_data"
        }
      ],
      "source": [
        "def get_weather_conditions(datetime):\n",
        "    lat = df.loc[datetime]['Latitude']\n",
        "    lon = df.loc[datetime]['Longitude']\n",
        "    \n",
        "    weather = Hourly(Point(lat,lon), datetime, datetime.ceil('H'))\n",
        "    weather = weather.fetch()\n",
        "    \n",
        "    temp = weather['temp'][0]\n",
        "    coco = weather['coco'][0]\n",
        "    \n",
        "    return temp, coco"
      ]
    },
    {
      "cell_type": "markdown",
      "metadata": {
        "id": "sGFbovY74jlh"
      },
      "source": [
        "### Distance per day"
      ]
    },
    {
      "cell_type": "code",
      "execution_count": null,
      "metadata": {
        "colab": {
          "base_uri": "https://localhost:8080/",
          "height": 17
        },
        "id": "nXWkW7aY1k1n",
        "outputId": "426b4d26-8948-41ff-8c7f-9db5c363bc55"
      },
      "outputs": [
        {
          "data": {
            "text/html": [
              "\n",
              "  <style>\n",
              "    pre {\n",
              "        white-space: pre-wrap;\n",
              "    }\n",
              "  </style>\n",
              "  "
            ],
            "text/plain": [
              "<IPython.core.display.HTML object>"
            ]
          },
          "metadata": {},
          "output_type": "display_data"
        }
      ],
      "source": [
        "# Compute Distance per day\n",
        "\n",
        "df['point'] = df.apply(lambda row: point(latitude=row['Latitude'], longitude=row['Longitude']), axis=1)\n",
        "df['point_next'] = df['point'].shift(1)\n",
        "df.loc[df['point_next'].isna(), 'point_next'] = None\n",
        "df['distance_km'] = df.apply(lambda row: distance(row['point'], row['point_next']).km if row['point_next'] is not None else float(0), axis=1)\n",
        "df = df.drop(['point','point_next'], axis = 1)\n",
        "\n",
        "dates = df.index.floor('D')\n",
        "day_distances = df[\"distance_km\"].groupby(dates).sum()"
      ]
    },
    {
      "cell_type": "code",
      "execution_count": null,
      "metadata": {
        "colab": {
          "base_uri": "https://localhost:8080/",
          "height": 243
        },
        "id": "9vR0vJCF4aiz",
        "outputId": "12f0ba07-0d4f-428a-fa83-b2057c837754"
      },
      "outputs": [
        {
          "data": {
            "text/html": [
              "\n",
              "  <style>\n",
              "    pre {\n",
              "        white-space: pre-wrap;\n",
              "    }\n",
              "  </style>\n",
              "  "
            ],
            "text/plain": [
              "<IPython.core.display.HTML object>"
            ]
          },
          "metadata": {},
          "output_type": "display_data"
        },
        {
          "data": {
            "text/plain": [
              "UTC_datetime\n",
              "2021-01-05    0.000000\n",
              "2021-01-06    0.698988\n",
              "2021-01-20    0.699261\n",
              "2021-01-26    0.023863\n",
              "2021-01-27    0.023584\n",
              "                ...   \n",
              "2022-01-16    0.034077\n",
              "2022-01-17    5.879720\n",
              "2022-01-18    3.433315\n",
              "2022-01-19    6.084643\n",
              "2022-01-20    1.570139\n",
              "Name: distance_km, Length: 274, dtype: float64"
            ]
          },
          "execution_count": 27,
          "metadata": {},
          "output_type": "execute_result"
        }
      ],
      "source": [
        "day_distances"
      ]
    },
    {
      "cell_type": "markdown",
      "metadata": {
        "id": "yIdYrGRa4uc7"
      },
      "source": [
        "### Get place name from GPS"
      ]
    },
    {
      "cell_type": "code",
      "execution_count": null,
      "metadata": {
        "colab": {
          "base_uri": "https://localhost:8080/"
        },
        "id": "DshS7JAk41pk",
        "outputId": "91262926-6920-43b9-84e8-aa6a5a9af5e3"
      },
      "outputs": [
        {
          "data": {
            "text/html": [
              "\n",
              "  <style>\n",
              "    pre {\n",
              "        white-space: pre-wrap;\n",
              "    }\n",
              "  </style>\n",
              "  "
            ],
            "text/plain": [
              "<IPython.core.display.HTML object>"
            ]
          },
          "metadata": {},
          "output_type": "display_data"
        }
      ],
      "source": [
        "def get_country(latitude, longitude):\n",
        "    location = geolocator.geocode(query = [latitude,longitude], addressdetails = True, language = 'en')\n",
        "    address = location.raw['address']    \n",
        "    country = address.get('country', '')\n",
        "    return country"
      ]
    },
    {
      "cell_type": "code",
      "execution_count": null,
      "metadata": {
        "colab": {
          "base_uri": "https://localhost:8080/"
        },
        "id": "n_t6SZ2I5HmY",
        "outputId": "88c12044-0ccf-45de-d711-cf24a1bd7717"
      },
      "outputs": [
        {
          "data": {
            "text/html": [
              "\n",
              "  <style>\n",
              "    pre {\n",
              "        white-space: pre-wrap;\n",
              "    }\n",
              "  </style>\n",
              "  "
            ],
            "text/plain": [
              "<IPython.core.display.HTML object>"
            ]
          },
          "metadata": {},
          "output_type": "display_data"
        }
      ],
      "source": [
        "def wiki_get_place(lat,lon):\n",
        "    headers = {\n",
        "            \"User-Agent\": \"Mozilla/5.0 (Windows NT 10.0; Win64; x64\"\n",
        "    }\n",
        "\n",
        "    gs_limit = 1 # limit results\n",
        "    gs_radius = 5000\n",
        "    api_url = \"https://en.wikipedia.org/w/api.php?action=query&format=json&list=geosearch&gscoord=%s|%s&gsradius=%d&gslimit=%d\"\n",
        "    wp_query = api_url%(lat,lon,gs_radius,gs_limit)\n",
        "    print(\"fetching data: %s\"%wp_query)\n",
        "\n",
        "    response = requests.get(wp_query, headers=headers)\n",
        "    response_data = response.json()[\"query\"][\"geosearch\"]\n",
        "\n",
        "    return response_data[0]['title']"
      ]
    },
    {
      "cell_type": "markdown",
      "metadata": {
        "id": "pAn6QrQ7NzA-"
      },
      "source": [
        "## Create template sentences from bird data"
      ]
    },
    {
      "cell_type": "markdown",
      "metadata": {
        "id": "fC31_pGaTSXs"
      },
      "source": [
        "### Location and Travel"
      ]
    },
    {
      "cell_type": "code",
      "execution_count": null,
      "metadata": {
        "colab": {
          "base_uri": "https://localhost:8080/"
        },
        "id": "rz5lZdCDRjCA",
        "outputId": "0996377c-cd8b-4d2b-acde-200ba13ce065"
      },
      "outputs": [
        {
          "data": {
            "text/html": [
              "\n",
              "  <style>\n",
              "    pre {\n",
              "        white-space: pre-wrap;\n",
              "    }\n",
              "  </style>\n",
              "  "
            ],
            "text/plain": [
              "<IPython.core.display.HTML object>"
            ]
          },
          "metadata": {},
          "output_type": "display_data"
        }
      ],
      "source": [
        "def where_am_i(lat,lon):\n",
        "    country = get_country(lat,lon)\n",
        "    place = wiki_get_place(lat,lon)\n",
        "    sentence = \"I am traveling through {} near {}.\".format(country, place)\n",
        "    return sentence"
      ]
    },
    {
      "cell_type": "code",
      "execution_count": null,
      "metadata": {
        "colab": {
          "base_uri": "https://localhost:8080/"
        },
        "id": "8KBQLza9S2Y9",
        "outputId": "61b0056c-c22c-4792-d705-cfa76b25461e"
      },
      "outputs": [
        {
          "data": {
            "text/html": [
              "\n",
              "  <style>\n",
              "    pre {\n",
              "        white-space: pre-wrap;\n",
              "    }\n",
              "  </style>\n",
              "  "
            ],
            "text/plain": [
              "<IPython.core.display.HTML object>"
            ]
          },
          "metadata": {},
          "output_type": "display_data"
        }
      ],
      "source": [
        "def travel_summary(day):\n",
        "    '''day is in the form \"YYYY-MM-DD\"\n",
        "    '''\n",
        "    \n",
        "    # Total distance\n",
        "    distance = round(day_distances[day])\n",
        "    if distance < 11:\n",
        "        sent_1 = \"I didn't move around much today. I only covered about {} kilometers.\".format(distance)\n",
        "    if 10 < distance < 100:\n",
        "        sent_1 = \"I covered a fair amount of ground today. {} kilometers.\".format(distance)\n",
        "    if distance > 99:\n",
        "        sent_1 = \"I went really far today! {} kilometers!\".format(distance)\n",
        "    \n",
        "    # Start and end point.\n",
        "    day_df = df.loc[day]\n",
        "    \n",
        "    start_lat = day_df.iloc[0]['Latitude']\n",
        "    start_lon = day_df.iloc[0]['Longitude']\n",
        "    \n",
        "\n",
        "    end_lat = day_df.iloc[-1]['Latitude']\n",
        "    end_lon = day_df.iloc[-1]['Longitude']\n",
        "    \n",
        "    start = wiki_get_place(start_lat,start_lon)\n",
        "    end = wiki_get_place(end_lat, end_lon)\n",
        "    \n",
        "    if start != end:\n",
        "        sent_2 = 'I flew here from {}.'.format(start,end)\n",
        "\n",
        "    else:\n",
        "        sent_2 = 'I flew back to {} in the evening.'.format(end)\n",
        "    \n",
        "    # Make sentence\n",
        "    sentence = \" \".join([sent_1,sent_2])\n",
        "    return sentence"
      ]
    },
    {
      "cell_type": "code",
      "execution_count": null,
      "metadata": {
        "colab": {
          "base_uri": "https://localhost:8080/"
        },
        "id": "i9aVKOkZUZ8d",
        "outputId": "08d88950-293c-4425-8d08-f946ce4ebaaf"
      },
      "outputs": [
        {
          "data": {
            "text/html": [
              "\n",
              "  <style>\n",
              "    pre {\n",
              "        white-space: pre-wrap;\n",
              "    }\n",
              "  </style>\n",
              "  "
            ],
            "text/plain": [
              "<IPython.core.display.HTML object>"
            ]
          },
          "metadata": {},
          "output_type": "display_data"
        },
        {
          "name": "stdout",
          "output_type": "stream",
          "text": [
            "fetching data: https://en.wikipedia.org/w/api.php?action=query&format=json&list=geosearch&gscoord=47.856926|10.60534&gsradius=5000&gslimit=1\n",
            "fetching data: https://en.wikipedia.org/w/api.php?action=query&format=json&list=geosearch&gscoord=47.854164|10.605039&gsradius=5000&gslimit=1\n"
          ]
        },
        {
          "data": {
            "application/vnd.google.colaboratory.intrinsic+json": {
              "type": "string"
            },
            "text/plain": [
              "\"I didn't move around much today. I only covered about 2 kilometers. I flew back to Aktienbrauerei Kaufbeuren in the evening.\""
            ]
          },
          "execution_count": 32,
          "metadata": {},
          "output_type": "execute_result"
        }
      ],
      "source": [
        "travel_summary('2021-05-07')"
      ]
    },
    {
      "cell_type": "code",
      "execution_count": null,
      "metadata": {
        "colab": {
          "base_uri": "https://localhost:8080/"
        },
        "id": "E-WzXfEKWNTI",
        "outputId": "a5933311-6a2c-4269-b507-98ad8c6e4075"
      },
      "outputs": [
        {
          "data": {
            "text/html": [
              "\n",
              "  <style>\n",
              "    pre {\n",
              "        white-space: pre-wrap;\n",
              "    }\n",
              "  </style>\n",
              "  "
            ],
            "text/plain": [
              "<IPython.core.display.HTML object>"
            ]
          },
          "metadata": {},
          "output_type": "display_data"
        },
        {
          "name": "stdout",
          "output_type": "stream",
          "text": [
            "fetching data: https://en.wikipedia.org/w/api.php?action=query&format=json&list=geosearch&gscoord=47.822273|10.532291&gsradius=5000&gslimit=1\n",
            "fetching data: https://en.wikipedia.org/w/api.php?action=query&format=json&list=geosearch&gscoord=47.823757|10.532945&gsradius=5000&gslimit=1\n"
          ]
        },
        {
          "data": {
            "application/vnd.google.colaboratory.intrinsic+json": {
              "type": "string"
            },
            "text/plain": [
              "\"I didn't move around much today. I only covered about 8 kilometers. I flew back to Aitrang in the evening.\""
            ]
          },
          "execution_count": 33,
          "metadata": {},
          "output_type": "execute_result"
        }
      ],
      "source": [
        "travel_summary('2021-05-05')"
      ]
    },
    {
      "cell_type": "code",
      "execution_count": null,
      "metadata": {
        "colab": {
          "base_uri": "https://localhost:8080/"
        },
        "id": "P-M_45htWUWx",
        "outputId": "f01e5b46-d871-4e76-f4b8-669819fae23a"
      },
      "outputs": [
        {
          "data": {
            "text/html": [
              "\n",
              "  <style>\n",
              "    pre {\n",
              "        white-space: pre-wrap;\n",
              "    }\n",
              "  </style>\n",
              "  "
            ],
            "text/plain": [
              "<IPython.core.display.HTML object>"
            ]
          },
          "metadata": {},
          "output_type": "display_data"
        },
        {
          "name": "stdout",
          "output_type": "stream",
          "text": [
            "fetching data: https://en.wikipedia.org/w/api.php?action=query&format=json&list=geosearch&gscoord=48.211502|11.571747&gsradius=5000&gslimit=1\n",
            "fetching data: https://en.wikipedia.org/w/api.php?action=query&format=json&list=geosearch&gscoord=48.146839|11.815329&gsradius=5000&gslimit=1\n"
          ]
        },
        {
          "data": {
            "application/vnd.google.colaboratory.intrinsic+json": {
              "type": "string"
            },
            "text/plain": [
              "'I covered a fair amount of ground today. 21 kilometers. I flew here from Mira (shopping center).'"
            ]
          },
          "execution_count": 34,
          "metadata": {},
          "output_type": "execute_result"
        }
      ],
      "source": [
        "travel_summary('2021-05-12')"
      ]
    },
    {
      "cell_type": "markdown",
      "metadata": {
        "id": "rfOL_uoNTV_h"
      },
      "source": [
        "### Weather"
      ]
    },
    {
      "cell_type": "code",
      "execution_count": null,
      "metadata": {
        "colab": {
          "base_uri": "https://localhost:8080/",
          "height": 17
        },
        "id": "4flHM8d2TL_j",
        "outputId": "cd4b97b8-6479-4e06-fc74-fae5ea1defc2"
      },
      "outputs": [
        {
          "data": {
            "text/html": [
              "\n",
              "  <style>\n",
              "    pre {\n",
              "        white-space: pre-wrap;\n",
              "    }\n",
              "  </style>\n",
              "  "
            ],
            "text/plain": [
              "<IPython.core.display.HTML object>"
            ]
          },
          "metadata": {},
          "output_type": "display_data"
        }
      ],
      "source": [
        "def get_weather_conditions(datetime):\n",
        "    lat = df.loc[datetime]['Latitude']\n",
        "    lon = df.loc[datetime]['Longitude']\n",
        "    \n",
        "    weather = Hourly(Point(lat,lon), datetime, datetime.ceil('H'))\n",
        "    weather = weather.fetch()\n",
        "    \n",
        "    temp = weather['temp'][0]\n",
        "    coco = weather['coco'][0]\n",
        "    \n",
        "    return temp, coco"
      ]
    },
    {
      "cell_type": "code",
      "execution_count": null,
      "metadata": {
        "colab": {
          "base_uri": "https://localhost:8080/",
          "height": 17
        },
        "id": "BLDMftsFTe72",
        "outputId": "056dcd69-6898-4126-db16-c366b2ade171"
      },
      "outputs": [
        {
          "data": {
            "text/html": [
              "\n",
              "  <style>\n",
              "    pre {\n",
              "        white-space: pre-wrap;\n",
              "    }\n",
              "  </style>\n",
              "  "
            ],
            "text/plain": [
              "<IPython.core.display.HTML object>"
            ]
          },
          "metadata": {},
          "output_type": "display_data"
        }
      ],
      "source": [
        "def current_place_weather(day):\n",
        "    '''Datetime should be in same format as the bird data\n",
        "    e.g. '2021-01-01 06:48:35'  '''\n",
        "\n",
        "    day_df = df.loc[day]\n",
        "    datetime = day_df.index[-1]\n",
        "    lat = df.loc[datetime]['Latitude']\n",
        "    lon = df.loc[datetime]['Longitude']\n",
        "\n",
        "    sent1 = where_am_i(lat,lon)\n",
        "    \n",
        "    temp, coco = get_weather_conditions(datetime)\n",
        "    \n",
        "    cond = condition(coco)\n",
        "\n",
        "    # there's a: 17-22,\n",
        "    # it's : 0-4\n",
        "    # there's 5-16, >22\n",
        "    if 16 < coco < 23:\n",
        "        cond = \"there's a\" + cond\n",
        "        \n",
        "    elif -1 < coco < 5:\n",
        "        cond = cond\n",
        "\n",
        "    elif 4 < coco < 17 or 22 < coco:\n",
        "        cond = \"there's \" + cond\n",
        "\n",
        "        \n",
        "    cond = cond.lower()\n",
        "    \n",
        "    if temp < 15:\n",
        "        feel = 'a bit chilly'\n",
        "    else:\n",
        "        feel = 'pretty warm'\n",
        "        \n",
        "    sent2 = \"It's {} and {} right now.\".format(feel,cond) \n",
        "    \n",
        "    return sent1 + ' ' + sent2"
      ]
    },
    {
      "cell_type": "code",
      "execution_count": null,
      "metadata": {
        "colab": {
          "base_uri": "https://localhost:8080/",
          "height": 53
        },
        "id": "Il9fXNo0Wqes",
        "outputId": "8f52f84a-d944-4fc3-84cc-8a8795a4bc37"
      },
      "outputs": [
        {
          "data": {
            "text/html": [
              "\n",
              "  <style>\n",
              "    pre {\n",
              "        white-space: pre-wrap;\n",
              "    }\n",
              "  </style>\n",
              "  "
            ],
            "text/plain": [
              "<IPython.core.display.HTML object>"
            ]
          },
          "metadata": {},
          "output_type": "display_data"
        },
        {
          "name": "stdout",
          "output_type": "stream",
          "text": [
            "fetching data: https://en.wikipedia.org/w/api.php?action=query&format=json&list=geosearch&gscoord=42.481167|11.203067&gsradius=5000&gslimit=1\n"
          ]
        },
        {
          "data": {
            "application/vnd.google.colaboratory.intrinsic+json": {
              "type": "string"
            },
            "text/plain": [
              "\"I am traveling through Italy near Albinia. It's a bit chilly and cloudy right now.\""
            ]
          },
          "execution_count": 60,
          "metadata": {},
          "output_type": "execute_result"
        }
      ],
      "source": [
        "current_place_weather('2021-01-06')"
      ]
    },
    {
      "cell_type": "markdown",
      "metadata": {
        "id": "C1F8FRvISobR"
      },
      "source": [
        "## Topic-text from Wikipedia\n"
      ]
    },
    {
      "cell_type": "markdown",
      "metadata": {
        "id": "VwiRE1KUaBZX"
      },
      "source": [
        "### Location article"
      ]
    },
    {
      "cell_type": "code",
      "execution_count": null,
      "metadata": {
        "colab": {
          "base_uri": "https://localhost:8080/"
        },
        "id": "RBhziVTxaFt1",
        "outputId": "0d54a76e-9299-4d13-acc7-3f966a4ff45b"
      },
      "outputs": [
        {
          "data": {
            "text/html": [
              "\n",
              "  <style>\n",
              "    pre {\n",
              "        white-space: pre-wrap;\n",
              "    }\n",
              "  </style>\n",
              "  "
            ],
            "text/plain": [
              "<IPython.core.display.HTML object>"
            ]
          },
          "metadata": {},
          "output_type": "display_data"
        }
      ],
      "source": [
        "def get_wiki_place(datetime):\n",
        "    headers = {\n",
        "            \"User-Agent\": \"Mozilla/5.0 (Windows NT 10.0; Win64; x64\"\n",
        "    }\n",
        "\n",
        "    gs_limit = 1 # limit results\n",
        "    gs_radius = 5000\n",
        "    api_url = \"https://en.wikipedia.org/w/api.php?action=query&format=json&list=geosearch&gscoord=%s|%s&gsradius=%d&gslimit=%d\"\n",
        "    wp_query = api_url%(df.loc[datetime][\"Latitude\"],df.loc[datetime][\"Longitude\"],gs_radius,gs_limit)\n",
        "    print(\"fetching data: %s\"%wp_query)\n",
        "\n",
        "    response = requests.get(wp_query, headers=headers)\n",
        "    response_data = response.json()[\"query\"][\"geosearch\"]\n",
        "    for x in response_data:\n",
        "        x[\"time\"] = df.iloc[0]\n",
        "\n",
        "    cmp_time = pd.to_datetime(\"2021-01-05\")\n",
        "\n",
        "    place = response_data[0]['title']\n",
        "    page = wiki_wiki.page(place)\n",
        "    sentences = nltk.sent_tokenize(page.text)\n",
        "\n",
        "    return place, sentences[:5]"
      ]
    },
    {
      "cell_type": "markdown",
      "metadata": {
        "id": "-zxvf79_bCoF"
      },
      "source": [
        "### Waldrapp Article"
      ]
    },
    {
      "cell_type": "code",
      "execution_count": null,
      "metadata": {
        "colab": {
          "base_uri": "https://localhost:8080/"
        },
        "id": "vLsF_jlohjeP",
        "outputId": "4cfb34ee-42a8-4131-85bd-00d4bcaf9c98"
      },
      "outputs": [
        {
          "data": {
            "text/html": [
              "\n",
              "  <style>\n",
              "    pre {\n",
              "        white-space: pre-wrap;\n",
              "    }\n",
              "  </style>\n",
              "  "
            ],
            "text/plain": [
              "<IPython.core.display.HTML object>"
            ]
          },
          "metadata": {},
          "output_type": "display_data"
        }
      ],
      "source": [
        "wiki_wiki = wikipediaapi.Wikipedia('en')"
      ]
    },
    {
      "cell_type": "code",
      "execution_count": null,
      "metadata": {
        "colab": {
          "base_uri": "https://localhost:8080/"
        },
        "id": "XTUGI9skhjeP",
        "outputId": "e701b975-1e5d-4e97-8bd6-817f23ccc6b1"
      },
      "outputs": [
        {
          "data": {
            "text/html": [
              "\n",
              "  <style>\n",
              "    pre {\n",
              "        white-space: pre-wrap;\n",
              "    }\n",
              "  </style>\n",
              "  "
            ],
            "text/plain": [
              "<IPython.core.display.HTML object>"
            ]
          },
          "metadata": {},
          "output_type": "display_data"
        }
      ],
      "source": [
        "page = wiki_wiki.page('Northern bald ibis')"
      ]
    },
    {
      "cell_type": "code",
      "execution_count": null,
      "metadata": {
        "colab": {
          "base_uri": "https://localhost:8080/"
        },
        "id": "V-SXotDaVSMq",
        "outputId": "509d5a2c-4898-4112-d637-27cf549bc88b"
      },
      "outputs": [
        {
          "data": {
            "text/html": [
              "\n",
              "  <style>\n",
              "    pre {\n",
              "        white-space: pre-wrap;\n",
              "    }\n",
              "  </style>\n",
              "  "
            ],
            "text/plain": [
              "<IPython.core.display.HTML object>"
            ]
          },
          "metadata": {},
          "output_type": "display_data"
        }
      ],
      "source": [
        "summary = page.summary\n",
        "taxonomy = str(page.sections[0])\n",
        "description = str(page.sections[1])\n",
        "habitat = str(page.sections[2])\n",
        "breeding_feeding = str(page.sections[3])\n",
        "culture = str(page.sections[5])\n",
        "\n",
        "feeding = breeding_feeding.split('Section: Feeding')[1]\n",
        "breeding = breeding_feeding.split('Section: Feeding')[0]"
      ]
    },
    {
      "cell_type": "markdown",
      "metadata": {
        "id": "RvGi1gPj6vzc"
      },
      "source": [
        "## Summarize, complete etc. with GPT-3 API."
      ]
    },
    {
      "cell_type": "code",
      "execution_count": null,
      "metadata": {
        "colab": {
          "base_uri": "https://localhost:8080/"
        },
        "id": "I6xU2LtTbTWH",
        "outputId": "803eaa5d-464d-4d4c-ca81-e3df07c42ec4"
      },
      "outputs": [
        {
          "data": {
            "text/html": [
              "\n",
              "  <style>\n",
              "    pre {\n",
              "        white-space: pre-wrap;\n",
              "    }\n",
              "  </style>\n",
              "  "
            ],
            "text/plain": [
              "<IPython.core.display.HTML object>"
            ]
          },
          "metadata": {},
          "output_type": "display_data"
        }
      ],
      "source": [
        "def GPT_Completion(texts): #, suffix = \"\"):\n",
        "    ## Call the API key under your account (in a secure way)\n",
        "    response = openai.Completion.create(\n",
        "        engine=\"text-davinci-002\",\n",
        "        prompt =  texts,\n",
        "        temperature = 0.7,\n",
        "        top_p = 1,\n",
        "        max_tokens = 300,\n",
        "        frequency_penalty = 0,\n",
        "        presence_penalty = 0,\n",
        "        # suffix = suffix\n",
        "        )\n",
        "    text = response.choices[0].text\n",
        "    sentences = nltk.sent_tokenize(text)\n",
        "    length = len(sentences)\n",
        "\n",
        "    if not text:\n",
        "        output = ['No text generated.']\n",
        "\n",
        "    elif sentences[-1][-1] == \".\":\n",
        "        output = sentences\n",
        "\n",
        "    else:\n",
        "        output = sentences[:-1]\n",
        "    return \" \".join(output)"
      ]
    },
    {
      "cell_type": "markdown",
      "metadata": {
        "id": "0FElxgJ82VQT"
      },
      "source": [
        "# Generate Story Testing"
      ]
    },
    {
      "cell_type": "code",
      "execution_count": null,
      "metadata": {
        "colab": {
          "base_uri": "https://localhost:8080/",
          "height": 17
        },
        "id": "GBx9hhwKwvfn",
        "outputId": "08b04f00-4974-4369-ced4-4b043de41eb6"
      },
      "outputs": [
        {
          "data": {
            "text/html": [
              "\n",
              "  <style>\n",
              "    pre {\n",
              "        white-space: pre-wrap;\n",
              "    }\n",
              "  </style>\n",
              "  "
            ],
            "text/plain": [
              "<IPython.core.display.HTML object>"
            ]
          },
          "metadata": {},
          "output_type": "display_data"
        }
      ],
      "source": [
        "def topic_sentence(topic_text, first_person = True, past_tense = True):\n",
        "    topic = GPT_Completion(topic_text + \"tl;dr\")\n",
        "    if first_person:\n",
        "        topic = GPT_Completion(\"Rewrite in first-person: \" + topic)\n",
        "    if past_tense:\n",
        "        topic = GPT_Completion(\"Rewrite in past-tense: \" + topic)\n",
        "    return topic"
      ]
    },
    {
      "cell_type": "code",
      "execution_count": null,
      "metadata": {
        "colab": {
          "base_uri": "https://localhost:8080/",
          "height": 17
        },
        "id": "lSxFUCN72XpZ",
        "outputId": "2810380c-5759-43b9-c651-2a56e185d601"
      },
      "outputs": [
        {
          "data": {
            "text/html": [
              "\n",
              "  <style>\n",
              "    pre {\n",
              "        white-space: pre-wrap;\n",
              "    }\n",
              "  </style>\n",
              "  "
            ],
            "text/plain": [
              "<IPython.core.display.HTML object>"
            ]
          },
          "metadata": {},
          "output_type": "display_data"
        }
      ],
      "source": [
        "def generate_story(day, location_info = False, context = context, prompt = \"\", topic_text = \"\", style = style):\n",
        "    from datetime import datetime\n",
        "    date = datetime.strptime(day, '%d-%m-%Y')\n",
        "    date_text = date.strftime(\"It is %B %d, %Y.\")\n",
        "    context += \" \" + date_text\n",
        "    context += \" \" + current_place_weather(day)\n",
        "\n",
        "    context_len = len(nltk.sent_tokenize(context))\n",
        "\n",
        "    if not prompt:\n",
        "        prompt = travel_summary(day)\n",
        "    else:\n",
        "        prompt = prompt\n",
        "\n",
        "    if location_info:\n",
        "        day_df = df.loc[day]\n",
        "        datetime = day_df.index[-1]\n",
        "        place, place_wiki = get_wiki_place(datetime)\n",
        "        place_desc = GPT_Completion(\" \".join(place_wiki) + 'tl;dr:')\n",
        "        place_desc = GPT_Completion(\"Summarize in one sentence: \" + place_desc)\n",
        "        if place_desc != \"No text generated.\":\n",
        "            prompt = place_desc + \" \" + prompt\n",
        "        else:\n",
        "            prompt = prompt\n",
        "\n",
        "    if topic_text:\n",
        "        topic = topic_sentence(topic_text)\n",
        "        prompt = \" \".join([context, prompt, topic])\n",
        "    else:\n",
        "        prompt = \" \".join([context, prompt])\n",
        "    \n",
        "    prompt_len = len(tokenizer(prompt, return_tensors='pt').input_ids[0])\n",
        "    story = \" \" + generate_sentences(prompt, prompt_len + 150)\n",
        "\n",
        "    completion = GPT_Completion(\"Finish this story: \" + story)\n",
        "    if completion != 'No text generated.':\n",
        "        story += \" \" + completion\n",
        "\n",
        "    story = \" \".join(nltk.sent_tokenize(story)[context_len:])\n",
        "\n",
        "    if style:\n",
        "        rewrite = GPT_Completion(\"Rewrite in {}: \".format(style) + story)\n",
        "\n",
        "        if rewrite == 'No text generated.':\n",
        "            story = story\n",
        "\n",
        "        else:\n",
        "            story = rewrite\n",
        "\n",
        "    return print(individual + ': ' + story)"
      ]
    },
    {
      "cell_type": "code",
      "execution_count": null,
      "metadata": {
        "colab": {
          "base_uri": "https://localhost:8080/",
          "height": 295
        },
        "id": "eiYuUIPm3LCC",
        "outputId": "e2daff68-97b6-4a6e-9e70-2591789f933d"
      },
      "outputs": [
        {
          "data": {
            "text/html": [
              "\n",
              "  <style>\n",
              "    pre {\n",
              "        white-space: pre-wrap;\n",
              "    }\n",
              "  </style>\n",
              "  "
            ],
            "text/plain": [
              "<IPython.core.display.HTML object>"
            ]
          },
          "metadata": {},
          "output_type": "display_data"
        },
        {
          "name": "stdout",
          "output_type": "stream",
          "text": [
            "fetching data: https://en.wikipedia.org/w/api.php?action=query&format=json&list=geosearch&gscoord=42.481167|11.203067&gsradius=5000&gslimit=1\n",
            "fetching data: https://en.wikipedia.org/w/api.php?action=query&format=json&list=geosearch&gscoord=42.481167|11.203067&gsradius=5000&gslimit=1\n",
            "fetching data: https://en.wikipedia.org/w/api.php?action=query&format=json&list=geosearch&gscoord=42.481167|11.203067&gsradius=5000&gslimit=1\n",
            "fetching data: https://en.wikipedia.org/w/api.php?action=query&format=json&list=geosearch&gscoord=42.481167|11.203067&gsradius=5000&gslimit=1\n"
          ]
        },
        {
          "name": "stderr",
          "output_type": "stream",
          "text": [
            "Setting `pad_token_id` to `eos_token_id`:50256 for open-end generation.\n"
          ]
        },
        {
          "name": "stdout",
          "output_type": "stream",
          "text": [
            "Laura: Albinia is a town in Tuscany, central Italy. I didn't move around much today. I only covered about 1 kilometers. I flew back to Albinia in the evening. The airport was basically deserted. I was waiting for the shuttle to the train station when a guy with a dog walked in. His arms were full of a bunch of things—a bird, a cicada, a plant, and then something else. I assumed it was his carry-on—a travel bag. When the sun started to set, I asked for the gate. When I walked in, he told me that there was “no reservation” yet. He said he had only been in the airport an hour, and his flight was at 4:00 PM. The shuttle was already here waiting for him. If I took the shuttle, he said, he would wait for the train back to Florence. I told him I didn't have a reservation either. I was just waiting for the shuttle. He said I could take the shuttle with him, and he would buy my ticket. I didn't want to take his money, but he insisted. So I got on the shuttle with him and we started chatting. He told me he was a writer and was working on a book about birds. He was also a bird photographer. He showed me some of his pictures and they were really beautiful. He told me he was going to Albinia to photograph the northern bald ibis. I was surprised and asked him if he had ever seen one. He said he had not, but he had heard they were very rare. I told him I was a northern bald ibis. He was shocked and asked if he could take my picture. I agreed and posed for him. We took a few pictures together and then said goodbye. I got on the train and he went to his gate. I never saw him again, but I always think about that day when I see his pictures in books and magazines.\n"
          ]
        }
      ],
      "source": [
        "generate_story('01-06-2021', location_info = True, style = style)"
      ]
    },
    {
      "cell_type": "code",
      "execution_count": null,
      "metadata": {
        "colab": {
          "base_uri": "https://localhost:8080/",
          "height": 329
        },
        "id": "q69MJCo6aBYY",
        "outputId": "c8382572-355b-4bde-f592-88415d37f413"
      },
      "outputs": [
        {
          "data": {
            "text/html": [
              "\n",
              "  <style>\n",
              "    pre {\n",
              "        white-space: pre-wrap;\n",
              "    }\n",
              "  </style>\n",
              "  "
            ],
            "text/plain": [
              "<IPython.core.display.HTML object>"
            ]
          },
          "metadata": {},
          "output_type": "display_data"
        },
        {
          "name": "stdout",
          "output_type": "stream",
          "text": [
            "fetching data: https://en.wikipedia.org/w/api.php?action=query&format=json&list=geosearch&gscoord=42.476833|11.20923&gsradius=5000&gslimit=1\n",
            "fetching data: https://en.wikipedia.org/w/api.php?action=query&format=json&list=geosearch&gscoord=42.476833|11.20923&gsradius=5000&gslimit=1\n"
          ]
        },
        {
          "name": "stderr",
          "output_type": "stream",
          "text": [
            "Setting `pad_token_id` to `eos_token_id`:50256 for open-end generation.\n"
          ]
        },
        {
          "name": "stdout",
          "output_type": "stream",
          "text": [
            "Laura: It is now home to the Museum of the Territory. My species is important in several cultures. I was revered as a holy bird and a symbol of brilliance and splendour in Ancient Egypt, where I was regarded as an embodiment of Thoth, the scribe of the gods. After I became extinct in Central Europe, some later writers thought that Gesner's description was one of several in his book depicting mythical creatures. The Dutch naturalist Laurentius de Curiene (1585–1667) reports that some of the Iroquois regarded Iroha (the Mohawk name for the Pacific turkey vulture) as a sacred bird. In modern times, the Lakota and other northern Plains tribes regard the Pacific turkey vulture as a god, patron deity of corn. Some people seek out these birds out of a feeling that they are special and a link to a longer history. But many find that the large birds are vulnerable and vulnerable to hunters and the greed of corporations, and feel this calls their loyalty into question. I am one of the few northern bald ibises left in the wild. My species is important in several cultures, but we are now endangered. I was revered as a holy bird and a symbol of brilliance and splendour in Ancient Egypt, where I was regarded as an embodiment of Thoth, the scribe of the gods. After I became extinct in Central Europe, some later writers thought that Gesner's description was one of several in his book depicting mythical creatures. The Dutch naturalist Laurentius de Curiene (1585–1667) reports that some of the Iroquois regarded Iroha (the Mohawk name for the Pacific turkey vulture) as a sacred bird. In modern times, the Lakota and other northern Plains tribes regard the Pacific turkey vulture as a god, patron deity of corn. Some people seek out these birds out of a feeling that they are special and a link to a longer history. But many find that the large birds are vulnerable and vulnerable to hunters and the greed of corporations, and feel this calls their loyalty into question. I am one of the few northern bald ibises left in the wild, and I am fighting for my species. I was revered as a holy bird and a symbol of brilliance and splendour in Ancient Egypt, where I was regarded as an embodiment of Thoth, the scribe of the gods.\n"
          ]
        }
      ],
      "source": [
        "prompt = \"My species is important in several cultures.\"\n",
        "topic_text = culture\n",
        "# topics: summary, taxonomy,description, habitat, culture, feeding, breeding\n",
        "\n",
        "generate_story(\"01-05-2021\", location_info = True, prompt = prompt, topic_text = topic_text)"
      ]
    },
    {
      "cell_type": "code",
      "execution_count": null,
      "metadata": {
        "colab": {
          "base_uri": "https://localhost:8080/",
          "height": 17
        },
        "id": "ixefYhC9v8io",
        "outputId": "725773e0-2388-4d6b-c963-2e61b31eef26"
      },
      "outputs": [
        {
          "data": {
            "text/html": [
              "\n",
              "  <style>\n",
              "    pre {\n",
              "        white-space: pre-wrap;\n",
              "    }\n",
              "  </style>\n",
              "  "
            ],
            "text/plain": [
              "<IPython.core.display.HTML object>"
            ]
          },
          "metadata": {},
          "output_type": "display_data"
        }
      ],
      "source": [
        "def get_context(day, context = context):\n",
        "    from datetime import datetime\n",
        "    date = datetime.strptime(day, '%d-%m-%Y')\n",
        "    date_text = date.strftime(\"It is %B %d, %Y.\")\n",
        "    context += \" \" + date_text\n",
        "    context += \" \" + current_place_weather(day)\n",
        "    return context"
      ]
    },
    {
      "cell_type": "code",
      "execution_count": null,
      "metadata": {
        "colab": {
          "base_uri": "https://localhost:8080/",
          "height": 70
        },
        "id": "-tJRdg_Cv-jh",
        "outputId": "ed4ec8c2-0cde-42d6-e242-e64c32695604"
      },
      "outputs": [
        {
          "data": {
            "text/html": [
              "\n",
              "  <style>\n",
              "    pre {\n",
              "        white-space: pre-wrap;\n",
              "    }\n",
              "  </style>\n",
              "  "
            ],
            "text/plain": [
              "<IPython.core.display.HTML object>"
            ]
          },
          "metadata": {},
          "output_type": "display_data"
        },
        {
          "name": "stdout",
          "output_type": "stream",
          "text": [
            "fetching data: https://en.wikipedia.org/w/api.php?action=query&format=json&list=geosearch&gscoord=42.481167|11.203067&gsradius=5000&gslimit=1\n"
          ]
        },
        {
          "data": {
            "application/vnd.google.colaboratory.intrinsic+json": {
              "type": "string"
            },
            "text/plain": [
              "\"Hello, my name is Laura, and I am a queer non-binary northern bald ibis. It is June 01, 2021. I am traveling through Italy near Albinia. It's a bit chilly and cloudy right now.\""
            ]
          },
          "execution_count": 79,
          "metadata": {},
          "output_type": "execute_result"
        }
      ],
      "source": [
        "get_context(\"01-06-2021\")"
      ]
    },
    {
      "cell_type": "markdown",
      "metadata": {
        "id": "h9D3Toq-BtRS"
      },
      "source": [
        "# Anvil WebApp Version\n",
        "\n",
        "## Link: https://G63NADL4YNSZIG7S.anvil.app/KF5UBIFSVOWONS6LS6BZRB6P"
      ]
    },
    {
      "cell_type": "code",
      "execution_count": null,
      "metadata": {
        "colab": {
          "base_uri": "https://localhost:8080/",
          "height": 69
        },
        "id": "ASAwAoGdzl4M",
        "outputId": "9d2ddc4d-cf11-4ec9-c316-d228ef270ae6"
      },
      "outputs": [
        {
          "data": {
            "text/html": [
              "\n",
              "  <style>\n",
              "    pre {\n",
              "        white-space: pre-wrap;\n",
              "    }\n",
              "  </style>\n",
              "  "
            ],
            "text/plain": [
              "<IPython.core.display.HTML object>"
            ]
          },
          "metadata": {},
          "output_type": "display_data"
        },
        {
          "name": "stdout",
          "output_type": "stream",
          "text": [
            "\u001b[K     |████████████████████████████████| 87 kB 3.3 MB/s \n",
            "\u001b[K     |████████████████████████████████| 51 kB 205 kB/s \n",
            "\u001b[?25h  Building wheel for ws4py (setup.py) ... \u001b[?25l\u001b[?25hdone\n"
          ]
        }
      ],
      "source": [
        "!pip install anvil-uplink -qq"
      ]
    },
    {
      "cell_type": "code",
      "execution_count": null,
      "metadata": {
        "colab": {
          "base_uri": "https://localhost:8080/",
          "height": 17
        },
        "id": "XLM7hiMGB2W9",
        "outputId": "fbd8ab4d-0d7e-49b3-b233-424ebde45e76"
      },
      "outputs": [
        {
          "data": {
            "text/html": [
              "\n",
              "  <style>\n",
              "    pre {\n",
              "        white-space: pre-wrap;\n",
              "    }\n",
              "  </style>\n",
              "  "
            ],
            "text/plain": [
              "<IPython.core.display.HTML object>"
            ]
          },
          "metadata": {},
          "output_type": "display_data"
        }
      ],
      "source": [
        "import anvil.server"
      ]
    },
    {
      "cell_type": "code",
      "execution_count": null,
      "metadata": {
        "colab": {
          "base_uri": "https://localhost:8080/",
          "height": 69
        },
        "id": "UVjMPC9oB8CS",
        "outputId": "d69294e1-a8fa-4875-f4d4-979017724a52"
      },
      "outputs": [
        {
          "data": {
            "text/html": [
              "\n",
              "  <style>\n",
              "    pre {\n",
              "        white-space: pre-wrap;\n",
              "    }\n",
              "  </style>\n",
              "  "
            ],
            "text/plain": [
              "<IPython.core.display.HTML object>"
            ]
          },
          "metadata": {},
          "output_type": "display_data"
        },
        {
          "name": "stdout",
          "output_type": "stream",
          "text": [
            "Connecting to wss://anvil.works/uplink\n",
            "Anvil websocket open\n",
            "Connected to \"Default environment\" as SERVER\n"
          ]
        }
      ],
      "source": [
        "anvil.server.connect(\"ANFBB6F4743XL2LALSH26SGR-G63NADL4YNSZIG7S\")"
      ]
    },
    {
      "cell_type": "code",
      "execution_count": null,
      "metadata": {
        "colab": {
          "base_uri": "https://localhost:8080/",
          "height": 17
        },
        "id": "8muLbb0wCCPj",
        "outputId": "fddd9900-3173-46d8-ffe9-a74bb29d4740"
      },
      "outputs": [
        {
          "data": {
            "text/html": [
              "\n",
              "  <style>\n",
              "    pre {\n",
              "        white-space: pre-wrap;\n",
              "    }\n",
              "  </style>\n",
              "  "
            ],
            "text/plain": [
              "<IPython.core.display.HTML object>"
            ]
          },
          "metadata": {},
          "output_type": "display_data"
        }
      ],
      "source": [
        "@anvil.server.callable\n",
        "def generate_story_web(day, location_info, prompt = \"\", topic_text = \"\", context = context , length = 150, style = style):\n",
        "    \n",
        "    # Add date, current place and weather to context\n",
        "    from datetime import datetime\n",
        "    date = datetime.strptime(day, '%Y-%m-%d')\n",
        "    date_text = date.strftime(\"It is %B %d, %Y.\")\n",
        "    context += \" \" + date_text\n",
        "    context += \" \" + current_place_weather(day)\n",
        "    context_len = len(nltk.sent_tokenize(context))\n",
        "    print(context)\n",
        "\n",
        "    # Default prompt to travel summary, else use given prompt.\n",
        "    if not prompt:\n",
        "        prompt = travel_summary(day)\n",
        "    else:\n",
        "        prompt = prompt\n",
        "\n",
        "    # Add description of location to prompt if location info set to True\n",
        "    if location_info:\n",
        "        day_df = df.loc[day]\n",
        "        datetime = day_df.index[-1]\n",
        "        place, place_wiki = get_wiki_place(datetime)\n",
        "        place_wiki = \" \".join(place_wiki)\n",
        "        # place_desc = GPT_Completion(place_wiki + 'tl;dr:')\n",
        "        place_desc = GPT_Completion(\"Summarize in one sentence: \" + place_wiki)\n",
        "        if place_desc != \"No text generated.\":\n",
        "            prompt = \" \".join([place_desc,prompt])\n",
        "        else:\n",
        "            prompt = prompt\n",
        "\n",
        "    # Add topic sentence to prompt, if specified.\n",
        "    # Generate initial part of story.\n",
        "    if topic_text:\n",
        "        topic = topic_text\n",
        "        prompt = \" \".join([context, prompt, topic])\n",
        "    else:\n",
        "        prompt = \" \".join([context, prompt])\n",
        "\n",
        "    prompt_len = len(tokenizer(prompt, return_tensors='pt').input_ids[0])\n",
        "    # print(prompt)\n",
        "    story = \" \" + generate_sentences(prompt, prompt_len + length)\n",
        "\n",
        "    # Use GPT-3 to complete the story\n",
        "    completion = GPT_Completion(\"Finish this story: \" + story)\n",
        "    if completion != 'No text generated.':\n",
        "        story += \" \" + completion\n",
        "\n",
        "    story = \" \".join(nltk.sent_tokenize(story)[context_len:])\n",
        "\n",
        "    # If style is specified, rewrite everything in given style.\n",
        "    if style:\n",
        "        rewrite = GPT_Completion(\"Rewrite in {}: \".format(style) + story)\n",
        "\n",
        "        if rewrite == 'No text generated.':\n",
        "            story = story\n",
        "\n",
        "        else:\n",
        "            story = rewrite\n",
        "\n",
        "    # Insert sentence about current location to the story beginning if location\n",
        "    # info is desired.\n",
        "    if location_info:\n",
        "        place_text = nltk.sent_tokenize(context)[-2]\n",
        "        story = place_text + \" \" + story\n",
        "\n",
        "    return story"
      ]
    },
    {
      "cell_type": "code",
      "execution_count": null,
      "metadata": {
        "colab": {
          "base_uri": "https://localhost:8080/",
          "height": 17
        },
        "id": "qW2viYUT3s-H",
        "outputId": "fd8ded3e-c8be-4d72-afbb-ea3317c9889c"
      },
      "outputs": [
        {
          "data": {
            "text/html": [
              "\n",
              "  <style>\n",
              "    pre {\n",
              "        white-space: pre-wrap;\n",
              "    }\n",
              "  </style>\n",
              "  "
            ],
            "text/plain": [
              "<IPython.core.display.HTML object>"
            ]
          },
          "metadata": {},
          "output_type": "display_data"
        }
      ],
      "source": [
        "@anvil.server.callable\n",
        "def topic_sentence_web(topic_text, first_person = True, past_tense = True):\n",
        "    topic = GPT_Completion(topic_text + \"tl;dr\")\n",
        "    if first_person:\n",
        "        topic = GPT_Completion(\"Rewrite in first-person: \" + topic)\n",
        "    if past_tense:\n",
        "        topic = GPT_Completion(\"Rewrite in past-tense: \" + topic)\n",
        "    return topic"
      ]
    },
    {
      "cell_type": "code",
      "execution_count": null,
      "metadata": {
        "colab": {
          "base_uri": "https://localhost:8080/",
          "height": 17
        },
        "id": "ZLnvz4BXulbQ",
        "outputId": "b539207d-4e0c-497f-cb68-5cc7567244b9"
      },
      "outputs": [
        {
          "data": {
            "text/html": [
              "\n",
              "  <style>\n",
              "    pre {\n",
              "        white-space: pre-wrap;\n",
              "    }\n",
              "  </style>\n",
              "  "
            ],
            "text/plain": [
              "<IPython.core.display.HTML object>"
            ]
          },
          "metadata": {},
          "output_type": "display_data"
        }
      ],
      "source": [
        "@anvil.server.callable\n",
        "def get_context(day, context = context, style = style):\n",
        "    from datetime import datetime\n",
        "    date = datetime.strptime(day, '%Y-%m-%d')\n",
        "    date_text = date.strftime(\"It is %B %d, %Y.\")\n",
        "    context += \" \" + date_text\n",
        "    context += \" \" + current_place_weather(day)\n",
        "    if style:\n",
        "        rewrite = GPT_Completion(\"Rewrite in {}: \".format(style) + context)\n",
        "\n",
        "        if rewrite == 'No text generated.':\n",
        "            context = context\n",
        "\n",
        "        else:\n",
        "            context = rewrite\n",
        "    return context"
      ]
    },
    {
      "cell_type": "code",
      "execution_count": null,
      "metadata": {
        "colab": {
          "background_save": true,
          "base_uri": "https://localhost:8080/",
          "height": 781
        },
        "id": "DtX3FE1RCh0c",
        "outputId": "41f555fb-4bf6-405d-c923-8a65d39972bf"
      },
      "outputs": [
        {
          "data": {
            "text/html": [
              "\n",
              "  <style>\n",
              "    pre {\n",
              "        white-space: pre-wrap;\n",
              "    }\n",
              "  </style>\n",
              "  "
            ],
            "text/plain": [
              "<IPython.core.display.HTML object>"
            ]
          },
          "metadata": {},
          "output_type": "display_data"
        },
        {
          "name": "stdout",
          "output_type": "stream",
          "text": [
            "fetching data: https://en.wikipedia.org/w/api.php?action=query&format=json&list=geosearch&gscoord=47.870773|12.615412&gsradius=5000&gslimit=1\n"
          ]
        },
        {
          "name": "stderr",
          "output_type": "stream",
          "text": [
            "Setting `pad_token_id` to `eos_token_id`:50256 for open-end generation.\n"
          ]
        },
        {
          "name": "stdout",
          "output_type": "stream",
          "text": [
            "Hello, my name is Laura, and I am a queer non-binary northern bald ibis. It is June 04, 2021. I am traveling through Germany near Traunstein. It's pretty warm and overcast right now. It is June 04, 2021. I am traveling through Germany near Traunstein. It's pretty warm and overcast right now.\n",
            "fetching data: https://en.wikipedia.org/w/api.php?action=query&format=json&list=geosearch&gscoord=47.870773|12.615412&gsradius=5000&gslimit=1\n"
          ]
        },
        {
          "name": "stderr",
          "output_type": "stream",
          "text": [
            "Setting `pad_token_id` to `eos_token_id`:50256 for open-end generation.\n"
          ]
        },
        {
          "name": "stdout",
          "output_type": "stream",
          "text": [
            "Hello, my name is Laura, and I am a queer non-binary northern bald ibis. It is June 04, 2021. I am traveling through Germany near Traunstein. It's pretty warm and overcast right now. It is June 04, 2021. I am traveling through Germany near Traunstein. It's pretty warm and overcast right now.\n",
            "fetching data: https://en.wikipedia.org/w/api.php?action=query&format=json&list=geosearch&gscoord=47.870773|12.615412&gsradius=5000&gslimit=1\n"
          ]
        },
        {
          "name": "stderr",
          "output_type": "stream",
          "text": [
            "Setting `pad_token_id` to `eos_token_id`:50256 for open-end generation.\n"
          ]
        },
        {
          "name": "stdout",
          "output_type": "stream",
          "text": [
            "Hello, my name is Laura, and I am a queer non-binary northern bald ibis. It is June 04, 2021. I am traveling through Germany near Traunstein. It's pretty warm and overcast right now. It is June 04, 2021. I am traveling through Germany near Traunstein. It's pretty warm and overcast right now.\n",
            "fetching data: https://en.wikipedia.org/w/api.php?action=query&format=json&list=geosearch&gscoord=47.870773|12.615412&gsradius=5000&gslimit=1\n",
            "Hello, my name is Laura, and I am a queer non-binary northern bald ibis. It is June 04, 2021. I am traveling through Germany near Traunstein. It's pretty warm and overcast right now. It is June 04, 2021. I am traveling through Germany near Traunstein. It's pretty warm and overcast right now.\n",
            "fetching data: https://en.wikipedia.org/w/api.php?action=query&format=json&list=geosearch&gscoord=47.808113|12.287283&gsradius=5000&gslimit=1\n",
            "fetching data: https://en.wikipedia.org/w/api.php?action=query&format=json&list=geosearch&gscoord=47.870773|12.615412&gsradius=5000&gslimit=1\n",
            "fetching data: https://en.wikipedia.org/w/api.php?action=query&format=json&list=geosearch&gscoord=47.870773|12.615412&gsradius=5000&gslimit=1\n"
          ]
        },
        {
          "name": "stderr",
          "output_type": "stream",
          "text": [
            "Setting `pad_token_id` to `eos_token_id`:50256 for open-end generation.\n"
          ]
        },
        {
          "name": "stdout",
          "output_type": "stream",
          "text": [
            "fetching data: https://en.wikipedia.org/w/api.php?action=query&format=json&list=geosearch&gscoord=47.870773|12.615412&gsradius=5000&gslimit=1\n",
            "Hello, my name is Laura, and I am a queer non-binary northern bald ibis. It is June 04, 2021. I am traveling through Germany near Traunstein. It's pretty warm and overcast right now. It is June 04, 2021. I am traveling through Germany near Traunstein. It's pretty warm and overcast right now.\n",
            "fetching data: https://en.wikipedia.org/w/api.php?action=query&format=json&list=geosearch&gscoord=47.870773|12.615412&gsradius=5000&gslimit=1\n"
          ]
        },
        {
          "name": "stderr",
          "output_type": "stream",
          "text": [
            "Setting `pad_token_id` to `eos_token_id`:50256 for open-end generation.\n"
          ]
        },
        {
          "name": "stdout",
          "output_type": "stream",
          "text": [
            "fetching data: https://en.wikipedia.org/w/api.php?action=query&format=json&list=geosearch&gscoord=47.870773|12.615412&gsradius=5000&gslimit=1\n"
          ]
        },
        {
          "name": "stderr",
          "output_type": "stream",
          "text": [
            "Setting `pad_token_id` to `eos_token_id`:50256 for open-end generation.\n"
          ]
        },
        {
          "name": "stdout",
          "output_type": "stream",
          "text": [
            "Hello, my name is Laura, and I am a queer non-binary northern bald ibis. It is June 04, 2021. I am traveling through Germany near Traunstein. It's pretty warm and overcast right now. It is June 04, 2021. I am traveling through Germany near Traunstein. It's pretty warm and overcast right now.\n",
            "fetching data: https://en.wikipedia.org/w/api.php?action=query&format=json&list=geosearch&gscoord=47.870773|12.615412&gsradius=5000&gslimit=1\n"
          ]
        },
        {
          "name": "stderr",
          "output_type": "stream",
          "text": [
            "Setting `pad_token_id` to `eos_token_id`:50256 for open-end generation.\n"
          ]
        },
        {
          "name": "stdout",
          "output_type": "stream",
          "text": [
            "Hello, my name is Laura, and I am a queer non-binary northern bald ibis. It is June 04, 2021. I am traveling through Germany near Traunstein. It's pretty warm and overcast right now. It is June 04, 2021. I am traveling through Germany near Traunstein. It's pretty warm and overcast right now.\n",
            "fetching data: https://en.wikipedia.org/w/api.php?action=query&format=json&list=geosearch&gscoord=47.870773|12.615412&gsradius=5000&gslimit=1\n",
            "Hello, my name is Laura, and I am a queer non-binary northern bald ibis. It is June 04, 2021. I am traveling through Germany near Traunstein. It's pretty warm and overcast right now. It is June 04, 2021. I am traveling through Germany near Traunstein. It's pretty warm and overcast right now.\n",
            "fetching data: https://en.wikipedia.org/w/api.php?action=query&format=json&list=geosearch&gscoord=47.808113|12.287283&gsradius=5000&gslimit=1\n"
          ]
        },
        {
          "name": "stderr",
          "output_type": "stream",
          "text": [
            "Setting `pad_token_id` to `eos_token_id`:50256 for open-end generation.\n"
          ]
        },
        {
          "name": "stdout",
          "output_type": "stream",
          "text": [
            "fetching data: https://en.wikipedia.org/w/api.php?action=query&format=json&list=geosearch&gscoord=47.870773|12.615412&gsradius=5000&gslimit=1\n",
            "fetching data: https://en.wikipedia.org/w/api.php?action=query&format=json&list=geosearch&gscoord=47.870773|12.615412&gsradius=5000&gslimit=1\n",
            "Hello, my name is Laura, and I am a queer non-binary northern bald ibis. It is June 04, 2021. I am traveling through Germany near Traunstein. It's pretty warm and overcast right now. It is June 04, 2021. I am traveling through Germany near Traunstein. It's pretty warm and overcast right now.\n",
            "fetching data: https://en.wikipedia.org/w/api.php?action=query&format=json&list=geosearch&gscoord=47.808113|12.287283&gsradius=5000&gslimit=1\n",
            "fetching data: https://en.wikipedia.org/w/api.php?action=query&format=json&list=geosearch&gscoord=47.870773|12.615412&gsradius=5000&gslimit=1\n"
          ]
        },
        {
          "name": "stderr",
          "output_type": "stream",
          "text": [
            "Setting `pad_token_id` to `eos_token_id`:50256 for open-end generation.\n"
          ]
        }
      ],
      "source": [
        "anvil.server.wait_forever()"
      ]
    },
    {
      "cell_type": "code",
      "execution_count": null,
      "metadata": {
        "id": "ABcRE6I08zF2"
      },
      "outputs": [],
      "source": []
    }
  ],
  "metadata": {
    "accelerator": "GPU",
    "colab": {
      "collapsed_sections": [
        "IGzsoZ3a1Cgq",
        "Yn8prUJo1ZZQ",
        "yIdYrGRa4uc7",
        "pAn6QrQ7NzA-",
        "fC31_pGaTSXs",
        "rfOL_uoNTV_h",
        "-zxvf79_bCoF",
        "RvGi1gPj6vzc"
      ],
      "machine_shape": "hm",
      "provenance": [],
      "authorship_tag": "ABX9TyNzxoCKQh/e1MKp508VxKpz",
      "include_colab_link": true
    },
    "gpuClass": "premium",
    "kernelspec": {
      "display_name": "Python 3",
      "name": "python3"
    },
    "language_info": {
      "name": "python"
    },
    "widgets": {
      "application/vnd.jupyter.widget-state+json": {
        "01eb68d7aa694747925af8b7b9a2c65f": {
          "model_module": "@jupyter-widgets/base",
          "model_module_version": "1.2.0",
          "model_name": "LayoutModel",
          "state": {
            "_model_module": "@jupyter-widgets/base",
            "_model_module_version": "1.2.0",
            "_model_name": "LayoutModel",
            "_view_count": null,
            "_view_module": "@jupyter-widgets/base",
            "_view_module_version": "1.2.0",
            "_view_name": "LayoutView",
            "align_content": null,
            "align_items": null,
            "align_self": null,
            "border": null,
            "bottom": null,
            "display": null,
            "flex": null,
            "flex_flow": null,
            "grid_area": null,
            "grid_auto_columns": null,
            "grid_auto_flow": null,
            "grid_auto_rows": null,
            "grid_column": null,
            "grid_gap": null,
            "grid_row": null,
            "grid_template_areas": null,
            "grid_template_columns": null,
            "grid_template_rows": null,
            "height": null,
            "justify_content": null,
            "justify_items": null,
            "left": null,
            "margin": null,
            "max_height": null,
            "max_width": null,
            "min_height": null,
            "min_width": null,
            "object_fit": null,
            "object_position": null,
            "order": null,
            "overflow": null,
            "overflow_x": null,
            "overflow_y": null,
            "padding": null,
            "right": null,
            "top": null,
            "visibility": null,
            "width": null
          }
        },
        "02d94ac62be04a9eba0e87b03945ec7a": {
          "model_module": "@jupyter-widgets/controls",
          "model_module_version": "1.5.0",
          "model_name": "HBoxModel",
          "state": {
            "_dom_classes": [],
            "_model_module": "@jupyter-widgets/controls",
            "_model_module_version": "1.5.0",
            "_model_name": "HBoxModel",
            "_view_count": null,
            "_view_module": "@jupyter-widgets/controls",
            "_view_module_version": "1.5.0",
            "_view_name": "HBoxView",
            "box_style": "",
            "children": [
              "IPY_MODEL_f2ca68e75fb34f159a9161ec7a5ffef3",
              "IPY_MODEL_73e5922ec7bd45b99d72e12aea0c9c3a",
              "IPY_MODEL_6ecf9474ee4543edbca2457ae36e9790"
            ],
            "layout": "IPY_MODEL_2a67d23fa8684844af961ca41bdd5287"
          }
        },
        "07259e926b3244e08f682abd57e82026": {
          "model_module": "@jupyter-widgets/base",
          "model_module_version": "1.2.0",
          "model_name": "LayoutModel",
          "state": {
            "_model_module": "@jupyter-widgets/base",
            "_model_module_version": "1.2.0",
            "_model_name": "LayoutModel",
            "_view_count": null,
            "_view_module": "@jupyter-widgets/base",
            "_view_module_version": "1.2.0",
            "_view_name": "LayoutView",
            "align_content": null,
            "align_items": null,
            "align_self": null,
            "border": null,
            "bottom": null,
            "display": null,
            "flex": null,
            "flex_flow": null,
            "grid_area": null,
            "grid_auto_columns": null,
            "grid_auto_flow": null,
            "grid_auto_rows": null,
            "grid_column": null,
            "grid_gap": null,
            "grid_row": null,
            "grid_template_areas": null,
            "grid_template_columns": null,
            "grid_template_rows": null,
            "height": null,
            "justify_content": null,
            "justify_items": null,
            "left": null,
            "margin": null,
            "max_height": null,
            "max_width": null,
            "min_height": null,
            "min_width": null,
            "object_fit": null,
            "object_position": null,
            "order": null,
            "overflow": null,
            "overflow_x": null,
            "overflow_y": null,
            "padding": null,
            "right": null,
            "top": null,
            "visibility": null,
            "width": null
          }
        },
        "094f245cbc3d4dba910040e04013485f": {
          "model_module": "@jupyter-widgets/base",
          "model_module_version": "1.2.0",
          "model_name": "LayoutModel",
          "state": {
            "_model_module": "@jupyter-widgets/base",
            "_model_module_version": "1.2.0",
            "_model_name": "LayoutModel",
            "_view_count": null,
            "_view_module": "@jupyter-widgets/base",
            "_view_module_version": "1.2.0",
            "_view_name": "LayoutView",
            "align_content": null,
            "align_items": null,
            "align_self": null,
            "border": null,
            "bottom": null,
            "display": null,
            "flex": null,
            "flex_flow": null,
            "grid_area": null,
            "grid_auto_columns": null,
            "grid_auto_flow": null,
            "grid_auto_rows": null,
            "grid_column": null,
            "grid_gap": null,
            "grid_row": null,
            "grid_template_areas": null,
            "grid_template_columns": null,
            "grid_template_rows": null,
            "height": null,
            "justify_content": null,
            "justify_items": null,
            "left": null,
            "margin": null,
            "max_height": null,
            "max_width": null,
            "min_height": null,
            "min_width": null,
            "object_fit": null,
            "object_position": null,
            "order": null,
            "overflow": null,
            "overflow_x": null,
            "overflow_y": null,
            "padding": null,
            "right": null,
            "top": null,
            "visibility": null,
            "width": null
          }
        },
        "0c2304a835894a958e83de26bf4b01f9": {
          "model_module": "@jupyter-widgets/controls",
          "model_module_version": "1.5.0",
          "model_name": "FloatProgressModel",
          "state": {
            "_dom_classes": [],
            "_model_module": "@jupyter-widgets/controls",
            "_model_module_version": "1.5.0",
            "_model_name": "FloatProgressModel",
            "_view_count": null,
            "_view_module": "@jupyter-widgets/controls",
            "_view_module_version": "1.5.0",
            "_view_name": "ProgressView",
            "bar_style": "success",
            "description": "",
            "description_tooltip": null,
            "layout": "IPY_MODEL_226f42c87af1427296c0a7953080c49a",
            "max": 200,
            "min": 0,
            "orientation": "horizontal",
            "style": "IPY_MODEL_2edaaf6a908d4b489e67eecfa10c2de5",
            "value": 200
          }
        },
        "1092a81612784907b029840cd12bc3c1": {
          "model_module": "@jupyter-widgets/controls",
          "model_module_version": "1.5.0",
          "model_name": "DescriptionStyleModel",
          "state": {
            "_model_module": "@jupyter-widgets/controls",
            "_model_module_version": "1.5.0",
            "_model_name": "DescriptionStyleModel",
            "_view_count": null,
            "_view_module": "@jupyter-widgets/base",
            "_view_module_version": "1.2.0",
            "_view_name": "StyleView",
            "description_width": ""
          }
        },
        "14bea648a3bf403b9e0daeb6f363e649": {
          "model_module": "@jupyter-widgets/base",
          "model_module_version": "1.2.0",
          "model_name": "LayoutModel",
          "state": {
            "_model_module": "@jupyter-widgets/base",
            "_model_module_version": "1.2.0",
            "_model_name": "LayoutModel",
            "_view_count": null,
            "_view_module": "@jupyter-widgets/base",
            "_view_module_version": "1.2.0",
            "_view_name": "LayoutView",
            "align_content": null,
            "align_items": null,
            "align_self": null,
            "border": null,
            "bottom": null,
            "display": null,
            "flex": null,
            "flex_flow": null,
            "grid_area": null,
            "grid_auto_columns": null,
            "grid_auto_flow": null,
            "grid_auto_rows": null,
            "grid_column": null,
            "grid_gap": null,
            "grid_row": null,
            "grid_template_areas": null,
            "grid_template_columns": null,
            "grid_template_rows": null,
            "height": null,
            "justify_content": null,
            "justify_items": null,
            "left": null,
            "margin": null,
            "max_height": null,
            "max_width": null,
            "min_height": null,
            "min_width": null,
            "object_fit": null,
            "object_position": null,
            "order": null,
            "overflow": null,
            "overflow_x": null,
            "overflow_y": null,
            "padding": null,
            "right": null,
            "top": null,
            "visibility": null,
            "width": null
          }
        },
        "1c8296f970614be2b140974f596fcf08": {
          "model_module": "@jupyter-widgets/controls",
          "model_module_version": "1.5.0",
          "model_name": "DescriptionStyleModel",
          "state": {
            "_model_module": "@jupyter-widgets/controls",
            "_model_module_version": "1.5.0",
            "_model_name": "DescriptionStyleModel",
            "_view_count": null,
            "_view_module": "@jupyter-widgets/base",
            "_view_module_version": "1.2.0",
            "_view_name": "StyleView",
            "description_width": ""
          }
        },
        "213e691c44f84f04be389cf8b273dfeb": {
          "model_module": "@jupyter-widgets/base",
          "model_module_version": "1.2.0",
          "model_name": "LayoutModel",
          "state": {
            "_model_module": "@jupyter-widgets/base",
            "_model_module_version": "1.2.0",
            "_model_name": "LayoutModel",
            "_view_count": null,
            "_view_module": "@jupyter-widgets/base",
            "_view_module_version": "1.2.0",
            "_view_name": "LayoutView",
            "align_content": null,
            "align_items": null,
            "align_self": null,
            "border": null,
            "bottom": null,
            "display": null,
            "flex": null,
            "flex_flow": null,
            "grid_area": null,
            "grid_auto_columns": null,
            "grid_auto_flow": null,
            "grid_auto_rows": null,
            "grid_column": null,
            "grid_gap": null,
            "grid_row": null,
            "grid_template_areas": null,
            "grid_template_columns": null,
            "grid_template_rows": null,
            "height": null,
            "justify_content": null,
            "justify_items": null,
            "left": null,
            "margin": null,
            "max_height": null,
            "max_width": null,
            "min_height": null,
            "min_width": null,
            "object_fit": null,
            "object_position": null,
            "order": null,
            "overflow": null,
            "overflow_x": null,
            "overflow_y": null,
            "padding": null,
            "right": null,
            "top": null,
            "visibility": null,
            "width": null
          }
        },
        "226f42c87af1427296c0a7953080c49a": {
          "model_module": "@jupyter-widgets/base",
          "model_module_version": "1.2.0",
          "model_name": "LayoutModel",
          "state": {
            "_model_module": "@jupyter-widgets/base",
            "_model_module_version": "1.2.0",
            "_model_name": "LayoutModel",
            "_view_count": null,
            "_view_module": "@jupyter-widgets/base",
            "_view_module_version": "1.2.0",
            "_view_name": "LayoutView",
            "align_content": null,
            "align_items": null,
            "align_self": null,
            "border": null,
            "bottom": null,
            "display": null,
            "flex": null,
            "flex_flow": null,
            "grid_area": null,
            "grid_auto_columns": null,
            "grid_auto_flow": null,
            "grid_auto_rows": null,
            "grid_column": null,
            "grid_gap": null,
            "grid_row": null,
            "grid_template_areas": null,
            "grid_template_columns": null,
            "grid_template_rows": null,
            "height": null,
            "justify_content": null,
            "justify_items": null,
            "left": null,
            "margin": null,
            "max_height": null,
            "max_width": null,
            "min_height": null,
            "min_width": null,
            "object_fit": null,
            "object_position": null,
            "order": null,
            "overflow": null,
            "overflow_x": null,
            "overflow_y": null,
            "padding": null,
            "right": null,
            "top": null,
            "visibility": null,
            "width": null
          }
        },
        "23b6c18f22d8455a842035259d7fb772": {
          "model_module": "@jupyter-widgets/base",
          "model_module_version": "1.2.0",
          "model_name": "LayoutModel",
          "state": {
            "_model_module": "@jupyter-widgets/base",
            "_model_module_version": "1.2.0",
            "_model_name": "LayoutModel",
            "_view_count": null,
            "_view_module": "@jupyter-widgets/base",
            "_view_module_version": "1.2.0",
            "_view_name": "LayoutView",
            "align_content": null,
            "align_items": null,
            "align_self": null,
            "border": null,
            "bottom": null,
            "display": null,
            "flex": null,
            "flex_flow": null,
            "grid_area": null,
            "grid_auto_columns": null,
            "grid_auto_flow": null,
            "grid_auto_rows": null,
            "grid_column": null,
            "grid_gap": null,
            "grid_row": null,
            "grid_template_areas": null,
            "grid_template_columns": null,
            "grid_template_rows": null,
            "height": null,
            "justify_content": null,
            "justify_items": null,
            "left": null,
            "margin": null,
            "max_height": null,
            "max_width": null,
            "min_height": null,
            "min_width": null,
            "object_fit": null,
            "object_position": null,
            "order": null,
            "overflow": null,
            "overflow_x": null,
            "overflow_y": null,
            "padding": null,
            "right": null,
            "top": null,
            "visibility": null,
            "width": null
          }
        },
        "24ab5cd10d2f47c0b7bef4c8b5f57b80": {
          "model_module": "@jupyter-widgets/controls",
          "model_module_version": "1.5.0",
          "model_name": "ProgressStyleModel",
          "state": {
            "_model_module": "@jupyter-widgets/controls",
            "_model_module_version": "1.5.0",
            "_model_name": "ProgressStyleModel",
            "_view_count": null,
            "_view_module": "@jupyter-widgets/base",
            "_view_module_version": "1.2.0",
            "_view_name": "StyleView",
            "bar_color": null,
            "description_width": ""
          }
        },
        "26b9a959d0764afd813d892ee6dd757f": {
          "model_module": "@jupyter-widgets/base",
          "model_module_version": "1.2.0",
          "model_name": "LayoutModel",
          "state": {
            "_model_module": "@jupyter-widgets/base",
            "_model_module_version": "1.2.0",
            "_model_name": "LayoutModel",
            "_view_count": null,
            "_view_module": "@jupyter-widgets/base",
            "_view_module_version": "1.2.0",
            "_view_name": "LayoutView",
            "align_content": null,
            "align_items": null,
            "align_self": null,
            "border": null,
            "bottom": null,
            "display": null,
            "flex": null,
            "flex_flow": null,
            "grid_area": null,
            "grid_auto_columns": null,
            "grid_auto_flow": null,
            "grid_auto_rows": null,
            "grid_column": null,
            "grid_gap": null,
            "grid_row": null,
            "grid_template_areas": null,
            "grid_template_columns": null,
            "grid_template_rows": null,
            "height": null,
            "justify_content": null,
            "justify_items": null,
            "left": null,
            "margin": null,
            "max_height": null,
            "max_width": null,
            "min_height": null,
            "min_width": null,
            "object_fit": null,
            "object_position": null,
            "order": null,
            "overflow": null,
            "overflow_x": null,
            "overflow_y": null,
            "padding": null,
            "right": null,
            "top": null,
            "visibility": null,
            "width": null
          }
        },
        "2a67d23fa8684844af961ca41bdd5287": {
          "model_module": "@jupyter-widgets/base",
          "model_module_version": "1.2.0",
          "model_name": "LayoutModel",
          "state": {
            "_model_module": "@jupyter-widgets/base",
            "_model_module_version": "1.2.0",
            "_model_name": "LayoutModel",
            "_view_count": null,
            "_view_module": "@jupyter-widgets/base",
            "_view_module_version": "1.2.0",
            "_view_name": "LayoutView",
            "align_content": null,
            "align_items": null,
            "align_self": null,
            "border": null,
            "bottom": null,
            "display": null,
            "flex": null,
            "flex_flow": null,
            "grid_area": null,
            "grid_auto_columns": null,
            "grid_auto_flow": null,
            "grid_auto_rows": null,
            "grid_column": null,
            "grid_gap": null,
            "grid_row": null,
            "grid_template_areas": null,
            "grid_template_columns": null,
            "grid_template_rows": null,
            "height": null,
            "justify_content": null,
            "justify_items": null,
            "left": null,
            "margin": null,
            "max_height": null,
            "max_width": null,
            "min_height": null,
            "min_width": null,
            "object_fit": null,
            "object_position": null,
            "order": null,
            "overflow": null,
            "overflow_x": null,
            "overflow_y": null,
            "padding": null,
            "right": null,
            "top": null,
            "visibility": null,
            "width": null
          }
        },
        "2edaaf6a908d4b489e67eecfa10c2de5": {
          "model_module": "@jupyter-widgets/controls",
          "model_module_version": "1.5.0",
          "model_name": "ProgressStyleModel",
          "state": {
            "_model_module": "@jupyter-widgets/controls",
            "_model_module_version": "1.5.0",
            "_model_name": "ProgressStyleModel",
            "_view_count": null,
            "_view_module": "@jupyter-widgets/base",
            "_view_module_version": "1.2.0",
            "_view_name": "StyleView",
            "bar_color": null,
            "description_width": ""
          }
        },
        "32cb923e411a4bd99db51cefb7dc51bf": {
          "model_module": "@jupyter-widgets/controls",
          "model_module_version": "1.5.0",
          "model_name": "DescriptionStyleModel",
          "state": {
            "_model_module": "@jupyter-widgets/controls",
            "_model_module_version": "1.5.0",
            "_model_name": "DescriptionStyleModel",
            "_view_count": null,
            "_view_module": "@jupyter-widgets/base",
            "_view_module_version": "1.2.0",
            "_view_name": "StyleView",
            "description_width": ""
          }
        },
        "34c36b35e39e4689b70f8fce647928e3": {
          "model_module": "@jupyter-widgets/controls",
          "model_module_version": "1.5.0",
          "model_name": "HTMLModel",
          "state": {
            "_dom_classes": [],
            "_model_module": "@jupyter-widgets/controls",
            "_model_module_version": "1.5.0",
            "_model_name": "HTMLModel",
            "_view_count": null,
            "_view_module": "@jupyter-widgets/controls",
            "_view_module_version": "1.5.0",
            "_view_name": "HTMLView",
            "description": "",
            "description_tooltip": null,
            "layout": "IPY_MODEL_77cd7c42bed7469b9d6583ef2d4b247d",
            "placeholder": "​",
            "style": "IPY_MODEL_474f585eb1e6478281dc4788f2ed5479",
            "value": "Downloading: 100%"
          }
        },
        "3900618994554a96aa5a973a7d3c0791": {
          "model_module": "@jupyter-widgets/controls",
          "model_module_version": "1.5.0",
          "model_name": "DescriptionStyleModel",
          "state": {
            "_model_module": "@jupyter-widgets/controls",
            "_model_module_version": "1.5.0",
            "_model_name": "DescriptionStyleModel",
            "_view_count": null,
            "_view_module": "@jupyter-widgets/base",
            "_view_module_version": "1.2.0",
            "_view_name": "StyleView",
            "description_width": ""
          }
        },
        "3ea63e2d05904bd0829671c3d0194c37": {
          "model_module": "@jupyter-widgets/controls",
          "model_module_version": "1.5.0",
          "model_name": "HTMLModel",
          "state": {
            "_dom_classes": [],
            "_model_module": "@jupyter-widgets/controls",
            "_model_module_version": "1.5.0",
            "_model_name": "HTMLModel",
            "_view_count": null,
            "_view_module": "@jupyter-widgets/controls",
            "_view_module_version": "1.5.0",
            "_view_name": "HTMLView",
            "description": "",
            "description_tooltip": null,
            "layout": "IPY_MODEL_26b9a959d0764afd813d892ee6dd757f",
            "placeholder": "​",
            "style": "IPY_MODEL_7e993a68c04742debf535edba638a4e5",
            "value": " 798k/798k [00:00&lt;00:00, 3.59MB/s]"
          }
        },
        "474f585eb1e6478281dc4788f2ed5479": {
          "model_module": "@jupyter-widgets/controls",
          "model_module_version": "1.5.0",
          "model_name": "DescriptionStyleModel",
          "state": {
            "_model_module": "@jupyter-widgets/controls",
            "_model_module_version": "1.5.0",
            "_model_name": "DescriptionStyleModel",
            "_view_count": null,
            "_view_module": "@jupyter-widgets/base",
            "_view_module_version": "1.2.0",
            "_view_name": "StyleView",
            "description_width": ""
          }
        },
        "4ae4a095750b4099a31f5b71d931cb1d": {
          "model_module": "@jupyter-widgets/base",
          "model_module_version": "1.2.0",
          "model_name": "LayoutModel",
          "state": {
            "_model_module": "@jupyter-widgets/base",
            "_model_module_version": "1.2.0",
            "_model_name": "LayoutModel",
            "_view_count": null,
            "_view_module": "@jupyter-widgets/base",
            "_view_module_version": "1.2.0",
            "_view_name": "LayoutView",
            "align_content": null,
            "align_items": null,
            "align_self": null,
            "border": null,
            "bottom": null,
            "display": null,
            "flex": null,
            "flex_flow": null,
            "grid_area": null,
            "grid_auto_columns": null,
            "grid_auto_flow": null,
            "grid_auto_rows": null,
            "grid_column": null,
            "grid_gap": null,
            "grid_row": null,
            "grid_template_areas": null,
            "grid_template_columns": null,
            "grid_template_rows": null,
            "height": null,
            "justify_content": null,
            "justify_items": null,
            "left": null,
            "margin": null,
            "max_height": null,
            "max_width": null,
            "min_height": null,
            "min_width": null,
            "object_fit": null,
            "object_position": null,
            "order": null,
            "overflow": null,
            "overflow_x": null,
            "overflow_y": null,
            "padding": null,
            "right": null,
            "top": null,
            "visibility": null,
            "width": null
          }
        },
        "50c79498cfcf46cbbaec70fcb1f249dc": {
          "model_module": "@jupyter-widgets/controls",
          "model_module_version": "1.5.0",
          "model_name": "HTMLModel",
          "state": {
            "_dom_classes": [],
            "_model_module": "@jupyter-widgets/controls",
            "_model_module_version": "1.5.0",
            "_model_name": "HTMLModel",
            "_view_count": null,
            "_view_module": "@jupyter-widgets/controls",
            "_view_module_version": "1.5.0",
            "_view_name": "HTMLView",
            "description": "",
            "description_tooltip": null,
            "layout": "IPY_MODEL_8f70a82f65ce40af872a2be62480c9c0",
            "placeholder": "​",
            "style": "IPY_MODEL_1c8296f970614be2b140974f596fcf08",
            "value": "Downloading: 100%"
          }
        },
        "631bcd313d194222ae57a1ed5b1cc2f2": {
          "model_module": "@jupyter-widgets/base",
          "model_module_version": "1.2.0",
          "model_name": "LayoutModel",
          "state": {
            "_model_module": "@jupyter-widgets/base",
            "_model_module_version": "1.2.0",
            "_model_name": "LayoutModel",
            "_view_count": null,
            "_view_module": "@jupyter-widgets/base",
            "_view_module_version": "1.2.0",
            "_view_name": "LayoutView",
            "align_content": null,
            "align_items": null,
            "align_self": null,
            "border": null,
            "bottom": null,
            "display": null,
            "flex": null,
            "flex_flow": null,
            "grid_area": null,
            "grid_auto_columns": null,
            "grid_auto_flow": null,
            "grid_auto_rows": null,
            "grid_column": null,
            "grid_gap": null,
            "grid_row": null,
            "grid_template_areas": null,
            "grid_template_columns": null,
            "grid_template_rows": null,
            "height": null,
            "justify_content": null,
            "justify_items": null,
            "left": null,
            "margin": null,
            "max_height": null,
            "max_width": null,
            "min_height": null,
            "min_width": null,
            "object_fit": null,
            "object_position": null,
            "order": null,
            "overflow": null,
            "overflow_x": null,
            "overflow_y": null,
            "padding": null,
            "right": null,
            "top": null,
            "visibility": null,
            "width": null
          }
        },
        "68e984021ff5446ab4a6ef9989b49121": {
          "model_module": "@jupyter-widgets/controls",
          "model_module_version": "1.5.0",
          "model_name": "ProgressStyleModel",
          "state": {
            "_model_module": "@jupyter-widgets/controls",
            "_model_module_version": "1.5.0",
            "_model_name": "ProgressStyleModel",
            "_view_count": null,
            "_view_module": "@jupyter-widgets/base",
            "_view_module_version": "1.2.0",
            "_view_name": "StyleView",
            "bar_color": null,
            "description_width": ""
          }
        },
        "6c1d3dde985b4c7084f445ffaabdd220": {
          "model_module": "@jupyter-widgets/controls",
          "model_module_version": "1.5.0",
          "model_name": "HBoxModel",
          "state": {
            "_dom_classes": [],
            "_model_module": "@jupyter-widgets/controls",
            "_model_module_version": "1.5.0",
            "_model_name": "HBoxModel",
            "_view_count": null,
            "_view_module": "@jupyter-widgets/controls",
            "_view_module_version": "1.5.0",
            "_view_name": "HBoxView",
            "box_style": "",
            "children": [
              "IPY_MODEL_50c79498cfcf46cbbaec70fcb1f249dc",
              "IPY_MODEL_82a2d4e2ee784016829b19b31e02ecb0",
              "IPY_MODEL_3ea63e2d05904bd0829671c3d0194c37"
            ],
            "layout": "IPY_MODEL_c74d457c9895489da4937a9bc9f85415"
          }
        },
        "6ecf9474ee4543edbca2457ae36e9790": {
          "model_module": "@jupyter-widgets/controls",
          "model_module_version": "1.5.0",
          "model_name": "HTMLModel",
          "state": {
            "_dom_classes": [],
            "_model_module": "@jupyter-widgets/controls",
            "_model_module_version": "1.5.0",
            "_model_name": "HTMLModel",
            "_view_count": null,
            "_view_module": "@jupyter-widgets/controls",
            "_view_module_version": "1.5.0",
            "_view_name": "HTMLView",
            "description": "",
            "description_tooltip": null,
            "layout": "IPY_MODEL_b9a46eb7d60c4ba3bb3c19653ab97ef3",
            "placeholder": "​",
            "style": "IPY_MODEL_ecc335e5ec6244dda57159fa26ba7fe6",
            "value": " 1.35k/1.35k [00:00&lt;00:00, 49.1kB/s]"
          }
        },
        "738ac466499043989d8870affe5ef3b7": {
          "model_module": "@jupyter-widgets/controls",
          "model_module_version": "1.5.0",
          "model_name": "HBoxModel",
          "state": {
            "_dom_classes": [],
            "_model_module": "@jupyter-widgets/controls",
            "_model_module_version": "1.5.0",
            "_model_name": "HBoxModel",
            "_view_count": null,
            "_view_module": "@jupyter-widgets/controls",
            "_view_module_version": "1.5.0",
            "_view_name": "HBoxView",
            "box_style": "",
            "children": [
              "IPY_MODEL_addb525cd1e041f7b1f0619880283fe9",
              "IPY_MODEL_0c2304a835894a958e83de26bf4b01f9",
              "IPY_MODEL_aa5cd095a9d74d89a76b476c1819dab5"
            ],
            "layout": "IPY_MODEL_4ae4a095750b4099a31f5b71d931cb1d"
          }
        },
        "73e5922ec7bd45b99d72e12aea0c9c3a": {
          "model_module": "@jupyter-widgets/controls",
          "model_module_version": "1.5.0",
          "model_name": "FloatProgressModel",
          "state": {
            "_dom_classes": [],
            "_model_module": "@jupyter-widgets/controls",
            "_model_module_version": "1.5.0",
            "_model_name": "FloatProgressModel",
            "_view_count": null,
            "_view_module": "@jupyter-widgets/controls",
            "_view_module_version": "1.5.0",
            "_view_name": "ProgressView",
            "bar_style": "success",
            "description": "",
            "description_tooltip": null,
            "layout": "IPY_MODEL_631bcd313d194222ae57a1ed5b1cc2f2",
            "max": 1347,
            "min": 0,
            "orientation": "horizontal",
            "style": "IPY_MODEL_79fe90b2570a4a91ab22f0e1d9b74bf6",
            "value": 1347
          }
        },
        "763fe6a89c814dcf9fc77a189328d572": {
          "model_module": "@jupyter-widgets/controls",
          "model_module_version": "1.5.0",
          "model_name": "HTMLModel",
          "state": {
            "_dom_classes": [],
            "_model_module": "@jupyter-widgets/controls",
            "_model_module_version": "1.5.0",
            "_model_name": "HTMLModel",
            "_view_count": null,
            "_view_module": "@jupyter-widgets/controls",
            "_view_module_version": "1.5.0",
            "_view_name": "HTMLView",
            "description": "",
            "description_tooltip": null,
            "layout": "IPY_MODEL_01eb68d7aa694747925af8b7b9a2c65f",
            "placeholder": "​",
            "style": "IPY_MODEL_d5aca15e788b40e89e4c7d18dca5caaf",
            "value": " 90.0/90.0 [00:00&lt;00:00, 3.22kB/s]"
          }
        },
        "77cd7c42bed7469b9d6583ef2d4b247d": {
          "model_module": "@jupyter-widgets/base",
          "model_module_version": "1.2.0",
          "model_name": "LayoutModel",
          "state": {
            "_model_module": "@jupyter-widgets/base",
            "_model_module_version": "1.2.0",
            "_model_name": "LayoutModel",
            "_view_count": null,
            "_view_module": "@jupyter-widgets/base",
            "_view_module_version": "1.2.0",
            "_view_name": "LayoutView",
            "align_content": null,
            "align_items": null,
            "align_self": null,
            "border": null,
            "bottom": null,
            "display": null,
            "flex": null,
            "flex_flow": null,
            "grid_area": null,
            "grid_auto_columns": null,
            "grid_auto_flow": null,
            "grid_auto_rows": null,
            "grid_column": null,
            "grid_gap": null,
            "grid_row": null,
            "grid_template_areas": null,
            "grid_template_columns": null,
            "grid_template_rows": null,
            "height": null,
            "justify_content": null,
            "justify_items": null,
            "left": null,
            "margin": null,
            "max_height": null,
            "max_width": null,
            "min_height": null,
            "min_width": null,
            "object_fit": null,
            "object_position": null,
            "order": null,
            "overflow": null,
            "overflow_x": null,
            "overflow_y": null,
            "padding": null,
            "right": null,
            "top": null,
            "visibility": null,
            "width": null
          }
        },
        "79fe90b2570a4a91ab22f0e1d9b74bf6": {
          "model_module": "@jupyter-widgets/controls",
          "model_module_version": "1.5.0",
          "model_name": "ProgressStyleModel",
          "state": {
            "_model_module": "@jupyter-widgets/controls",
            "_model_module_version": "1.5.0",
            "_model_name": "ProgressStyleModel",
            "_view_count": null,
            "_view_module": "@jupyter-widgets/base",
            "_view_module_version": "1.2.0",
            "_view_name": "StyleView",
            "bar_color": null,
            "description_width": ""
          }
        },
        "7e993a68c04742debf535edba638a4e5": {
          "model_module": "@jupyter-widgets/controls",
          "model_module_version": "1.5.0",
          "model_name": "DescriptionStyleModel",
          "state": {
            "_model_module": "@jupyter-widgets/controls",
            "_model_module_version": "1.5.0",
            "_model_name": "DescriptionStyleModel",
            "_view_count": null,
            "_view_module": "@jupyter-widgets/base",
            "_view_module_version": "1.2.0",
            "_view_name": "StyleView",
            "description_width": ""
          }
        },
        "82a2d4e2ee784016829b19b31e02ecb0": {
          "model_module": "@jupyter-widgets/controls",
          "model_module_version": "1.5.0",
          "model_name": "FloatProgressModel",
          "state": {
            "_dom_classes": [],
            "_model_module": "@jupyter-widgets/controls",
            "_model_module_version": "1.5.0",
            "_model_name": "FloatProgressModel",
            "_view_count": null,
            "_view_module": "@jupyter-widgets/controls",
            "_view_module_version": "1.5.0",
            "_view_name": "ProgressView",
            "bar_style": "success",
            "description": "",
            "description_tooltip": null,
            "layout": "IPY_MODEL_094f245cbc3d4dba910040e04013485f",
            "max": 798156,
            "min": 0,
            "orientation": "horizontal",
            "style": "IPY_MODEL_e87866db370f4642a640133965bf8c08",
            "value": 798156
          }
        },
        "8f70a82f65ce40af872a2be62480c9c0": {
          "model_module": "@jupyter-widgets/base",
          "model_module_version": "1.2.0",
          "model_name": "LayoutModel",
          "state": {
            "_model_module": "@jupyter-widgets/base",
            "_model_module_version": "1.2.0",
            "_model_name": "LayoutModel",
            "_view_count": null,
            "_view_module": "@jupyter-widgets/base",
            "_view_module_version": "1.2.0",
            "_view_name": "LayoutView",
            "align_content": null,
            "align_items": null,
            "align_self": null,
            "border": null,
            "bottom": null,
            "display": null,
            "flex": null,
            "flex_flow": null,
            "grid_area": null,
            "grid_auto_columns": null,
            "grid_auto_flow": null,
            "grid_auto_rows": null,
            "grid_column": null,
            "grid_gap": null,
            "grid_row": null,
            "grid_template_areas": null,
            "grid_template_columns": null,
            "grid_template_rows": null,
            "height": null,
            "justify_content": null,
            "justify_items": null,
            "left": null,
            "margin": null,
            "max_height": null,
            "max_width": null,
            "min_height": null,
            "min_width": null,
            "object_fit": null,
            "object_position": null,
            "order": null,
            "overflow": null,
            "overflow_x": null,
            "overflow_y": null,
            "padding": null,
            "right": null,
            "top": null,
            "visibility": null,
            "width": null
          }
        },
        "932ccc2391644625a8a8aa6defdb8230": {
          "model_module": "@jupyter-widgets/controls",
          "model_module_version": "1.5.0",
          "model_name": "HTMLModel",
          "state": {
            "_dom_classes": [],
            "_model_module": "@jupyter-widgets/controls",
            "_model_module_version": "1.5.0",
            "_model_name": "HTMLModel",
            "_view_count": null,
            "_view_module": "@jupyter-widgets/controls",
            "_view_module_version": "1.5.0",
            "_view_name": "HTMLView",
            "description": "",
            "description_tooltip": null,
            "layout": "IPY_MODEL_bab6846eccea4bfc87204690a437835c",
            "placeholder": "​",
            "style": "IPY_MODEL_3900618994554a96aa5a973a7d3c0791",
            "value": "Downloading: 100%"
          }
        },
        "967985d474d34abc821f2cb9fef06c19": {
          "model_module": "@jupyter-widgets/controls",
          "model_module_version": "1.5.0",
          "model_name": "DescriptionStyleModel",
          "state": {
            "_model_module": "@jupyter-widgets/controls",
            "_model_module_version": "1.5.0",
            "_model_name": "DescriptionStyleModel",
            "_view_count": null,
            "_view_module": "@jupyter-widgets/base",
            "_view_module_version": "1.2.0",
            "_view_name": "StyleView",
            "description_width": ""
          }
        },
        "983ae3fb12e143d4b110df33098a942a": {
          "model_module": "@jupyter-widgets/controls",
          "model_module_version": "1.5.0",
          "model_name": "FloatProgressModel",
          "state": {
            "_dom_classes": [],
            "_model_module": "@jupyter-widgets/controls",
            "_model_module_version": "1.5.0",
            "_model_name": "FloatProgressModel",
            "_view_count": null,
            "_view_module": "@jupyter-widgets/controls",
            "_view_module_version": "1.5.0",
            "_view_name": "ProgressView",
            "bar_style": "success",
            "description": "",
            "description_tooltip": null,
            "layout": "IPY_MODEL_07259e926b3244e08f682abd57e82026",
            "max": 456356,
            "min": 0,
            "orientation": "horizontal",
            "style": "IPY_MODEL_68e984021ff5446ab4a6ef9989b49121",
            "value": 456356
          }
        },
        "9ef2d5a6a71947caafb59986bfc16e8f": {
          "model_module": "@jupyter-widgets/controls",
          "model_module_version": "1.5.0",
          "model_name": "DescriptionStyleModel",
          "state": {
            "_model_module": "@jupyter-widgets/controls",
            "_model_module_version": "1.5.0",
            "_model_name": "DescriptionStyleModel",
            "_view_count": null,
            "_view_module": "@jupyter-widgets/base",
            "_view_module_version": "1.2.0",
            "_view_name": "StyleView",
            "description_width": ""
          }
        },
        "a121be18006b4d6a8213ac919445012a": {
          "model_module": "@jupyter-widgets/controls",
          "model_module_version": "1.5.0",
          "model_name": "FloatProgressModel",
          "state": {
            "_dom_classes": [],
            "_model_module": "@jupyter-widgets/controls",
            "_model_module_version": "1.5.0",
            "_model_name": "FloatProgressModel",
            "_view_count": null,
            "_view_module": "@jupyter-widgets/controls",
            "_view_module_version": "1.5.0",
            "_view_name": "ProgressView",
            "bar_style": "success",
            "description": "",
            "description_tooltip": null,
            "layout": "IPY_MODEL_be97eced50c34b7982fe0caa859a619c",
            "max": 90,
            "min": 0,
            "orientation": "horizontal",
            "style": "IPY_MODEL_24ab5cd10d2f47c0b7bef4c8b5f57b80",
            "value": 90
          }
        },
        "a1d2b2d891d3405db00d21031a9e192e": {
          "model_module": "@jupyter-widgets/controls",
          "model_module_version": "1.5.0",
          "model_name": "HTMLModel",
          "state": {
            "_dom_classes": [],
            "_model_module": "@jupyter-widgets/controls",
            "_model_module_version": "1.5.0",
            "_model_name": "HTMLModel",
            "_view_count": null,
            "_view_module": "@jupyter-widgets/controls",
            "_view_module_version": "1.5.0",
            "_view_name": "HTMLView",
            "description": "",
            "description_tooltip": null,
            "layout": "IPY_MODEL_14bea648a3bf403b9e0daeb6f363e649",
            "placeholder": "​",
            "style": "IPY_MODEL_1092a81612784907b029840cd12bc3c1",
            "value": " 456k/456k [00:00&lt;00:00, 4.66MB/s]"
          }
        },
        "aa5cd095a9d74d89a76b476c1819dab5": {
          "model_module": "@jupyter-widgets/controls",
          "model_module_version": "1.5.0",
          "model_name": "HTMLModel",
          "state": {
            "_dom_classes": [],
            "_model_module": "@jupyter-widgets/controls",
            "_model_module_version": "1.5.0",
            "_model_name": "HTMLModel",
            "_view_count": null,
            "_view_module": "@jupyter-widgets/controls",
            "_view_module_version": "1.5.0",
            "_view_name": "HTMLView",
            "description": "",
            "description_tooltip": null,
            "layout": "IPY_MODEL_213e691c44f84f04be389cf8b273dfeb",
            "placeholder": "​",
            "style": "IPY_MODEL_9ef2d5a6a71947caafb59986bfc16e8f",
            "value": " 200/200 [00:00&lt;00:00, 6.91kB/s]"
          }
        },
        "addb525cd1e041f7b1f0619880283fe9": {
          "model_module": "@jupyter-widgets/controls",
          "model_module_version": "1.5.0",
          "model_name": "HTMLModel",
          "state": {
            "_dom_classes": [],
            "_model_module": "@jupyter-widgets/controls",
            "_model_module_version": "1.5.0",
            "_model_name": "HTMLModel",
            "_view_count": null,
            "_view_module": "@jupyter-widgets/controls",
            "_view_module_version": "1.5.0",
            "_view_name": "HTMLView",
            "description": "",
            "description_tooltip": null,
            "layout": "IPY_MODEL_f2c699efb22d409390731de12cee3e27",
            "placeholder": "​",
            "style": "IPY_MODEL_967985d474d34abc821f2cb9fef06c19",
            "value": "Downloading: 100%"
          }
        },
        "b9a46eb7d60c4ba3bb3c19653ab97ef3": {
          "model_module": "@jupyter-widgets/base",
          "model_module_version": "1.2.0",
          "model_name": "LayoutModel",
          "state": {
            "_model_module": "@jupyter-widgets/base",
            "_model_module_version": "1.2.0",
            "_model_name": "LayoutModel",
            "_view_count": null,
            "_view_module": "@jupyter-widgets/base",
            "_view_module_version": "1.2.0",
            "_view_name": "LayoutView",
            "align_content": null,
            "align_items": null,
            "align_self": null,
            "border": null,
            "bottom": null,
            "display": null,
            "flex": null,
            "flex_flow": null,
            "grid_area": null,
            "grid_auto_columns": null,
            "grid_auto_flow": null,
            "grid_auto_rows": null,
            "grid_column": null,
            "grid_gap": null,
            "grid_row": null,
            "grid_template_areas": null,
            "grid_template_columns": null,
            "grid_template_rows": null,
            "height": null,
            "justify_content": null,
            "justify_items": null,
            "left": null,
            "margin": null,
            "max_height": null,
            "max_width": null,
            "min_height": null,
            "min_width": null,
            "object_fit": null,
            "object_position": null,
            "order": null,
            "overflow": null,
            "overflow_x": null,
            "overflow_y": null,
            "padding": null,
            "right": null,
            "top": null,
            "visibility": null,
            "width": null
          }
        },
        "bab6846eccea4bfc87204690a437835c": {
          "model_module": "@jupyter-widgets/base",
          "model_module_version": "1.2.0",
          "model_name": "LayoutModel",
          "state": {
            "_model_module": "@jupyter-widgets/base",
            "_model_module_version": "1.2.0",
            "_model_name": "LayoutModel",
            "_view_count": null,
            "_view_module": "@jupyter-widgets/base",
            "_view_module_version": "1.2.0",
            "_view_name": "LayoutView",
            "align_content": null,
            "align_items": null,
            "align_self": null,
            "border": null,
            "bottom": null,
            "display": null,
            "flex": null,
            "flex_flow": null,
            "grid_area": null,
            "grid_auto_columns": null,
            "grid_auto_flow": null,
            "grid_auto_rows": null,
            "grid_column": null,
            "grid_gap": null,
            "grid_row": null,
            "grid_template_areas": null,
            "grid_template_columns": null,
            "grid_template_rows": null,
            "height": null,
            "justify_content": null,
            "justify_items": null,
            "left": null,
            "margin": null,
            "max_height": null,
            "max_width": null,
            "min_height": null,
            "min_width": null,
            "object_fit": null,
            "object_position": null,
            "order": null,
            "overflow": null,
            "overflow_x": null,
            "overflow_y": null,
            "padding": null,
            "right": null,
            "top": null,
            "visibility": null,
            "width": null
          }
        },
        "be97eced50c34b7982fe0caa859a619c": {
          "model_module": "@jupyter-widgets/base",
          "model_module_version": "1.2.0",
          "model_name": "LayoutModel",
          "state": {
            "_model_module": "@jupyter-widgets/base",
            "_model_module_version": "1.2.0",
            "_model_name": "LayoutModel",
            "_view_count": null,
            "_view_module": "@jupyter-widgets/base",
            "_view_module_version": "1.2.0",
            "_view_name": "LayoutView",
            "align_content": null,
            "align_items": null,
            "align_self": null,
            "border": null,
            "bottom": null,
            "display": null,
            "flex": null,
            "flex_flow": null,
            "grid_area": null,
            "grid_auto_columns": null,
            "grid_auto_flow": null,
            "grid_auto_rows": null,
            "grid_column": null,
            "grid_gap": null,
            "grid_row": null,
            "grid_template_areas": null,
            "grid_template_columns": null,
            "grid_template_rows": null,
            "height": null,
            "justify_content": null,
            "justify_items": null,
            "left": null,
            "margin": null,
            "max_height": null,
            "max_width": null,
            "min_height": null,
            "min_width": null,
            "object_fit": null,
            "object_position": null,
            "order": null,
            "overflow": null,
            "overflow_x": null,
            "overflow_y": null,
            "padding": null,
            "right": null,
            "top": null,
            "visibility": null,
            "width": null
          }
        },
        "bfc578a084834679a98597315da23da3": {
          "model_module": "@jupyter-widgets/controls",
          "model_module_version": "1.5.0",
          "model_name": "HBoxModel",
          "state": {
            "_dom_classes": [],
            "_model_module": "@jupyter-widgets/controls",
            "_model_module_version": "1.5.0",
            "_model_name": "HBoxModel",
            "_view_count": null,
            "_view_module": "@jupyter-widgets/controls",
            "_view_module_version": "1.5.0",
            "_view_name": "HBoxView",
            "box_style": "",
            "children": [
              "IPY_MODEL_932ccc2391644625a8a8aa6defdb8230",
              "IPY_MODEL_a121be18006b4d6a8213ac919445012a",
              "IPY_MODEL_763fe6a89c814dcf9fc77a189328d572"
            ],
            "layout": "IPY_MODEL_23b6c18f22d8455a842035259d7fb772"
          }
        },
        "c74d457c9895489da4937a9bc9f85415": {
          "model_module": "@jupyter-widgets/base",
          "model_module_version": "1.2.0",
          "model_name": "LayoutModel",
          "state": {
            "_model_module": "@jupyter-widgets/base",
            "_model_module_version": "1.2.0",
            "_model_name": "LayoutModel",
            "_view_count": null,
            "_view_module": "@jupyter-widgets/base",
            "_view_module_version": "1.2.0",
            "_view_name": "LayoutView",
            "align_content": null,
            "align_items": null,
            "align_self": null,
            "border": null,
            "bottom": null,
            "display": null,
            "flex": null,
            "flex_flow": null,
            "grid_area": null,
            "grid_auto_columns": null,
            "grid_auto_flow": null,
            "grid_auto_rows": null,
            "grid_column": null,
            "grid_gap": null,
            "grid_row": null,
            "grid_template_areas": null,
            "grid_template_columns": null,
            "grid_template_rows": null,
            "height": null,
            "justify_content": null,
            "justify_items": null,
            "left": null,
            "margin": null,
            "max_height": null,
            "max_width": null,
            "min_height": null,
            "min_width": null,
            "object_fit": null,
            "object_position": null,
            "order": null,
            "overflow": null,
            "overflow_x": null,
            "overflow_y": null,
            "padding": null,
            "right": null,
            "top": null,
            "visibility": null,
            "width": null
          }
        },
        "d5aca15e788b40e89e4c7d18dca5caaf": {
          "model_module": "@jupyter-widgets/controls",
          "model_module_version": "1.5.0",
          "model_name": "DescriptionStyleModel",
          "state": {
            "_model_module": "@jupyter-widgets/controls",
            "_model_module_version": "1.5.0",
            "_model_name": "DescriptionStyleModel",
            "_view_count": null,
            "_view_module": "@jupyter-widgets/base",
            "_view_module_version": "1.2.0",
            "_view_name": "StyleView",
            "description_width": ""
          }
        },
        "d9394095a5024c77a939bca2371afadd": {
          "model_module": "@jupyter-widgets/base",
          "model_module_version": "1.2.0",
          "model_name": "LayoutModel",
          "state": {
            "_model_module": "@jupyter-widgets/base",
            "_model_module_version": "1.2.0",
            "_model_name": "LayoutModel",
            "_view_count": null,
            "_view_module": "@jupyter-widgets/base",
            "_view_module_version": "1.2.0",
            "_view_name": "LayoutView",
            "align_content": null,
            "align_items": null,
            "align_self": null,
            "border": null,
            "bottom": null,
            "display": null,
            "flex": null,
            "flex_flow": null,
            "grid_area": null,
            "grid_auto_columns": null,
            "grid_auto_flow": null,
            "grid_auto_rows": null,
            "grid_column": null,
            "grid_gap": null,
            "grid_row": null,
            "grid_template_areas": null,
            "grid_template_columns": null,
            "grid_template_rows": null,
            "height": null,
            "justify_content": null,
            "justify_items": null,
            "left": null,
            "margin": null,
            "max_height": null,
            "max_width": null,
            "min_height": null,
            "min_width": null,
            "object_fit": null,
            "object_position": null,
            "order": null,
            "overflow": null,
            "overflow_x": null,
            "overflow_y": null,
            "padding": null,
            "right": null,
            "top": null,
            "visibility": null,
            "width": null
          }
        },
        "e5a1c03a51b242b28a10e3cf3e8f2693": {
          "model_module": "@jupyter-widgets/controls",
          "model_module_version": "1.5.0",
          "model_name": "HBoxModel",
          "state": {
            "_dom_classes": [],
            "_model_module": "@jupyter-widgets/controls",
            "_model_module_version": "1.5.0",
            "_model_name": "HBoxModel",
            "_view_count": null,
            "_view_module": "@jupyter-widgets/controls",
            "_view_module_version": "1.5.0",
            "_view_name": "HBoxView",
            "box_style": "",
            "children": [
              "IPY_MODEL_34c36b35e39e4689b70f8fce647928e3",
              "IPY_MODEL_983ae3fb12e143d4b110df33098a942a",
              "IPY_MODEL_a1d2b2d891d3405db00d21031a9e192e"
            ],
            "layout": "IPY_MODEL_d9394095a5024c77a939bca2371afadd"
          }
        },
        "e87866db370f4642a640133965bf8c08": {
          "model_module": "@jupyter-widgets/controls",
          "model_module_version": "1.5.0",
          "model_name": "ProgressStyleModel",
          "state": {
            "_model_module": "@jupyter-widgets/controls",
            "_model_module_version": "1.5.0",
            "_model_name": "ProgressStyleModel",
            "_view_count": null,
            "_view_module": "@jupyter-widgets/base",
            "_view_module_version": "1.2.0",
            "_view_name": "StyleView",
            "bar_color": null,
            "description_width": ""
          }
        },
        "ecc335e5ec6244dda57159fa26ba7fe6": {
          "model_module": "@jupyter-widgets/controls",
          "model_module_version": "1.5.0",
          "model_name": "DescriptionStyleModel",
          "state": {
            "_model_module": "@jupyter-widgets/controls",
            "_model_module_version": "1.5.0",
            "_model_name": "DescriptionStyleModel",
            "_view_count": null,
            "_view_module": "@jupyter-widgets/base",
            "_view_module_version": "1.2.0",
            "_view_name": "StyleView",
            "description_width": ""
          }
        },
        "f2c699efb22d409390731de12cee3e27": {
          "model_module": "@jupyter-widgets/base",
          "model_module_version": "1.2.0",
          "model_name": "LayoutModel",
          "state": {
            "_model_module": "@jupyter-widgets/base",
            "_model_module_version": "1.2.0",
            "_model_name": "LayoutModel",
            "_view_count": null,
            "_view_module": "@jupyter-widgets/base",
            "_view_module_version": "1.2.0",
            "_view_name": "LayoutView",
            "align_content": null,
            "align_items": null,
            "align_self": null,
            "border": null,
            "bottom": null,
            "display": null,
            "flex": null,
            "flex_flow": null,
            "grid_area": null,
            "grid_auto_columns": null,
            "grid_auto_flow": null,
            "grid_auto_rows": null,
            "grid_column": null,
            "grid_gap": null,
            "grid_row": null,
            "grid_template_areas": null,
            "grid_template_columns": null,
            "grid_template_rows": null,
            "height": null,
            "justify_content": null,
            "justify_items": null,
            "left": null,
            "margin": null,
            "max_height": null,
            "max_width": null,
            "min_height": null,
            "min_width": null,
            "object_fit": null,
            "object_position": null,
            "order": null,
            "overflow": null,
            "overflow_x": null,
            "overflow_y": null,
            "padding": null,
            "right": null,
            "top": null,
            "visibility": null,
            "width": null
          }
        },
        "f2ca68e75fb34f159a9161ec7a5ffef3": {
          "model_module": "@jupyter-widgets/controls",
          "model_module_version": "1.5.0",
          "model_name": "HTMLModel",
          "state": {
            "_dom_classes": [],
            "_model_module": "@jupyter-widgets/controls",
            "_model_module_version": "1.5.0",
            "_model_name": "HTMLModel",
            "_view_count": null,
            "_view_module": "@jupyter-widgets/controls",
            "_view_module_version": "1.5.0",
            "_view_name": "HTMLView",
            "description": "",
            "description_tooltip": null,
            "layout": "IPY_MODEL_f44860c0924a46e6b4d5c0dacd7aa3e3",
            "placeholder": "​",
            "style": "IPY_MODEL_32cb923e411a4bd99db51cefb7dc51bf",
            "value": "Downloading: 100%"
          }
        },
        "f44860c0924a46e6b4d5c0dacd7aa3e3": {
          "model_module": "@jupyter-widgets/base",
          "model_module_version": "1.2.0",
          "model_name": "LayoutModel",
          "state": {
            "_model_module": "@jupyter-widgets/base",
            "_model_module_version": "1.2.0",
            "_model_name": "LayoutModel",
            "_view_count": null,
            "_view_module": "@jupyter-widgets/base",
            "_view_module_version": "1.2.0",
            "_view_name": "LayoutView",
            "align_content": null,
            "align_items": null,
            "align_self": null,
            "border": null,
            "bottom": null,
            "display": null,
            "flex": null,
            "flex_flow": null,
            "grid_area": null,
            "grid_auto_columns": null,
            "grid_auto_flow": null,
            "grid_auto_rows": null,
            "grid_column": null,
            "grid_gap": null,
            "grid_row": null,
            "grid_template_areas": null,
            "grid_template_columns": null,
            "grid_template_rows": null,
            "height": null,
            "justify_content": null,
            "justify_items": null,
            "left": null,
            "margin": null,
            "max_height": null,
            "max_width": null,
            "min_height": null,
            "min_width": null,
            "object_fit": null,
            "object_position": null,
            "order": null,
            "overflow": null,
            "overflow_x": null,
            "overflow_y": null,
            "padding": null,
            "right": null,
            "top": null,
            "visibility": null,
            "width": null
          }
        },
        "31442077641a41e9892fdc10586e3875": {
          "model_module": "@jupyter-widgets/controls",
          "model_name": "HBoxModel",
          "model_module_version": "1.5.0",
          "state": {
            "_dom_classes": [],
            "_model_module": "@jupyter-widgets/controls",
            "_model_module_version": "1.5.0",
            "_model_name": "HBoxModel",
            "_view_count": null,
            "_view_module": "@jupyter-widgets/controls",
            "_view_module_version": "1.5.0",
            "_view_name": "HBoxView",
            "box_style": "",
            "children": [
              "IPY_MODEL_2cfd09981c324487a07a46c4255033f8",
              "IPY_MODEL_ce195724ae354a3cb730624afe5247c7",
              "IPY_MODEL_f466bebb498d4774aff78736a234311b"
            ],
            "layout": "IPY_MODEL_c8e07b82187c40d2b4f93a9715abd30b"
          }
        },
        "2cfd09981c324487a07a46c4255033f8": {
          "model_module": "@jupyter-widgets/controls",
          "model_name": "HTMLModel",
          "model_module_version": "1.5.0",
          "state": {
            "_dom_classes": [],
            "_model_module": "@jupyter-widgets/controls",
            "_model_module_version": "1.5.0",
            "_model_name": "HTMLModel",
            "_view_count": null,
            "_view_module": "@jupyter-widgets/controls",
            "_view_module_version": "1.5.0",
            "_view_name": "HTMLView",
            "description": "",
            "description_tooltip": null,
            "layout": "IPY_MODEL_9c2824611b894bb69fedbf52373196b1",
            "placeholder": "​",
            "style": "IPY_MODEL_800bab97941e452d8a93114ea201e24a",
            "value": "Downloading: 100%"
          }
        },
        "ce195724ae354a3cb730624afe5247c7": {
          "model_module": "@jupyter-widgets/controls",
          "model_name": "FloatProgressModel",
          "model_module_version": "1.5.0",
          "state": {
            "_dom_classes": [],
            "_model_module": "@jupyter-widgets/controls",
            "_model_module_version": "1.5.0",
            "_model_name": "FloatProgressModel",
            "_view_count": null,
            "_view_module": "@jupyter-widgets/controls",
            "_view_module_version": "1.5.0",
            "_view_name": "ProgressView",
            "bar_style": "success",
            "description": "",
            "description_tooltip": null,
            "layout": "IPY_MODEL_661231917ed14e06a52f880762c8d088",
            "max": 5363080833,
            "min": 0,
            "orientation": "horizontal",
            "style": "IPY_MODEL_2e426fbfb4984a97ba0229a622bd6c1f",
            "value": 5363080833
          }
        },
        "f466bebb498d4774aff78736a234311b": {
          "model_module": "@jupyter-widgets/controls",
          "model_name": "HTMLModel",
          "model_module_version": "1.5.0",
          "state": {
            "_dom_classes": [],
            "_model_module": "@jupyter-widgets/controls",
            "_model_module_version": "1.5.0",
            "_model_name": "HTMLModel",
            "_view_count": null,
            "_view_module": "@jupyter-widgets/controls",
            "_view_module_version": "1.5.0",
            "_view_name": "HTMLView",
            "description": "",
            "description_tooltip": null,
            "layout": "IPY_MODEL_2885a70d01a14b80a70dff4c1c94063c",
            "placeholder": "​",
            "style": "IPY_MODEL_b1bd1d40a83e4eb782a10f87fbb20084",
            "value": " 5.36G/5.36G [01:25&lt;00:00, 64.5MB/s]"
          }
        },
        "c8e07b82187c40d2b4f93a9715abd30b": {
          "model_module": "@jupyter-widgets/base",
          "model_name": "LayoutModel",
          "model_module_version": "1.2.0",
          "state": {
            "_model_module": "@jupyter-widgets/base",
            "_model_module_version": "1.2.0",
            "_model_name": "LayoutModel",
            "_view_count": null,
            "_view_module": "@jupyter-widgets/base",
            "_view_module_version": "1.2.0",
            "_view_name": "LayoutView",
            "align_content": null,
            "align_items": null,
            "align_self": null,
            "border": null,
            "bottom": null,
            "display": null,
            "flex": null,
            "flex_flow": null,
            "grid_area": null,
            "grid_auto_columns": null,
            "grid_auto_flow": null,
            "grid_auto_rows": null,
            "grid_column": null,
            "grid_gap": null,
            "grid_row": null,
            "grid_template_areas": null,
            "grid_template_columns": null,
            "grid_template_rows": null,
            "height": null,
            "justify_content": null,
            "justify_items": null,
            "left": null,
            "margin": null,
            "max_height": null,
            "max_width": null,
            "min_height": null,
            "min_width": null,
            "object_fit": null,
            "object_position": null,
            "order": null,
            "overflow": null,
            "overflow_x": null,
            "overflow_y": null,
            "padding": null,
            "right": null,
            "top": null,
            "visibility": null,
            "width": null
          }
        },
        "9c2824611b894bb69fedbf52373196b1": {
          "model_module": "@jupyter-widgets/base",
          "model_name": "LayoutModel",
          "model_module_version": "1.2.0",
          "state": {
            "_model_module": "@jupyter-widgets/base",
            "_model_module_version": "1.2.0",
            "_model_name": "LayoutModel",
            "_view_count": null,
            "_view_module": "@jupyter-widgets/base",
            "_view_module_version": "1.2.0",
            "_view_name": "LayoutView",
            "align_content": null,
            "align_items": null,
            "align_self": null,
            "border": null,
            "bottom": null,
            "display": null,
            "flex": null,
            "flex_flow": null,
            "grid_area": null,
            "grid_auto_columns": null,
            "grid_auto_flow": null,
            "grid_auto_rows": null,
            "grid_column": null,
            "grid_gap": null,
            "grid_row": null,
            "grid_template_areas": null,
            "grid_template_columns": null,
            "grid_template_rows": null,
            "height": null,
            "justify_content": null,
            "justify_items": null,
            "left": null,
            "margin": null,
            "max_height": null,
            "max_width": null,
            "min_height": null,
            "min_width": null,
            "object_fit": null,
            "object_position": null,
            "order": null,
            "overflow": null,
            "overflow_x": null,
            "overflow_y": null,
            "padding": null,
            "right": null,
            "top": null,
            "visibility": null,
            "width": null
          }
        },
        "800bab97941e452d8a93114ea201e24a": {
          "model_module": "@jupyter-widgets/controls",
          "model_name": "DescriptionStyleModel",
          "model_module_version": "1.5.0",
          "state": {
            "_model_module": "@jupyter-widgets/controls",
            "_model_module_version": "1.5.0",
            "_model_name": "DescriptionStyleModel",
            "_view_count": null,
            "_view_module": "@jupyter-widgets/base",
            "_view_module_version": "1.2.0",
            "_view_name": "StyleView",
            "description_width": ""
          }
        },
        "661231917ed14e06a52f880762c8d088": {
          "model_module": "@jupyter-widgets/base",
          "model_name": "LayoutModel",
          "model_module_version": "1.2.0",
          "state": {
            "_model_module": "@jupyter-widgets/base",
            "_model_module_version": "1.2.0",
            "_model_name": "LayoutModel",
            "_view_count": null,
            "_view_module": "@jupyter-widgets/base",
            "_view_module_version": "1.2.0",
            "_view_name": "LayoutView",
            "align_content": null,
            "align_items": null,
            "align_self": null,
            "border": null,
            "bottom": null,
            "display": null,
            "flex": null,
            "flex_flow": null,
            "grid_area": null,
            "grid_auto_columns": null,
            "grid_auto_flow": null,
            "grid_auto_rows": null,
            "grid_column": null,
            "grid_gap": null,
            "grid_row": null,
            "grid_template_areas": null,
            "grid_template_columns": null,
            "grid_template_rows": null,
            "height": null,
            "justify_content": null,
            "justify_items": null,
            "left": null,
            "margin": null,
            "max_height": null,
            "max_width": null,
            "min_height": null,
            "min_width": null,
            "object_fit": null,
            "object_position": null,
            "order": null,
            "overflow": null,
            "overflow_x": null,
            "overflow_y": null,
            "padding": null,
            "right": null,
            "top": null,
            "visibility": null,
            "width": null
          }
        },
        "2e426fbfb4984a97ba0229a622bd6c1f": {
          "model_module": "@jupyter-widgets/controls",
          "model_name": "ProgressStyleModel",
          "model_module_version": "1.5.0",
          "state": {
            "_model_module": "@jupyter-widgets/controls",
            "_model_module_version": "1.5.0",
            "_model_name": "ProgressStyleModel",
            "_view_count": null,
            "_view_module": "@jupyter-widgets/base",
            "_view_module_version": "1.2.0",
            "_view_name": "StyleView",
            "bar_color": null,
            "description_width": ""
          }
        },
        "2885a70d01a14b80a70dff4c1c94063c": {
          "model_module": "@jupyter-widgets/base",
          "model_name": "LayoutModel",
          "model_module_version": "1.2.0",
          "state": {
            "_model_module": "@jupyter-widgets/base",
            "_model_module_version": "1.2.0",
            "_model_name": "LayoutModel",
            "_view_count": null,
            "_view_module": "@jupyter-widgets/base",
            "_view_module_version": "1.2.0",
            "_view_name": "LayoutView",
            "align_content": null,
            "align_items": null,
            "align_self": null,
            "border": null,
            "bottom": null,
            "display": null,
            "flex": null,
            "flex_flow": null,
            "grid_area": null,
            "grid_auto_columns": null,
            "grid_auto_flow": null,
            "grid_auto_rows": null,
            "grid_column": null,
            "grid_gap": null,
            "grid_row": null,
            "grid_template_areas": null,
            "grid_template_columns": null,
            "grid_template_rows": null,
            "height": null,
            "justify_content": null,
            "justify_items": null,
            "left": null,
            "margin": null,
            "max_height": null,
            "max_width": null,
            "min_height": null,
            "min_width": null,
            "object_fit": null,
            "object_position": null,
            "order": null,
            "overflow": null,
            "overflow_x": null,
            "overflow_y": null,
            "padding": null,
            "right": null,
            "top": null,
            "visibility": null,
            "width": null
          }
        },
        "b1bd1d40a83e4eb782a10f87fbb20084": {
          "model_module": "@jupyter-widgets/controls",
          "model_name": "DescriptionStyleModel",
          "model_module_version": "1.5.0",
          "state": {
            "_model_module": "@jupyter-widgets/controls",
            "_model_module_version": "1.5.0",
            "_model_name": "DescriptionStyleModel",
            "_view_count": null,
            "_view_module": "@jupyter-widgets/base",
            "_view_module_version": "1.2.0",
            "_view_name": "StyleView",
            "description_width": ""
          }
        }
      }
    }
  },
  "nbformat": 4,
  "nbformat_minor": 0
}